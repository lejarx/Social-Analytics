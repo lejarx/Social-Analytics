{
 "cells": [
  {
   "cell_type": "markdown",
   "metadata": {
    "toc": true
   },
   "source": [
    "<h1>Table of Contents<span class=\"tocSkip\"></span></h1>\n",
    "<div class=\"toc\"><ul class=\"toc-item\"><li><span><a href=\"#Setting-up-Environment\" data-toc-modified-id=\"Setting-up-Environment-1\"><span class=\"toc-item-num\">1&nbsp;&nbsp;</span>Setting up Environment</a></span></li><li><span><a href=\"#Initializing-Storage-Variables\" data-toc-modified-id=\"Initializing-Storage-Variables-2\"><span class=\"toc-item-num\">2&nbsp;&nbsp;</span>Initializing Storage Variables</a></span></li><li><span><a href=\"#Wikipedia-Scraping\" data-toc-modified-id=\"Wikipedia-Scraping-3\"><span class=\"toc-item-num\">3&nbsp;&nbsp;</span>Wikipedia Scraping</a></span><ul class=\"toc-item\"><li><span><a href=\"#Extrating-Chinese-food-names\" data-toc-modified-id=\"Extrating-Chinese-food-names-3.1\"><span class=\"toc-item-num\">3.1&nbsp;&nbsp;</span>Extrating Chinese food names</a></span></li><li><span><a href=\"#Extracting-all-other-cuisines\" data-toc-modified-id=\"Extracting-all-other-cuisines-3.2\"><span class=\"toc-item-num\">3.2&nbsp;&nbsp;</span>Extracting all other cuisines</a></span></li><li><span><a href=\"#Data-Cleaning\" data-toc-modified-id=\"Data-Cleaning-3.3\"><span class=\"toc-item-num\">3.3&nbsp;&nbsp;</span>Data Cleaning</a></span></li><li><span><a href=\"#Exporting-Corpus\" data-toc-modified-id=\"Exporting-Corpus-3.4\"><span class=\"toc-item-num\">3.4&nbsp;&nbsp;</span>Exporting Corpus</a></span></li></ul></li><li><span><a href=\"#Importing-Dataset\" data-toc-modified-id=\"Importing-Dataset-4\"><span class=\"toc-item-num\">4&nbsp;&nbsp;</span>Importing Dataset</a></span><ul class=\"toc-item\"><li><span><a href=\"#Data-Pre-processing\" data-toc-modified-id=\"Data-Pre-processing-4.1\"><span class=\"toc-item-num\">4.1&nbsp;&nbsp;</span>Data Pre-processing</a></span></li></ul></li></ul></div>"
   ]
  },
  {
   "cell_type": "markdown",
   "metadata": {},
   "source": [
    "# Setting up Environment"
   ]
  },
  {
   "cell_type": "code",
   "execution_count": 158,
   "metadata": {},
   "outputs": [],
   "source": [
    "import pandas as pd\n",
    "import numpy as np\n",
    "# import matplotlib.pyplot as plt\n",
    "import wikipedia"
   ]
  },
  {
   "cell_type": "markdown",
   "metadata": {},
   "source": [
    "# Initializing Storage Variables"
   ]
  },
  {
   "cell_type": "code",
   "execution_count": 159,
   "metadata": {},
   "outputs": [
    {
     "data": {
      "text/html": [
       "<div>\n",
       "<style scoped>\n",
       "    .dataframe tbody tr th:only-of-type {\n",
       "        vertical-align: middle;\n",
       "    }\n",
       "\n",
       "    .dataframe tbody tr th {\n",
       "        vertical-align: top;\n",
       "    }\n",
       "\n",
       "    .dataframe thead th {\n",
       "        text-align: right;\n",
       "    }\n",
       "</style>\n",
       "<table border=\"1\" class=\"dataframe\">\n",
       "  <thead>\n",
       "    <tr style=\"text-align: right;\">\n",
       "      <th></th>\n",
       "      <th>Food</th>\n",
       "      <th>Cuisine</th>\n",
       "    </tr>\n",
       "  </thead>\n",
       "  <tbody>\n",
       "  </tbody>\n",
       "</table>\n",
       "</div>"
      ],
      "text/plain": [
       "Empty DataFrame\n",
       "Columns: [Food, Cuisine]\n",
       "Index: []"
      ]
     },
     "execution_count": 159,
     "metadata": {},
     "output_type": "execute_result"
    }
   ],
   "source": [
    "df_corpus = pd.DataFrame(columns=[\"Food\", \"Cuisine\"])\n",
    "df_corpus"
   ]
  },
  {
   "cell_type": "code",
   "execution_count": 160,
   "metadata": {},
   "outputs": [],
   "source": [
    "cuisines = [\"Chinese\", \"Malay\", \"Indian\", \"Cross-cultural\",\n",
    "            \"Seafood\", \"Fruit\", \"Desserts\", \"Drinks and beverages\"]"
   ]
  },
  {
   "cell_type": "markdown",
   "metadata": {},
   "source": [
    "# Wikipedia Scraping\n",
    "Documentation at https://wikipedia.readthedocs.io/en/latest/code.html"
   ]
  },
  {
   "cell_type": "code",
   "execution_count": 161,
   "metadata": {},
   "outputs": [],
   "source": [
    "wiki = wikipedia.page(\"Singaporean cuisine\")\n",
    "links = wiki.links"
   ]
  },
  {
   "cell_type": "code",
   "execution_count": 162,
   "metadata": {},
   "outputs": [
    {
     "data": {
      "text/plain": [
       "[]"
      ]
     },
     "execution_count": 162,
     "metadata": {},
     "output_type": "execute_result"
    }
   ],
   "source": [
    "wiki.sections"
   ]
  },
  {
   "cell_type": "markdown",
   "metadata": {},
   "source": [
    "## Extrating Chinese food names"
   ]
  },
  {
   "cell_type": "code",
   "execution_count": 163,
   "metadata": {
    "scrolled": true
   },
   "outputs": [
    {
     "data": {
      "text/plain": [
       "'The dishes that comprise \"Singaporean Chinese cuisine\" today were originally brought to Singapore by the early southern Chinese immigrants (Hokkien, Teochew, Cantonese, Hakka and Hainanese). They were then adapted to suit the local availability of ingredients, while absorbing influences from Malay, Indian and other cooking traditions.\\nMost of the names of Singaporean Chinese dishes were derived from dialects of southern China, Hokkien (Min Nan) being the most common. As there was no common system for transliterating these dialects into the Latin alphabet, it is common to see different variants on the same name for a single dish. For example, bah kut teh may also be spelt bak kut teh, and char kway tiao may also be spelt char kuay teow.\\n\\nBak kut teh (肉骨茶; ròu gǔ chá), pork rib soup made with a variety of Chinese herbs and spices.\\nBeef kway teow (牛肉粿条; niú ròu guǒ tiáo), flat rice noodles stir-fried with beef, served dry or with soup.\\nBak chang (肉粽; ròu zòng), glutinous rice dumplings, usually filled with pork, mushrooms and stewed egg, steamed in bamboo leaves. Although it is Chinese in origin, it is also a favourite in Peranakan cuisine.\\nBak Chor Mee (肉脞面; roù cuò miàn; \\'minced pork noodles\\'), egg noodles with minced pork, braised mushroom, pork meatball and other ingredients, served dry or in soup. Usually the flat, tape-like mee pok noodle is used.\\nBan mian (板面; bǎn miàn), hand-made flat noodles served with vegetables, minced meat, sliced mushrooms, and an egg in an anchovy-based soup. Noodle variations are common. \"Ban mian\" refers to flat, long noodles; \"mee hoon kuay\" (米粉粿; mí fěn guǒ; \\'rice vermicelli cake\\') refers to flat, rectangular noodles; \"you mian\" (幼面; yòu miàn; \\'thin noodles\\') refers to thin noodles.\\nChai tow kway (菜头粿; cài tóu guǒ), also known as char kway (炒粿; chǎo guǒ) or carrot cake, is a dish of steamed radish/daikon cakes diced and stir-fried with garlic, egg, chopped preserved radish, and sometimes with shrimp. This dish comes in black (fried with sweet dark soy sauce) or white (fried into an omelette) versions, with a chilli paste sometimes added.\\nChar kway teow (炒粿条; chǎo guǒ tiáo), thick, flat rice noodles stir-fried in dark soy sauce with shrimp, eggs, beansprouts, fish cake, cockles, green leafy vegetables, Chinese sausage and fried cubes of lard.\\nChar siu (叉烧; chā shāo), also romanised cha-su, cha siu, cha sio, caa siu and char siew, is barbecued pork in Cantonese cuisine.\\nChicken noodles is an egg noodle dish with diced chicken meat.\\nCrab bee hoon (螃蟹米粉; páng xiè mí fěn) is a rice vermicelli dish served with whole mud crab. It may be served dry or in soup and sometimes in a claypot.\\nDrunken prawns (醉虾; zuì xiā), prawns cooked with rice wine.\\nDuck rice (鸭饭; yā fàn), braised duck served with rice cooked with yam and shrimp. It can be served simply with white rice and a thick dark sauce, or with braised hard-boiled eggs, preserved salted vegetables, and hard bean curd (tau kua) on the side. Teochew boneless duck rice is a similar, but a more refined dish. The duck is deboned and sliced thinly, allowing the sauces to seep into the meat. Roasted duck rice is also commonly sold.\\nFish ball noodles (鱼丸面; yú wán miàn), similar to bak chor mee, except that fish balls are used instead of minced pork.\\nFish soup bee hoon (鱼片米粉; yú piàn mí fěn) is a Singaporean soup-based served hot with bee hoon.\\nFrog Leg porridge (田鸡粥; tían jī zhōu) is served with frog legs, scallion, ginger and thick black sauce in a claypot with porridge in another claypot.\\nHae mee (虾面; xiā miàn), stir-fried prawn noodles cooked in a broth made from prawn heads and pork bones, topped with ingredients such as prawns, sliced pork belly, squid, egg, lard, and served with sambal chilli and lime at the side.\\nHainanese chicken rice (海南鸡饭; Hǎinán jī fàn) is based on the Hainanese dish Wenchang chicken. It is considered Singapore\\'s national dish.\\nHainanese curry rice is a dish consisting of steamed white rice smothered in a mess of curries and braised gravy.\\nHar cheong gai (虾酱鸡; xiā jiàng jī; \\'shrimp paste chicken\\'), chicken wings fried in a batter with fermented shrimp paste.\\nHokkien mee (福建面; Fújiàn miàn), egg noodles and rice noodles stir-fried with egg, slices of pork, prawns and squid, and served and garnished with spring onion, lard, sambal chilli and lime (for adding lime juice to the dish).\\nHum chim peng (咸煎饼; xián jiān bǐng), a deep-fried bun-like pastry sometimes filled with bean paste.\\nKaya toast, a traditional breakfast dish. Kaya is a sweet coconut and egg jam which is spread over toasted bread. Combined with a cup of local coffee and a half-boiled egg, this constitutes a typical Singaporean breakfast.\\nKuay chap / kway chap (粿汁; guǒ zhī), a Teochew dish of flat, broad rice sheets in a soup made with dark soy sauce, served with pig offal, braised duck meat, various kinds of beancurd, preserved salted vegetables, and braised hard-boiled eggs.\\nMee pok (面薄; miàn báo), a noodle dish characterised by its flat and yellow appearance, varying in thickness and width.\\nMin chiang kueh (面煎粿; miàn jiān guǒ), a thick, chewy pancake with a ground peanut and sugar filling. Other variations include grated coconut and red bean paste. This traditional snack also is served in blueberry, cheese and chocolate varieties.\\nPig\\'s brain soup (猪脑汤; zhū nǎo tāng), a soup dish comprising pig brain with Chinese herbs.\\nPig fallopian tubes, a dish comprising stir-fried pig Fallopian tubes with vegetables and sambal chilli.\\nPig\\'s organ soup (猪杂汤; zhū zá tāng; \\'pig spare parts soup\\'), a soup-based variant of kuay chap\\nPig\\'s trotters usually braised in black sauce and vinegar.\\nPopiah (薄饼; báo bǐng), Hokkien/Teochew-style spring roll or rolled crêpe, stuffed with stewed turnip, Chinese sausage, shrimp and lettuce.\\nShredded chicken noodles (鸡丝面; jī sī miàn), a noodles dish topped with shredded chicken, fish dumpling and mushroom.\\nSliced fish soup (鱼片汤; yú piàn tāng), a soup dish consisting of fish and vegetables.\\nSoon kway (笋粿; sǔn guǒ), a white vegetable dumpling with black soy sauce.\\nTeochew porridge (潮州粥; Cháozhōu zhōu), a rice porridge dish consumed with a selection of local side dishes.\\nTurtle soup (乌龟汤; wū guī tāng), a soup or stew made from turtle flesh.\\nVegetarian bee hoon (斋米粉; zhāi mǐ fěn), thin braised rice vermicelli to which a choice of various gluten, vegetable, or beancurd-based delicacies may be added.\\nYong Tau Foo (酿豆腐; niàng dòu fǔ), a dish that contains a varied selection of food items, including tofu filled with ground meat mixture or fish paste, fish balls, crab sticks, an assortment of vegetables and meat.\\nYoutiao (油条; yóu tiáo), also called yew char kueh (油炸粿; yóu zhá guǒ), fried dough crullers similar to those served in other Chinese cuisines around the world.'"
      ]
     },
     "execution_count": 163,
     "metadata": {},
     "output_type": "execute_result"
    }
   ],
   "source": [
    "txt_chinese = wiki.section(\"Chinese\") #section(section_title)\n",
    "txt_chinese"
   ]
  },
  {
   "cell_type": "code",
   "execution_count": 164,
   "metadata": {},
   "outputs": [
    {
     "data": {
      "text/plain": [
       "6763"
      ]
     },
     "execution_count": 164,
     "metadata": {},
     "output_type": "execute_result"
    }
   ],
   "source": [
    "len(txt_chinese)"
   ]
  },
  {
   "cell_type": "code",
   "execution_count": 165,
   "metadata": {},
   "outputs": [],
   "source": [
    "def get_corpus(txt, start_chars, end_chars):\n",
    "    start, end = 0, 0\n",
    "    corpus = []\n",
    "    new = False\n",
    "    for i in range(len(txt)):\n",
    "        if txt[i] in start_chars:\n",
    "            start = i+1 # start of food name just after start_char\n",
    "            new = True # found start of new word flag\n",
    "        if txt[i] in end_chars:\n",
    "            end = i # end of food name, non inclusive of txt[i]\n",
    "        if new and end > start:\n",
    "            while txt[start] == \" \":\n",
    "                start += 1 # remove space at start\n",
    "            while txt[end-1] == \" \":\n",
    "                end -= 1 # remove space at end\n",
    "            corpus.append(txt[start: end].lower()) # change to lower case\n",
    "            new = False # word copied out, prevents duplicates\n",
    "    return corpus"
   ]
  },
  {
   "cell_type": "markdown",
   "metadata": {},
   "source": [
    "We notice that Chinese cuisine is the only cuisine where all food names are bounded by ```'\\n'``` and ```'('``` characters, (eg. \\nSliced fish soup (鱼片汤; yú piàn tāng)) we shall extract it step by step as an example."
   ]
  },
  {
   "cell_type": "code",
   "execution_count": 166,
   "metadata": {
    "scrolled": true
   },
   "outputs": [
    {
     "data": {
      "text/plain": [
       "['most of the names of singaporean chinese dishes were derived from dialects of southern china, hokkien',\n",
       " 'bak kut teh',\n",
       " 'beef kway teow',\n",
       " 'bak chang',\n",
       " 'bak chor mee',\n",
       " 'ban mian',\n",
       " 'chai tow kway',\n",
       " 'char kway teow',\n",
       " 'char siu',\n",
       " 'crab bee hoon',\n",
       " 'drunken prawns',\n",
       " 'duck rice',\n",
       " 'fish ball noodles',\n",
       " 'fish soup bee hoon',\n",
       " 'frog leg porridge',\n",
       " 'hae mee',\n",
       " 'hainanese chicken rice',\n",
       " 'har cheong gai',\n",
       " 'hokkien mee',\n",
       " 'hum chim peng',\n",
       " 'kuay chap',\n",
       " 'mee pok',\n",
       " 'min chiang kueh',\n",
       " \"pig's brain soup\",\n",
       " \"pig's organ soup\",\n",
       " 'popiah',\n",
       " 'shredded chicken noodles',\n",
       " 'sliced fish soup',\n",
       " 'soon kway',\n",
       " 'teochew porridge',\n",
       " 'turtle soup',\n",
       " 'vegetarian bee hoon',\n",
       " 'yong tau foo',\n",
       " 'youtiao']"
      ]
     },
     "execution_count": 166,
     "metadata": {},
     "output_type": "execute_result"
    }
   ],
   "source": [
    "corpus_chinese = get_corpus(txt_chinese, ['\\n'], ['(', '/'])\n",
    "corpus_chinese"
   ]
  },
  {
   "cell_type": "code",
   "execution_count": 167,
   "metadata": {},
   "outputs": [
    {
     "name": "stdout",
     "output_type": "stream",
     "text": [
      "33\n"
     ]
    }
   ],
   "source": [
    "corpus_chinese = corpus_chinese[1:]\n",
    "corpus_chinese_size = len(corpus_chinese)\n",
    "print(corpus_chinese_size)"
   ]
  },
  {
   "cell_type": "code",
   "execution_count": 168,
   "metadata": {
    "scrolled": true
   },
   "outputs": [
    {
     "data": {
      "text/html": [
       "<div>\n",
       "<style scoped>\n",
       "    .dataframe tbody tr th:only-of-type {\n",
       "        vertical-align: middle;\n",
       "    }\n",
       "\n",
       "    .dataframe tbody tr th {\n",
       "        vertical-align: top;\n",
       "    }\n",
       "\n",
       "    .dataframe thead th {\n",
       "        text-align: right;\n",
       "    }\n",
       "</style>\n",
       "<table border=\"1\" class=\"dataframe\">\n",
       "  <thead>\n",
       "    <tr style=\"text-align: right;\">\n",
       "      <th></th>\n",
       "      <th>Food</th>\n",
       "      <th>Cuisine</th>\n",
       "    </tr>\n",
       "  </thead>\n",
       "  <tbody>\n",
       "    <tr>\n",
       "      <th>0</th>\n",
       "      <td>bak kut teh</td>\n",
       "      <td>Chinese</td>\n",
       "    </tr>\n",
       "    <tr>\n",
       "      <th>1</th>\n",
       "      <td>beef kway teow</td>\n",
       "      <td>Chinese</td>\n",
       "    </tr>\n",
       "    <tr>\n",
       "      <th>2</th>\n",
       "      <td>bak chang</td>\n",
       "      <td>Chinese</td>\n",
       "    </tr>\n",
       "    <tr>\n",
       "      <th>3</th>\n",
       "      <td>bak chor mee</td>\n",
       "      <td>Chinese</td>\n",
       "    </tr>\n",
       "    <tr>\n",
       "      <th>4</th>\n",
       "      <td>ban mian</td>\n",
       "      <td>Chinese</td>\n",
       "    </tr>\n",
       "    <tr>\n",
       "      <th>5</th>\n",
       "      <td>chai tow kway</td>\n",
       "      <td>Chinese</td>\n",
       "    </tr>\n",
       "    <tr>\n",
       "      <th>6</th>\n",
       "      <td>char kway teow</td>\n",
       "      <td>Chinese</td>\n",
       "    </tr>\n",
       "    <tr>\n",
       "      <th>7</th>\n",
       "      <td>char siu</td>\n",
       "      <td>Chinese</td>\n",
       "    </tr>\n",
       "    <tr>\n",
       "      <th>8</th>\n",
       "      <td>crab bee hoon</td>\n",
       "      <td>Chinese</td>\n",
       "    </tr>\n",
       "    <tr>\n",
       "      <th>9</th>\n",
       "      <td>drunken prawns</td>\n",
       "      <td>Chinese</td>\n",
       "    </tr>\n",
       "    <tr>\n",
       "      <th>10</th>\n",
       "      <td>duck rice</td>\n",
       "      <td>Chinese</td>\n",
       "    </tr>\n",
       "    <tr>\n",
       "      <th>11</th>\n",
       "      <td>fish ball noodles</td>\n",
       "      <td>Chinese</td>\n",
       "    </tr>\n",
       "    <tr>\n",
       "      <th>12</th>\n",
       "      <td>fish soup bee hoon</td>\n",
       "      <td>Chinese</td>\n",
       "    </tr>\n",
       "    <tr>\n",
       "      <th>13</th>\n",
       "      <td>frog leg porridge</td>\n",
       "      <td>Chinese</td>\n",
       "    </tr>\n",
       "    <tr>\n",
       "      <th>14</th>\n",
       "      <td>hae mee</td>\n",
       "      <td>Chinese</td>\n",
       "    </tr>\n",
       "    <tr>\n",
       "      <th>15</th>\n",
       "      <td>hainanese chicken rice</td>\n",
       "      <td>Chinese</td>\n",
       "    </tr>\n",
       "    <tr>\n",
       "      <th>16</th>\n",
       "      <td>har cheong gai</td>\n",
       "      <td>Chinese</td>\n",
       "    </tr>\n",
       "    <tr>\n",
       "      <th>17</th>\n",
       "      <td>hokkien mee</td>\n",
       "      <td>Chinese</td>\n",
       "    </tr>\n",
       "    <tr>\n",
       "      <th>18</th>\n",
       "      <td>hum chim peng</td>\n",
       "      <td>Chinese</td>\n",
       "    </tr>\n",
       "    <tr>\n",
       "      <th>19</th>\n",
       "      <td>kuay chap</td>\n",
       "      <td>Chinese</td>\n",
       "    </tr>\n",
       "    <tr>\n",
       "      <th>20</th>\n",
       "      <td>mee pok</td>\n",
       "      <td>Chinese</td>\n",
       "    </tr>\n",
       "    <tr>\n",
       "      <th>21</th>\n",
       "      <td>min chiang kueh</td>\n",
       "      <td>Chinese</td>\n",
       "    </tr>\n",
       "    <tr>\n",
       "      <th>22</th>\n",
       "      <td>pig's brain soup</td>\n",
       "      <td>Chinese</td>\n",
       "    </tr>\n",
       "    <tr>\n",
       "      <th>23</th>\n",
       "      <td>pig's organ soup</td>\n",
       "      <td>Chinese</td>\n",
       "    </tr>\n",
       "    <tr>\n",
       "      <th>24</th>\n",
       "      <td>popiah</td>\n",
       "      <td>Chinese</td>\n",
       "    </tr>\n",
       "    <tr>\n",
       "      <th>25</th>\n",
       "      <td>shredded chicken noodles</td>\n",
       "      <td>Chinese</td>\n",
       "    </tr>\n",
       "    <tr>\n",
       "      <th>26</th>\n",
       "      <td>sliced fish soup</td>\n",
       "      <td>Chinese</td>\n",
       "    </tr>\n",
       "    <tr>\n",
       "      <th>27</th>\n",
       "      <td>soon kway</td>\n",
       "      <td>Chinese</td>\n",
       "    </tr>\n",
       "    <tr>\n",
       "      <th>28</th>\n",
       "      <td>teochew porridge</td>\n",
       "      <td>Chinese</td>\n",
       "    </tr>\n",
       "    <tr>\n",
       "      <th>29</th>\n",
       "      <td>turtle soup</td>\n",
       "      <td>Chinese</td>\n",
       "    </tr>\n",
       "    <tr>\n",
       "      <th>30</th>\n",
       "      <td>vegetarian bee hoon</td>\n",
       "      <td>Chinese</td>\n",
       "    </tr>\n",
       "    <tr>\n",
       "      <th>31</th>\n",
       "      <td>yong tau foo</td>\n",
       "      <td>Chinese</td>\n",
       "    </tr>\n",
       "    <tr>\n",
       "      <th>32</th>\n",
       "      <td>youtiao</td>\n",
       "      <td>Chinese</td>\n",
       "    </tr>\n",
       "  </tbody>\n",
       "</table>\n",
       "</div>"
      ],
      "text/plain": [
       "                        Food  Cuisine\n",
       "0                bak kut teh  Chinese\n",
       "1             beef kway teow  Chinese\n",
       "2                  bak chang  Chinese\n",
       "3               bak chor mee  Chinese\n",
       "4                   ban mian  Chinese\n",
       "5              chai tow kway  Chinese\n",
       "6             char kway teow  Chinese\n",
       "7                   char siu  Chinese\n",
       "8              crab bee hoon  Chinese\n",
       "9             drunken prawns  Chinese\n",
       "10                 duck rice  Chinese\n",
       "11         fish ball noodles  Chinese\n",
       "12        fish soup bee hoon  Chinese\n",
       "13         frog leg porridge  Chinese\n",
       "14                   hae mee  Chinese\n",
       "15    hainanese chicken rice  Chinese\n",
       "16            har cheong gai  Chinese\n",
       "17               hokkien mee  Chinese\n",
       "18             hum chim peng  Chinese\n",
       "19                 kuay chap  Chinese\n",
       "20                   mee pok  Chinese\n",
       "21           min chiang kueh  Chinese\n",
       "22          pig's brain soup  Chinese\n",
       "23          pig's organ soup  Chinese\n",
       "24                    popiah  Chinese\n",
       "25  shredded chicken noodles  Chinese\n",
       "26          sliced fish soup  Chinese\n",
       "27                 soon kway  Chinese\n",
       "28          teochew porridge  Chinese\n",
       "29               turtle soup  Chinese\n",
       "30       vegetarian bee hoon  Chinese\n",
       "31              yong tau foo  Chinese\n",
       "32                   youtiao  Chinese"
      ]
     },
     "execution_count": 168,
     "metadata": {},
     "output_type": "execute_result"
    }
   ],
   "source": [
    "df_corpus = df_corpus.append(pd.DataFrame({\"Food\":corpus_chinese,\n",
    "                                          \"Cuisine\":[\"Chinese\"]*len(corpus_chinese)}))\n",
    "df_corpus"
   ]
  },
  {
   "cell_type": "markdown",
   "metadata": {},
   "source": [
    "## Extracting all other cuisines\n",
    "\n",
    "By viewing the wikipedia page, it is observed that all other cuisines have food names are bounded by ```'\\n'```, ```','``` and ```'/'``` characters.\n",
    "\n",
    "Similarly, we will expect the section summary to have a substring bounded by the same characters and will need to remove those."
   ]
  },
  {
   "cell_type": "code",
   "execution_count": 169,
   "metadata": {},
   "outputs": [
    {
     "name": "stdout",
     "output_type": "stream",
     "text": [
      "\n",
      " Malay , Corpus size = 27\n",
      "['acar', 'assam pedas', 'ayam penyet', 'bakso', 'begedil', 'curry puff', 'dendeng paru', 'goreng pisang', 'gulai daun ubi', 'keropok', 'ketupat', 'lemak siput', 'lontong', 'nagasari', 'nasi goreng', 'nasi padang', 'otak-otak', 'pecel lele', 'rawon', 'rojak bandung', 'roti john', 'sambal', 'satay', 'sayur lodeh', 'soto', 'soto ayam', 'tumpeng']\n",
      "\n",
      " Indian , Corpus size = 10\n",
      "['appam', 'dosa', 'murtabak', 'naan', 'roti prata', 'soup kambing', 'soup tulang', 'soup tulang merah', 'tandoori chicken', 'vadai']\n",
      "\n",
      " Cross-cultural , Corpus size = 20\n",
      "['ayam buah keluak', 'biryani', 'cereal prawns', 'chili crab pasta', 'curry laksa', 'fish head curry', 'kari debal', 'kari lemak ayam', 'katong laksa', 'kueh pie tee', 'kway teow goreng', 'mee rebus', 'mee siam', 'mee goreng', 'mee soto', 'rojak', 'sambal kangkong', 'satay bee hoon', 'tauhu goreng', '\"western food\" in hawker centres where \"singapore-style\" chicken chop']\n",
      "\n",
      " Seafood , Corpus size = 5\n",
      "['black pepper crab', 'chilli crab', 'oyster omelette', 'sambal lala', 'sambal stingray']\n",
      "\n",
      " Fruit , Corpus size = 1\n",
      "['other popular tropical fruits include mangosteen']\n",
      "\n",
      " Desserts , Corpus size = 10\n",
      "['bubur cha cha', 'chendol', 'cheng tng', 'ice kacang', 'kuih or kueh', 'kueh lapis is a rich', 'lapis sagu is also a popular kueh with layers of alternating colour and a sweet', 'orh-nee', 'pulut hitam', 'tau suan']\n",
      "\n",
      " Drinks and beverages , Corpus size = 9\n",
      "['bandung', 'chin chow drink', 'kopi', 'horlicks', 'milo', 'sugarcane juice', 'teh halia tarik', 'singapore sling', 'yuenyeung coffee']\n"
     ]
    }
   ],
   "source": [
    "for cuisine in cuisines[1:]: # exclude \"Chinese\"\n",
    "    txt = wiki.section(cuisine) #section(section_title)\n",
    "    corpus = get_corpus(txt, ['\\n'], [',', '(', '/'])\n",
    "    print(\"\\n\", cuisine, \", Corpus size =\", len(corpus))\n",
    "    print(corpus)"
   ]
  },
  {
   "cell_type": "markdown",
   "metadata": {},
   "source": [
    "From the results above, we realised that we will only need to remove the summary text (the first element of the corpus) for \"Fruit\", and the last element for \"Cross-cultural\".\n",
    "\n",
    "However, to make our code reusable, we shall fulter the food names by length instead. Let's use 40 characters as a filter.\n",
    "\n",
    "Running the above loop again, we have:"
   ]
  },
  {
   "cell_type": "code",
   "execution_count": 170,
   "metadata": {},
   "outputs": [
    {
     "name": "stdout",
     "output_type": "stream",
     "text": [
      "\n",
      " Malay , Corpus size = 27\n",
      "['acar', 'assam pedas', 'ayam penyet', 'bakso', 'begedil', 'curry puff', 'dendeng paru', 'goreng pisang', 'gulai daun ubi', 'keropok', 'ketupat', 'lemak siput', 'lontong', 'nagasari', 'nasi goreng', 'nasi padang', 'otak-otak', 'pecel lele', 'rawon', 'rojak bandung', 'roti john', 'sambal', 'satay', 'sayur lodeh', 'soto', 'soto ayam', 'tumpeng']\n",
      "\n",
      " Indian , Corpus size = 10\n",
      "['appam', 'dosa', 'murtabak', 'naan', 'roti prata', 'soup kambing', 'soup tulang', 'soup tulang merah', 'tandoori chicken', 'vadai']\n",
      "\n",
      " Cross-cultural , Corpus size = 19\n",
      "['ayam buah keluak', 'biryani', 'cereal prawns', 'chili crab pasta', 'curry laksa', 'fish head curry', 'kari debal', 'kari lemak ayam', 'katong laksa', 'kueh pie tee', 'kway teow goreng', 'mee rebus', 'mee siam', 'mee goreng', 'mee soto', 'rojak', 'sambal kangkong', 'satay bee hoon', 'tauhu goreng']\n",
      "\n",
      " Seafood , Corpus size = 5\n",
      "['black pepper crab', 'chilli crab', 'oyster omelette', 'sambal lala', 'sambal stingray']\n",
      "\n",
      " Fruit , Corpus size = 0\n",
      "[]\n",
      "\n",
      " Desserts , Corpus size = 9\n",
      "['bubur cha cha', 'chendol', 'cheng tng', 'ice kacang', 'kuih or kueh', 'kueh lapis is a rich', 'orh-nee', 'pulut hitam', 'tau suan']\n",
      "\n",
      " Drinks and beverages , Corpus size = 9\n",
      "['bandung', 'chin chow drink', 'kopi', 'horlicks', 'milo', 'sugarcane juice', 'teh halia tarik', 'singapore sling', 'yuenyeung coffee']\n"
     ]
    }
   ],
   "source": [
    "corpus_size = corpus_chinese_size\n",
    "for cuisine in cuisines[1:]: # exclude \"Chinese\"\n",
    "    txt = wiki.section(cuisine) #section(section_title)\n",
    "    corpus = get_corpus(txt, ['\\n'], [',', '(', '/'])\n",
    "    corpus = list(filter(lambda x: len(x) <= 40, corpus))\n",
    "    print(\"\\n\", cuisine, \", Corpus size =\", len(corpus))\n",
    "    print(corpus)\n",
    "    \n",
    "    corpus_size += len(corpus)\n",
    "    df_corpus = df_corpus.append(pd.DataFrame({\"Food\":corpus,\n",
    "                                          \"Cuisine\":[cuisine]*len(corpus)}))"
   ]
  },
  {
   "cell_type": "markdown",
   "metadata": {},
   "source": [
    "Verifying that our corpus has been created correctly, we check that the size of the created dataframe has the same size as ```corpus_size```"
   ]
  },
  {
   "cell_type": "code",
   "execution_count": 171,
   "metadata": {},
   "outputs": [
    {
     "name": "stdout",
     "output_type": "stream",
     "text": [
      "Dataframe size = (112, 2)\n",
      "Expected corpus size = 112\n"
     ]
    }
   ],
   "source": [
    "print(\"Dataframe size =\", df_corpus.shape)\n",
    "print(\"Expected corpus size =\", corpus_size)"
   ]
  },
  {
   "cell_type": "markdown",
   "metadata": {},
   "source": [
    "## Data Cleaning"
   ]
  },
  {
   "cell_type": "markdown",
   "metadata": {},
   "source": [
    "From a visual inspection of the corpus, we found that the following food names can be modified:\n",
    "\n",
    "**Chinese**\n",
    "- 'beef kway teow', 'hainanese chicken rice', 'shredded chicken noodles' *- add alternative name*\n",
    "\n",
    "**Malay**\n",
    "- 'nasi goreng', 'nasi padang', 'roti john' *- add alternative name*\n",
    "\n",
    "**Indian**\n",
    "- 'roti prata' *- add alternative name*\n",
    "\n",
    "**Desserts:**\n",
    "- 'kuih or kueh' *- change to alternative name*\n",
    "- 'kueh lapis is a rich'\n",
    "- 'lapis sagu is also a popular kueh with layers of alternating colour and a sweet'\n",
    "\n",
    "**Drinks and beverages:**\n",
    "- 'chin chow drink', 'yuenyeung coffee' *- add alternative name*"
   ]
  },
  {
   "cell_type": "code",
   "execution_count": 172,
   "metadata": {},
   "outputs": [],
   "source": [
    "df_corpus[\"alternative names\"] = df_corpus[\"Food\"]"
   ]
  },
  {
   "cell_type": "code",
   "execution_count": 173,
   "metadata": {},
   "outputs": [
    {
     "data": {
      "text/plain": [
       "(110, 3)"
      ]
     },
     "execution_count": 173,
     "metadata": {},
     "output_type": "execute_result"
    }
   ],
   "source": [
    "wrong_names = ['kueh lapis is a rich',\n",
    "               'lapis sagu is also a popular kueh with layers of alternating colour and a sweet',\n",
    "              'kuih or kueh']\n",
    "\n",
    "# Dropping wrong rows\n",
    "df_corpus = df_corpus[~df_corpus[\"Food\"].isin(wrong_names)]\n",
    "df_corpus.shape"
   ]
  },
  {
   "cell_type": "code",
   "execution_count": 175,
   "metadata": {},
   "outputs": [
    {
     "data": {
      "text/plain": [
       "(144, 3)"
      ]
     },
     "execution_count": 175,
     "metadata": {},
     "output_type": "execute_result"
    }
   ],
   "source": [
    "# Adding corrected names\n",
    "names = ['kueh lapis', 'lapis sagu']\n",
    "df_corpus = df_corpus.append(pd.DataFrame({\"Food\": names,\n",
    "                                           \"alternative names\": names,\n",
    "                                           \"Cuisine\":['Desserts']*2}))\n",
    "\n",
    "# Adding Alternative names\n",
    "cus = 'Chinese'\n",
    "names = ['beef kway teow', 'hainanese chicken rice', 'shredded chicken noodles']\n",
    "alternative = ['kway teow', 'chicken rice', 'chicken noodles']\n",
    "\n",
    "df_corpus = df_corpus.append(pd.DataFrame({\"Food\":names,\n",
    "                                           \"alternative names\": alternative,\n",
    "                                           \"Cuisine\":[cus]*len(alternative)}))\n",
    "\n",
    "cus = 'Malay'\n",
    "names = ['nasi goreng', 'nasi padang', 'nasi goreng', 'nasi padang', 'roti john']\n",
    "alternative = ['nasigoreng', 'nasipadang', 'nasi-goreng', 'nasi-padang', 'roti-john']\n",
    "\n",
    "df_corpus = df_corpus.append(pd.DataFrame({\"Food\":names,\n",
    "                                           \"alternative names\": alternative,\n",
    "                                           \"Cuisine\":[cus]*len(alternative)}))\n",
    "\n",
    "cus = 'Indian'\n",
    "names = ['roti prata', 'roti prata', 'roti prata']\n",
    "alternative = ['rotiprata', 'roti-prata', 'prata']\n",
    "\n",
    "df_corpus = df_corpus.append(pd.DataFrame({\"Food\":names,\n",
    "                                           \"alternative names\": alternative,\n",
    "                                           \"Cuisine\":[cus]*len(alternative)}))\n",
    "\n",
    "cus = 'Desserts'\n",
    "names = ['kueh', 'kueh']\n",
    "alternative = ['kuih', 'kueh']\n",
    "\n",
    "df_corpus = df_corpus.append(pd.DataFrame({\"Food\":names,\n",
    "                                           \"alternative names\": alternative,\n",
    "                                           \"Cuisine\":[cus]*len(alternative)}))\n",
    "\n",
    "cus = 'Drinks and beverages'\n",
    "names = ['chin chow drink', 'chin chow drink', 'chin chow drink', 'yuenyeung coffee']\n",
    "alternative = ['chin chow', 'chinchow', 'chin-chow', 'yuenyeung']\n",
    "\n",
    "df_corpus = df_corpus.append(pd.DataFrame({\"Food\":names,\n",
    "                                           \"alternative names\": alternative,\n",
    "                                           \"Cuisine\":[cus]*len(alternative)}))\n",
    "\n",
    "df_corpus.shape"
   ]
  },
  {
   "cell_type": "markdown",
   "metadata": {},
   "source": [
    "Finally, we generate some summary statistics of our corpus"
   ]
  },
  {
   "cell_type": "code",
   "execution_count": 145,
   "metadata": {
    "scrolled": true
   },
   "outputs": [
    {
     "name": "stdout",
     "output_type": "stream",
     "text": [
      "(113, 2)\n",
      "Chinese                 33\n",
      "Malay                   27\n",
      "Cross-cultural          19\n",
      "Desserts                10\n",
      "Indian                  10\n",
      "Drinks and beverages     9\n",
      "Seafood                  5\n",
      "Name: Cuisine, dtype: int64\n"
     ]
    }
   ],
   "source": [
    "print(df_corpus.shape)\n",
    "print(df_corpus[\"Cuisine\"].value_counts())"
   ]
  },
  {
   "cell_type": "markdown",
   "metadata": {},
   "source": [
    "## Exporting Corpus"
   ]
  },
  {
   "cell_type": "code",
   "execution_count": 147,
   "metadata": {},
   "outputs": [],
   "source": [
    "df_corpus.to_csv(\"../Instagram/\" + \"corpus_wikipedia.csv\", index=False)"
   ]
  },
  {
   "cell_type": "markdown",
   "metadata": {},
   "source": [
    "# Importing Dataset"
   ]
  },
  {
   "cell_type": "code",
   "execution_count": 148,
   "metadata": {},
   "outputs": [],
   "source": [
    "filepath = \"../Instagram/Cleaned data/\"\n",
    "filename = \"All_posts.csv\""
   ]
  },
  {
   "cell_type": "code",
   "execution_count": 149,
   "metadata": {},
   "outputs": [
    {
     "data": {
      "text/html": [
       "<div>\n",
       "<style scoped>\n",
       "    .dataframe tbody tr th:only-of-type {\n",
       "        vertical-align: middle;\n",
       "    }\n",
       "\n",
       "    .dataframe tbody tr th {\n",
       "        vertical-align: top;\n",
       "    }\n",
       "\n",
       "    .dataframe thead th {\n",
       "        text-align: right;\n",
       "    }\n",
       "</style>\n",
       "<table border=\"1\" class=\"dataframe\">\n",
       "  <thead>\n",
       "    <tr style=\"text-align: right;\">\n",
       "      <th></th>\n",
       "      <th>timestamp</th>\n",
       "      <th>Username</th>\n",
       "      <th>caption</th>\n",
       "      <th>no. of likes</th>\n",
       "      <th>no. of comments</th>\n",
       "      <th>comments</th>\n",
       "    </tr>\n",
       "  </thead>\n",
       "  <tbody>\n",
       "    <tr>\n",
       "      <th>0</th>\n",
       "      <td>30/6/2020</td>\n",
       "      <td>8days_eat</td>\n",
       "      <td>Katong’s famous Hokkien mee and fried mee sua ...</td>\n",
       "      <td>326</td>\n",
       "      <td>7</td>\n",
       "      <td>['@lauren.khoury still can’t crack a smile 😬',...</td>\n",
       "    </tr>\n",
       "    <tr>\n",
       "      <th>1</th>\n",
       "      <td>30/6/2020</td>\n",
       "      <td>8days_eat</td>\n",
       "      <td>For the first time in Singapore, Heytea will b...</td>\n",
       "      <td>258</td>\n",
       "      <td>3</td>\n",
       "      <td>['Awesomeeeee neeed this now', '@becauseitsdon...</td>\n",
       "    </tr>\n",
       "    <tr>\n",
       "      <th>2</th>\n",
       "      <td>29/6/2020</td>\n",
       "      <td>8days_eat</td>\n",
       "      <td>Korean “fat-carons” — supersized macarons stuf...</td>\n",
       "      <td>453</td>\n",
       "      <td>3</td>\n",
       "      <td>['#8dayseat #sgfoodies #instafood #yum #sgfood...</td>\n",
       "    </tr>\n",
       "    <tr>\n",
       "      <th>3</th>\n",
       "      <td>29/6/2020</td>\n",
       "      <td>8days_eat</td>\n",
       "      <td>Online ordering system Oddle has launched a ne...</td>\n",
       "      <td>287</td>\n",
       "      <td>3</td>\n",
       "      <td>['THANK YOU 👀📸🔥', 'Absolutely love this tinkat...</td>\n",
       "    </tr>\n",
       "    <tr>\n",
       "      <th>4</th>\n",
       "      <td>29/6/2020</td>\n",
       "      <td>8days_eat</td>\n",
       "      <td>A canelé is a bite-sized French pastry from Bo...</td>\n",
       "      <td>431</td>\n",
       "      <td>3</td>\n",
       "      <td>['@jet8food , I see it! 😁', '@brave_nic', '🙏🏼💗💗']</td>\n",
       "    </tr>\n",
       "  </tbody>\n",
       "</table>\n",
       "</div>"
      ],
      "text/plain": [
       "   timestamp   Username                                            caption  \\\n",
       "0  30/6/2020  8days_eat  Katong’s famous Hokkien mee and fried mee sua ...   \n",
       "1  30/6/2020  8days_eat  For the first time in Singapore, Heytea will b...   \n",
       "2  29/6/2020  8days_eat  Korean “fat-carons” — supersized macarons stuf...   \n",
       "3  29/6/2020  8days_eat  Online ordering system Oddle has launched a ne...   \n",
       "4  29/6/2020  8days_eat  A canelé is a bite-sized French pastry from Bo...   \n",
       "\n",
       "   no. of likes  no. of comments  \\\n",
       "0           326                7   \n",
       "1           258                3   \n",
       "2           453                3   \n",
       "3           287                3   \n",
       "4           431                3   \n",
       "\n",
       "                                            comments  \n",
       "0  ['@lauren.khoury still can’t crack a smile 😬',...  \n",
       "1  ['Awesomeeeee neeed this now', '@becauseitsdon...  \n",
       "2  ['#8dayseat #sgfoodies #instafood #yum #sgfood...  \n",
       "3  ['THANK YOU 👀📸🔥', 'Absolutely love this tinkat...  \n",
       "4  ['@jet8food , I see it! 😁', '@brave_nic', '🙏🏼💗💗']  "
      ]
     },
     "execution_count": 149,
     "metadata": {},
     "output_type": "execute_result"
    }
   ],
   "source": [
    "df = pd.read_csv(filepath + filename)  \n",
    "df.head()"
   ]
  },
  {
   "cell_type": "code",
   "execution_count": 150,
   "metadata": {},
   "outputs": [],
   "source": [
    "numposts = df.shape[0]"
   ]
  },
  {
   "cell_type": "markdown",
   "metadata": {},
   "source": [
    "## Data Pre-processing"
   ]
  },
  {
   "cell_type": "code",
   "execution_count": 153,
   "metadata": {},
   "outputs": [
    {
     "data": {
      "text/html": [
       "<div>\n",
       "<style scoped>\n",
       "    .dataframe tbody tr th:only-of-type {\n",
       "        vertical-align: middle;\n",
       "    }\n",
       "\n",
       "    .dataframe tbody tr th {\n",
       "        vertical-align: top;\n",
       "    }\n",
       "\n",
       "    .dataframe thead th {\n",
       "        text-align: right;\n",
       "    }\n",
       "</style>\n",
       "<table border=\"1\" class=\"dataframe\">\n",
       "  <thead>\n",
       "    <tr style=\"text-align: right;\">\n",
       "      <th></th>\n",
       "      <th>timestamp</th>\n",
       "      <th>Username</th>\n",
       "      <th>caption</th>\n",
       "      <th>no. of likes</th>\n",
       "      <th>no. of comments</th>\n",
       "      <th>comments</th>\n",
       "    </tr>\n",
       "  </thead>\n",
       "  <tbody>\n",
       "    <tr>\n",
       "      <th>0</th>\n",
       "      <td>30/6/2020</td>\n",
       "      <td>8days_eat</td>\n",
       "      <td>katong’s famous hokkien mee and fried mee sua ...</td>\n",
       "      <td>326</td>\n",
       "      <td>7</td>\n",
       "      <td>['@lauren.khoury still can’t crack a smile 😬',...</td>\n",
       "    </tr>\n",
       "    <tr>\n",
       "      <th>1</th>\n",
       "      <td>30/6/2020</td>\n",
       "      <td>8days_eat</td>\n",
       "      <td>for the first time in singapore, heytea will b...</td>\n",
       "      <td>258</td>\n",
       "      <td>3</td>\n",
       "      <td>['Awesomeeeee neeed this now', '@becauseitsdon...</td>\n",
       "    </tr>\n",
       "    <tr>\n",
       "      <th>2</th>\n",
       "      <td>29/6/2020</td>\n",
       "      <td>8days_eat</td>\n",
       "      <td>korean “fat-carons” — supersized macarons stuf...</td>\n",
       "      <td>453</td>\n",
       "      <td>3</td>\n",
       "      <td>['#8dayseat #sgfoodies #instafood #yum #sgfood...</td>\n",
       "    </tr>\n",
       "    <tr>\n",
       "      <th>3</th>\n",
       "      <td>29/6/2020</td>\n",
       "      <td>8days_eat</td>\n",
       "      <td>online ordering system oddle has launched a ne...</td>\n",
       "      <td>287</td>\n",
       "      <td>3</td>\n",
       "      <td>['THANK YOU 👀📸🔥', 'Absolutely love this tinkat...</td>\n",
       "    </tr>\n",
       "    <tr>\n",
       "      <th>4</th>\n",
       "      <td>29/6/2020</td>\n",
       "      <td>8days_eat</td>\n",
       "      <td>a canelé is a bite-sized french pastry from bo...</td>\n",
       "      <td>431</td>\n",
       "      <td>3</td>\n",
       "      <td>['@jet8food , I see it! 😁', '@brave_nic', '🙏🏼💗💗']</td>\n",
       "    </tr>\n",
       "  </tbody>\n",
       "</table>\n",
       "</div>"
      ],
      "text/plain": [
       "   timestamp   Username                                            caption  \\\n",
       "0  30/6/2020  8days_eat  katong’s famous hokkien mee and fried mee sua ...   \n",
       "1  30/6/2020  8days_eat  for the first time in singapore, heytea will b...   \n",
       "2  29/6/2020  8days_eat  korean “fat-carons” — supersized macarons stuf...   \n",
       "3  29/6/2020  8days_eat  online ordering system oddle has launched a ne...   \n",
       "4  29/6/2020  8days_eat  a canelé is a bite-sized french pastry from bo...   \n",
       "\n",
       "   no. of likes  no. of comments  \\\n",
       "0           326                7   \n",
       "1           258                3   \n",
       "2           453                3   \n",
       "3           287                3   \n",
       "4           431                3   \n",
       "\n",
       "                                            comments  \n",
       "0  ['@lauren.khoury still can’t crack a smile 😬',...  \n",
       "1  ['Awesomeeeee neeed this now', '@becauseitsdon...  \n",
       "2  ['#8dayseat #sgfoodies #instafood #yum #sgfood...  \n",
       "3  ['THANK YOU 👀📸🔥', 'Absolutely love this tinkat...  \n",
       "4  ['@jet8food , I see it! 😁', '@brave_nic', '🙏🏼💗💗']  "
      ]
     },
     "execution_count": 153,
     "metadata": {},
     "output_type": "execute_result"
    }
   ],
   "source": [
    "df[\"caption\"] = df[\"caption\"].apply(lambda x: x.lower())\n",
    "df.head()"
   ]
  },
  {
   "cell_type": "code",
   "execution_count": null,
   "metadata": {},
   "outputs": [],
   "source": []
  }
 ],
 "metadata": {
  "kernelspec": {
   "display_name": "Python 3",
   "language": "python",
   "name": "python3"
  },
  "language_info": {
   "codemirror_mode": {
    "name": "ipython",
    "version": 3
   },
   "file_extension": ".py",
   "mimetype": "text/x-python",
   "name": "python",
   "nbconvert_exporter": "python",
   "pygments_lexer": "ipython3",
   "version": "3.7.3"
  },
  "toc": {
   "base_numbering": 1,
   "nav_menu": {},
   "number_sections": true,
   "sideBar": true,
   "skip_h1_title": false,
   "title_cell": "Table of Contents",
   "title_sidebar": "Contents",
   "toc_cell": true,
   "toc_position": {},
   "toc_section_display": true,
   "toc_window_display": true
  }
 },
 "nbformat": 4,
 "nbformat_minor": 4
}
