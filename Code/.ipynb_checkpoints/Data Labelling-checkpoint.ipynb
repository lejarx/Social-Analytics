{
 "cells": [
  {
   "cell_type": "markdown",
   "metadata": {
    "toc": true
   },
   "source": [
    "<h1>Table of Contents<span class=\"tocSkip\"></span></h1>\n",
    "<div class=\"toc\"><ul class=\"toc-item\"><li><span><a href=\"#Setting-up-Environment\" data-toc-modified-id=\"Setting-up-Environment-1\"><span class=\"toc-item-num\">1&nbsp;&nbsp;</span>Setting up Environment</a></span></li><li><span><a href=\"#Importing-Dataset\" data-toc-modified-id=\"Importing-Dataset-2\"><span class=\"toc-item-num\">2&nbsp;&nbsp;</span>Importing Dataset</a></span><ul class=\"toc-item\"><li><span><a href=\"#Data-Pre-processing\" data-toc-modified-id=\"Data-Pre-processing-2.1\"><span class=\"toc-item-num\">2.1&nbsp;&nbsp;</span>Data Pre-processing</a></span></li></ul></li><li><span><a href=\"#Function-Declarations\" data-toc-modified-id=\"Function-Declarations-3\"><span class=\"toc-item-num\">3&nbsp;&nbsp;</span>Function Declarations</a></span></li><li><span><a href=\"#Wikipedia-corpus\" data-toc-modified-id=\"Wikipedia-corpus-4\"><span class=\"toc-item-num\">4&nbsp;&nbsp;</span>Wikipedia corpus</a></span><ul class=\"toc-item\"><li><span><a href=\"#Wikipedia-corpus-food\" data-toc-modified-id=\"Wikipedia-corpus-food-4.1\"><span class=\"toc-item-num\">4.1&nbsp;&nbsp;</span>Wikipedia corpus food</a></span></li><li><span><a href=\"#Wikipedia-corpus-cuisine\" data-toc-modified-id=\"Wikipedia-corpus-cuisine-4.2\"><span class=\"toc-item-num\">4.2&nbsp;&nbsp;</span>Wikipedia corpus cuisine</a></span></li></ul></li><li><span><a href=\"#Dummy-Food\" data-toc-modified-id=\"Dummy-Food-5\"><span class=\"toc-item-num\">5&nbsp;&nbsp;</span>Dummy Food</a></span><ul class=\"toc-item\"><li><span><a href=\"#Dummy-Food-names\" data-toc-modified-id=\"Dummy-Food-names-5.1\"><span class=\"toc-item-num\">5.1&nbsp;&nbsp;</span>Dummy Food names</a></span></li><li><span><a href=\"#Dummy-Food-Cuisine\" data-toc-modified-id=\"Dummy-Food-Cuisine-5.2\"><span class=\"toc-item-num\">5.2&nbsp;&nbsp;</span>Dummy Food Cuisine</a></span></li></ul></li><li><span><a href=\"#Evaluation\" data-toc-modified-id=\"Evaluation-6\"><span class=\"toc-item-num\">6&nbsp;&nbsp;</span>Evaluation</a></span><ul class=\"toc-item\"><li><span><a href=\"#Viewing-Labelled-Dataset\" data-toc-modified-id=\"Viewing-Labelled-Dataset-6.1\"><span class=\"toc-item-num\">6.1&nbsp;&nbsp;</span>Viewing Labelled Dataset</a></span></li><li><span><a href=\"#Verifying-Representation-of-each-Influencer\" data-toc-modified-id=\"Verifying-Representation-of-each-Influencer-6.2\"><span class=\"toc-item-num\">6.2&nbsp;&nbsp;</span>Verifying Representation of each Influencer</a></span></li></ul></li><li><span><a href=\"#Pareto-Analysis-for-Supplementary-Labelling\" data-toc-modified-id=\"Pareto-Analysis-for-Supplementary-Labelling-7\"><span class=\"toc-item-num\">7&nbsp;&nbsp;</span>Pareto Analysis for Supplementary Labelling</a></span><ul class=\"toc-item\"><li><span><a href=\"#EDA-on-sheeatsshecooks\" data-toc-modified-id=\"EDA-on-sheeatsshecooks-7.1\"><span class=\"toc-item-num\">7.1&nbsp;&nbsp;</span>EDA on <code>sheeatsshecooks</code></a></span></li><li><span><a href=\"#Data-Clearning\" data-toc-modified-id=\"Data-Clearning-7.2\"><span class=\"toc-item-num\">7.2&nbsp;&nbsp;</span>Data Clearning</a></span></li><li><span><a href=\"#Word-Frequency\" data-toc-modified-id=\"Word-Frequency-7.3\"><span class=\"toc-item-num\">7.3&nbsp;&nbsp;</span>Word Frequency</a></span></li><li><span><a href=\"#Pareto-Corpus-Food-and-Cuisine-Labelling\" data-toc-modified-id=\"Pareto-Corpus-Food-and-Cuisine-Labelling-7.4\"><span class=\"toc-item-num\">7.4&nbsp;&nbsp;</span>Pareto Corpus Food and Cuisine Labelling</a></span></li></ul></li><li><span><a href=\"#Evaluation\" data-toc-modified-id=\"Evaluation-8\"><span class=\"toc-item-num\">8&nbsp;&nbsp;</span>Evaluation</a></span><ul class=\"toc-item\"><li><span><a href=\"#Verifying-Representation-of-each-Influencer\" data-toc-modified-id=\"Verifying-Representation-of-each-Influencer-8.1\"><span class=\"toc-item-num\">8.1&nbsp;&nbsp;</span>Verifying Representation of each Influencer</a></span></li></ul></li><li><span><a href=\"#Exporting-Dataset\" data-toc-modified-id=\"Exporting-Dataset-9\"><span class=\"toc-item-num\">9&nbsp;&nbsp;</span>Exporting Dataset</a></span></li></ul></div>"
   ]
  },
  {
   "cell_type": "markdown",
   "metadata": {},
   "source": [
    "# Setting up Environment"
   ]
  },
  {
   "cell_type": "code",
   "execution_count": 1,
   "metadata": {},
   "outputs": [],
   "source": [
    "import pandas as pd\n",
    "import numpy as np\n",
    "import matplotlib.pyplot as plt\n",
    "import random"
   ]
  },
  {
   "cell_type": "markdown",
   "metadata": {},
   "source": [
    "# Importing Dataset"
   ]
  },
  {
   "cell_type": "code",
   "execution_count": 2,
   "metadata": {},
   "outputs": [],
   "source": [
    "filepath = \"../Instagram/Cleaned data/\"\n",
    "filename = \"All_posts.csv\""
   ]
  },
  {
   "cell_type": "code",
   "execution_count": 3,
   "metadata": {
    "scrolled": true
   },
   "outputs": [
    {
     "data": {
      "text/html": [
       "<div>\n",
       "<style scoped>\n",
       "    .dataframe tbody tr th:only-of-type {\n",
       "        vertical-align: middle;\n",
       "    }\n",
       "\n",
       "    .dataframe tbody tr th {\n",
       "        vertical-align: top;\n",
       "    }\n",
       "\n",
       "    .dataframe thead th {\n",
       "        text-align: right;\n",
       "    }\n",
       "</style>\n",
       "<table border=\"1\" class=\"dataframe\">\n",
       "  <thead>\n",
       "    <tr style=\"text-align: right;\">\n",
       "      <th></th>\n",
       "      <th>timestamp</th>\n",
       "      <th>Username</th>\n",
       "      <th>caption</th>\n",
       "      <th>no. of likes</th>\n",
       "      <th>no. of comments</th>\n",
       "      <th>comments</th>\n",
       "    </tr>\n",
       "  </thead>\n",
       "  <tbody>\n",
       "    <tr>\n",
       "      <th>0</th>\n",
       "      <td>30/6/2020</td>\n",
       "      <td>8days_eat</td>\n",
       "      <td>Katong’s famous Hokkien mee and fried mee sua ...</td>\n",
       "      <td>326</td>\n",
       "      <td>7</td>\n",
       "      <td>['@lauren.khoury still can’t crack a smile 😬',...</td>\n",
       "    </tr>\n",
       "    <tr>\n",
       "      <th>1</th>\n",
       "      <td>30/6/2020</td>\n",
       "      <td>8days_eat</td>\n",
       "      <td>For the first time in Singapore, Heytea will b...</td>\n",
       "      <td>258</td>\n",
       "      <td>3</td>\n",
       "      <td>['Awesomeeeee neeed this now', '@becauseitsdon...</td>\n",
       "    </tr>\n",
       "    <tr>\n",
       "      <th>2</th>\n",
       "      <td>29/6/2020</td>\n",
       "      <td>8days_eat</td>\n",
       "      <td>Korean “fat-carons” — supersized macarons stuf...</td>\n",
       "      <td>453</td>\n",
       "      <td>3</td>\n",
       "      <td>['#8dayseat #sgfoodies #instafood #yum #sgfood...</td>\n",
       "    </tr>\n",
       "    <tr>\n",
       "      <th>3</th>\n",
       "      <td>29/6/2020</td>\n",
       "      <td>8days_eat</td>\n",
       "      <td>Online ordering system Oddle has launched a ne...</td>\n",
       "      <td>287</td>\n",
       "      <td>3</td>\n",
       "      <td>['THANK YOU 👀📸🔥', 'Absolutely love this tinkat...</td>\n",
       "    </tr>\n",
       "    <tr>\n",
       "      <th>4</th>\n",
       "      <td>29/6/2020</td>\n",
       "      <td>8days_eat</td>\n",
       "      <td>A canelé is a bite-sized French pastry from Bo...</td>\n",
       "      <td>431</td>\n",
       "      <td>3</td>\n",
       "      <td>['@jet8food , I see it! 😁', '@brave_nic', '🙏🏼💗💗']</td>\n",
       "    </tr>\n",
       "  </tbody>\n",
       "</table>\n",
       "</div>"
      ],
      "text/plain": [
       "   timestamp   Username                                            caption  \\\n",
       "0  30/6/2020  8days_eat  Katong’s famous Hokkien mee and fried mee sua ...   \n",
       "1  30/6/2020  8days_eat  For the first time in Singapore, Heytea will b...   \n",
       "2  29/6/2020  8days_eat  Korean “fat-carons” — supersized macarons stuf...   \n",
       "3  29/6/2020  8days_eat  Online ordering system Oddle has launched a ne...   \n",
       "4  29/6/2020  8days_eat  A canelé is a bite-sized French pastry from Bo...   \n",
       "\n",
       "   no. of likes  no. of comments  \\\n",
       "0           326                7   \n",
       "1           258                3   \n",
       "2           453                3   \n",
       "3           287                3   \n",
       "4           431                3   \n",
       "\n",
       "                                            comments  \n",
       "0  ['@lauren.khoury still can’t crack a smile 😬',...  \n",
       "1  ['Awesomeeeee neeed this now', '@becauseitsdon...  \n",
       "2  ['#8dayseat #sgfoodies #instafood #yum #sgfood...  \n",
       "3  ['THANK YOU 👀📸🔥', 'Absolutely love this tinkat...  \n",
       "4  ['@jet8food , I see it! 😁', '@brave_nic', '🙏🏼💗💗']  "
      ]
     },
     "execution_count": 3,
     "metadata": {},
     "output_type": "execute_result"
    }
   ],
   "source": [
    "df = pd.read_csv(filepath + filename)\n",
    "df.head()"
   ]
  },
  {
   "cell_type": "code",
   "execution_count": 4,
   "metadata": {},
   "outputs": [],
   "source": [
    "numposts = df.shape[0]"
   ]
  },
  {
   "cell_type": "markdown",
   "metadata": {},
   "source": [
    "## Data Pre-processing\n",
    "\n",
    "In the case, the only pre-processing we need to do is the convert all captions to lower case such that food names can be detected as all the names in our corpus are lower case names.\n",
    "\n",
    "We will also create an unique ID to easily identify posts."
   ]
  },
  {
   "cell_type": "code",
   "execution_count": 5,
   "metadata": {},
   "outputs": [],
   "source": [
    "df[\"ID\"] = df.index"
   ]
  },
  {
   "cell_type": "code",
   "execution_count": 6,
   "metadata": {},
   "outputs": [
    {
     "data": {
      "text/html": [
       "<div>\n",
       "<style scoped>\n",
       "    .dataframe tbody tr th:only-of-type {\n",
       "        vertical-align: middle;\n",
       "    }\n",
       "\n",
       "    .dataframe tbody tr th {\n",
       "        vertical-align: top;\n",
       "    }\n",
       "\n",
       "    .dataframe thead th {\n",
       "        text-align: right;\n",
       "    }\n",
       "</style>\n",
       "<table border=\"1\" class=\"dataframe\">\n",
       "  <thead>\n",
       "    <tr style=\"text-align: right;\">\n",
       "      <th></th>\n",
       "      <th>timestamp</th>\n",
       "      <th>Username</th>\n",
       "      <th>caption</th>\n",
       "      <th>no. of likes</th>\n",
       "      <th>no. of comments</th>\n",
       "      <th>comments</th>\n",
       "      <th>ID</th>\n",
       "    </tr>\n",
       "  </thead>\n",
       "  <tbody>\n",
       "    <tr>\n",
       "      <th>0</th>\n",
       "      <td>30/6/2020</td>\n",
       "      <td>8days_eat</td>\n",
       "      <td>katong’s famous hokkien mee and fried mee sua ...</td>\n",
       "      <td>326</td>\n",
       "      <td>7</td>\n",
       "      <td>['@lauren.khoury still can’t crack a smile 😬',...</td>\n",
       "      <td>0</td>\n",
       "    </tr>\n",
       "    <tr>\n",
       "      <th>1</th>\n",
       "      <td>30/6/2020</td>\n",
       "      <td>8days_eat</td>\n",
       "      <td>for the first time in singapore, heytea will b...</td>\n",
       "      <td>258</td>\n",
       "      <td>3</td>\n",
       "      <td>['Awesomeeeee neeed this now', '@becauseitsdon...</td>\n",
       "      <td>1</td>\n",
       "    </tr>\n",
       "    <tr>\n",
       "      <th>2</th>\n",
       "      <td>29/6/2020</td>\n",
       "      <td>8days_eat</td>\n",
       "      <td>korean “fat-carons” — supersized macarons stuf...</td>\n",
       "      <td>453</td>\n",
       "      <td>3</td>\n",
       "      <td>['#8dayseat #sgfoodies #instafood #yum #sgfood...</td>\n",
       "      <td>2</td>\n",
       "    </tr>\n",
       "    <tr>\n",
       "      <th>3</th>\n",
       "      <td>29/6/2020</td>\n",
       "      <td>8days_eat</td>\n",
       "      <td>online ordering system oddle has launched a ne...</td>\n",
       "      <td>287</td>\n",
       "      <td>3</td>\n",
       "      <td>['THANK YOU 👀📸🔥', 'Absolutely love this tinkat...</td>\n",
       "      <td>3</td>\n",
       "    </tr>\n",
       "    <tr>\n",
       "      <th>4</th>\n",
       "      <td>29/6/2020</td>\n",
       "      <td>8days_eat</td>\n",
       "      <td>a canelé is a bite-sized french pastry from bo...</td>\n",
       "      <td>431</td>\n",
       "      <td>3</td>\n",
       "      <td>['@jet8food , I see it! 😁', '@brave_nic', '🙏🏼💗💗']</td>\n",
       "      <td>4</td>\n",
       "    </tr>\n",
       "  </tbody>\n",
       "</table>\n",
       "</div>"
      ],
      "text/plain": [
       "   timestamp   Username                                            caption  \\\n",
       "0  30/6/2020  8days_eat  katong’s famous hokkien mee and fried mee sua ...   \n",
       "1  30/6/2020  8days_eat  for the first time in singapore, heytea will b...   \n",
       "2  29/6/2020  8days_eat  korean “fat-carons” — supersized macarons stuf...   \n",
       "3  29/6/2020  8days_eat  online ordering system oddle has launched a ne...   \n",
       "4  29/6/2020  8days_eat  a canelé is a bite-sized french pastry from bo...   \n",
       "\n",
       "   no. of likes  no. of comments  \\\n",
       "0           326                7   \n",
       "1           258                3   \n",
       "2           453                3   \n",
       "3           287                3   \n",
       "4           431                3   \n",
       "\n",
       "                                            comments  ID  \n",
       "0  ['@lauren.khoury still can’t crack a smile 😬',...   0  \n",
       "1  ['Awesomeeeee neeed this now', '@becauseitsdon...   1  \n",
       "2  ['#8dayseat #sgfoodies #instafood #yum #sgfood...   2  \n",
       "3  ['THANK YOU 👀📸🔥', 'Absolutely love this tinkat...   3  \n",
       "4  ['@jet8food , I see it! 😁', '@brave_nic', '🙏🏼💗💗']   4  "
      ]
     },
     "execution_count": 6,
     "metadata": {},
     "output_type": "execute_result"
    }
   ],
   "source": [
    "df[\"caption\"] = df[\"caption\"].apply(lambda x: x.lower())\n",
    "df.head()"
   ]
  },
  {
   "cell_type": "markdown",
   "metadata": {},
   "source": [
    "# Function Declarations"
   ]
  },
  {
   "cell_type": "code",
   "execution_count": 7,
   "metadata": {},
   "outputs": [],
   "source": [
    "def label_from_df_column(df_corpus, name_col, search_col):\n",
    "    def helper(caption):\n",
    "        if not caption: # checks if caption is blank\n",
    "            return\n",
    "        for i in range(len(df_corpus[search_col])):\n",
    "            food = df_corpus[search_col][i]\n",
    "            if food in caption:\n",
    "                return df_corpus[name_col][i]\n",
    "\n",
    "        # food not found\n",
    "        return\n",
    "    return helper"
   ]
  },
  {
   "cell_type": "markdown",
   "metadata": {},
   "source": [
    "# Wikipedia corpus"
   ]
  },
  {
   "cell_type": "code",
   "execution_count": 8,
   "metadata": {},
   "outputs": [],
   "source": [
    "corpusname = \"2wikipedia\""
   ]
  },
  {
   "cell_type": "code",
   "execution_count": 9,
   "metadata": {},
   "outputs": [
    {
     "data": {
      "text/html": [
       "<div>\n",
       "<style scoped>\n",
       "    .dataframe tbody tr th:only-of-type {\n",
       "        vertical-align: middle;\n",
       "    }\n",
       "\n",
       "    .dataframe tbody tr th {\n",
       "        vertical-align: top;\n",
       "    }\n",
       "\n",
       "    .dataframe thead th {\n",
       "        text-align: right;\n",
       "    }\n",
       "</style>\n",
       "<table border=\"1\" class=\"dataframe\">\n",
       "  <thead>\n",
       "    <tr style=\"text-align: right;\">\n",
       "      <th></th>\n",
       "      <th>Food</th>\n",
       "      <th>Cuisine</th>\n",
       "      <th>alternative names</th>\n",
       "    </tr>\n",
       "  </thead>\n",
       "  <tbody>\n",
       "    <tr>\n",
       "      <th>0</th>\n",
       "      <td>bak kut teh</td>\n",
       "      <td>Chinese</td>\n",
       "      <td>bak kut teh</td>\n",
       "    </tr>\n",
       "    <tr>\n",
       "      <th>1</th>\n",
       "      <td>beef kway teow</td>\n",
       "      <td>Chinese</td>\n",
       "      <td>beef kway teow</td>\n",
       "    </tr>\n",
       "    <tr>\n",
       "      <th>2</th>\n",
       "      <td>bak chang</td>\n",
       "      <td>Chinese</td>\n",
       "      <td>bak chang</td>\n",
       "    </tr>\n",
       "    <tr>\n",
       "      <th>3</th>\n",
       "      <td>bak chor mee</td>\n",
       "      <td>Chinese</td>\n",
       "      <td>bak chor mee</td>\n",
       "    </tr>\n",
       "    <tr>\n",
       "      <th>4</th>\n",
       "      <td>ban mian</td>\n",
       "      <td>Chinese</td>\n",
       "      <td>ban mian</td>\n",
       "    </tr>\n",
       "  </tbody>\n",
       "</table>\n",
       "</div>"
      ],
      "text/plain": [
       "             Food  Cuisine alternative names\n",
       "0     bak kut teh  Chinese       bak kut teh\n",
       "1  beef kway teow  Chinese    beef kway teow\n",
       "2       bak chang  Chinese         bak chang\n",
       "3    bak chor mee  Chinese      bak chor mee\n",
       "4        ban mian  Chinese          ban mian"
      ]
     },
     "execution_count": 9,
     "metadata": {},
     "output_type": "execute_result"
    }
   ],
   "source": [
    "df_corpus = pd.read_csv(filepath + \"../\"+ \"corpus_wikipedia.csv\")  \n",
    "df_corpus.head()"
   ]
  },
  {
   "cell_type": "code",
   "execution_count": 10,
   "metadata": {},
   "outputs": [
    {
     "data": {
      "text/plain": [
       "(129, 3)"
      ]
     },
     "execution_count": 10,
     "metadata": {},
     "output_type": "execute_result"
    }
   ],
   "source": [
    "df_corpus.shape"
   ]
  },
  {
   "cell_type": "markdown",
   "metadata": {},
   "source": [
    "## Wikipedia corpus food"
   ]
  },
  {
   "cell_type": "code",
   "execution_count": 11,
   "metadata": {},
   "outputs": [],
   "source": [
    "df[\"food\"] = df[\"caption\"].apply(label_from_df_column(df_corpus, \"alternative names\", \"Food\"))"
   ]
  },
  {
   "cell_type": "markdown",
   "metadata": {},
   "source": [
    "## Wikipedia corpus cuisine"
   ]
  },
  {
   "cell_type": "code",
   "execution_count": 12,
   "metadata": {},
   "outputs": [],
   "source": [
    "df[\"cuisine\"] = df[\"food\"].apply(label_from_df_column(df_corpus, \"Cuisine\", \"Food\"))"
   ]
  },
  {
   "cell_type": "markdown",
   "metadata": {},
   "source": [
    "# Dummy Food"
   ]
  },
  {
   "cell_type": "markdown",
   "metadata": {},
   "source": [
    "## Dummy Food names"
   ]
  },
  {
   "cell_type": "code",
   "execution_count": 13,
   "metadata": {},
   "outputs": [],
   "source": [
    "# corpusname = \"1dummyfood\""
   ]
  },
  {
   "cell_type": "markdown",
   "metadata": {},
   "source": [
    "todo: replace with real food names"
   ]
  },
  {
   "cell_type": "code",
   "execution_count": 14,
   "metadata": {},
   "outputs": [],
   "source": [
    "# # Set seed for reproducibility\n",
    "# np.random.seed(0)"
   ]
  },
  {
   "cell_type": "code",
   "execution_count": 15,
   "metadata": {},
   "outputs": [],
   "source": [
    "# df[\"food\"] = np.char.add(np.array([\"food \"]*numposts), np.random.randint(10, size=numposts).astype('str'))\n",
    "# df.head()"
   ]
  },
  {
   "cell_type": "markdown",
   "metadata": {},
   "source": [
    "## Dummy Food Cuisine"
   ]
  },
  {
   "cell_type": "code",
   "execution_count": 16,
   "metadata": {},
   "outputs": [],
   "source": [
    "# food_corpus = df[\"food\"].unique()\n",
    "# food_corpus"
   ]
  },
  {
   "cell_type": "code",
   "execution_count": 17,
   "metadata": {},
   "outputs": [],
   "source": [
    "# cuisines_corpus = {\"cuisine1\": ['food 1', 'food 2', 'food 3'],\n",
    "#                    \"cuisine2\": ['food 4', 'food 5'],\n",
    "#                    \"cuisine3\": ['food 6'],\n",
    "#                    \"cuisine4\": ['food 7', 'food 8', 'food 9']\n",
    "#                   }"
   ]
  },
  {
   "cell_type": "code",
   "execution_count": 18,
   "metadata": {},
   "outputs": [],
   "source": [
    "# def get_cuisine(food):\n",
    "#     for cuisine, foods in cuisines_corpus.items():\n",
    "#         if food in foods:\n",
    "#             return cuisine\n",
    "#     return \"No cuisine found\""
   ]
  },
  {
   "cell_type": "code",
   "execution_count": 19,
   "metadata": {},
   "outputs": [],
   "source": [
    "# df['cuisine'] = df[\"food\"].apply(get_cuisine)\n",
    "# df.head()"
   ]
  },
  {
   "cell_type": "markdown",
   "metadata": {},
   "source": [
    "# Evaluation"
   ]
  },
  {
   "cell_type": "markdown",
   "metadata": {},
   "source": [
    "## Viewing Labelled Dataset"
   ]
  },
  {
   "cell_type": "code",
   "execution_count": 20,
   "metadata": {
    "scrolled": true
   },
   "outputs": [
    {
     "data": {
      "text/html": [
       "<div>\n",
       "<style scoped>\n",
       "    .dataframe tbody tr th:only-of-type {\n",
       "        vertical-align: middle;\n",
       "    }\n",
       "\n",
       "    .dataframe tbody tr th {\n",
       "        vertical-align: top;\n",
       "    }\n",
       "\n",
       "    .dataframe thead th {\n",
       "        text-align: right;\n",
       "    }\n",
       "</style>\n",
       "<table border=\"1\" class=\"dataframe\">\n",
       "  <thead>\n",
       "    <tr style=\"text-align: right;\">\n",
       "      <th></th>\n",
       "      <th>caption</th>\n",
       "      <th>food</th>\n",
       "      <th>cuisine</th>\n",
       "    </tr>\n",
       "  </thead>\n",
       "  <tbody>\n",
       "    <tr>\n",
       "      <th>0</th>\n",
       "      <td>katong’s famous hokkien mee and fried mee sua ...</td>\n",
       "      <td>hokkien mee</td>\n",
       "      <td>Chinese</td>\n",
       "    </tr>\n",
       "    <tr>\n",
       "      <th>1</th>\n",
       "      <td>for the first time in singapore, heytea will b...</td>\n",
       "      <td>None</td>\n",
       "      <td>None</td>\n",
       "    </tr>\n",
       "    <tr>\n",
       "      <th>2</th>\n",
       "      <td>korean “fat-carons” — supersized macarons stuf...</td>\n",
       "      <td>acar</td>\n",
       "      <td>Malay</td>\n",
       "    </tr>\n",
       "    <tr>\n",
       "      <th>3</th>\n",
       "      <td>online ordering system oddle has launched a ne...</td>\n",
       "      <td>None</td>\n",
       "      <td>None</td>\n",
       "    </tr>\n",
       "    <tr>\n",
       "      <th>4</th>\n",
       "      <td>a canelé is a bite-sized french pastry from bo...</td>\n",
       "      <td>None</td>\n",
       "      <td>None</td>\n",
       "    </tr>\n",
       "    <tr>\n",
       "      <th>...</th>\n",
       "      <td>...</td>\n",
       "      <td>...</td>\n",
       "      <td>...</td>\n",
       "    </tr>\n",
       "    <tr>\n",
       "      <th>1035</th>\n",
       "      <td>butadon with egg.\\r\\n\\r\\nwhen you see shabu sh...</td>\n",
       "      <td>None</td>\n",
       "      <td>None</td>\n",
       "    </tr>\n",
       "    <tr>\n",
       "      <th>1036</th>\n",
       "      <td>here’s a recap of that famous grilled cheese s...</td>\n",
       "      <td>None</td>\n",
       "      <td>None</td>\n",
       "    </tr>\n",
       "    <tr>\n",
       "      <th>1037</th>\n",
       "      <td>a healthy sunday start with chobani greek yogh...</td>\n",
       "      <td>None</td>\n",
       "      <td>None</td>\n",
       "    </tr>\n",
       "    <tr>\n",
       "      <th>1038</th>\n",
       "      <td>crispy salmon in vegetable broth.\\r\\n\\r\\nthank...</td>\n",
       "      <td>None</td>\n",
       "      <td>None</td>\n",
       "    </tr>\n",
       "    <tr>\n",
       "      <th>1039</th>\n",
       "      <td>stuffed squid with glutinous rice.\\r\\n\\r\\nsoak...</td>\n",
       "      <td>None</td>\n",
       "      <td>None</td>\n",
       "    </tr>\n",
       "  </tbody>\n",
       "</table>\n",
       "<p>1040 rows × 3 columns</p>\n",
       "</div>"
      ],
      "text/plain": [
       "                                                caption         food  cuisine\n",
       "0     katong’s famous hokkien mee and fried mee sua ...  hokkien mee  Chinese\n",
       "1     for the first time in singapore, heytea will b...         None     None\n",
       "2     korean “fat-carons” — supersized macarons stuf...         acar    Malay\n",
       "3     online ordering system oddle has launched a ne...         None     None\n",
       "4     a canelé is a bite-sized french pastry from bo...         None     None\n",
       "...                                                 ...          ...      ...\n",
       "1035  butadon with egg.\\r\\n\\r\\nwhen you see shabu sh...         None     None\n",
       "1036  here’s a recap of that famous grilled cheese s...         None     None\n",
       "1037  a healthy sunday start with chobani greek yogh...         None     None\n",
       "1038  crispy salmon in vegetable broth.\\r\\n\\r\\nthank...         None     None\n",
       "1039  stuffed squid with glutinous rice.\\r\\n\\r\\nsoak...         None     None\n",
       "\n",
       "[1040 rows x 3 columns]"
      ]
     },
     "execution_count": 20,
     "metadata": {},
     "output_type": "execute_result"
    }
   ],
   "source": [
    "df[[\"caption\", \"food\", \"cuisine\"]]"
   ]
  },
  {
   "cell_type": "code",
   "execution_count": 21,
   "metadata": {
    "scrolled": true
   },
   "outputs": [
    {
     "data": {
      "text/html": [
       "<div>\n",
       "<style scoped>\n",
       "    .dataframe tbody tr th:only-of-type {\n",
       "        vertical-align: middle;\n",
       "    }\n",
       "\n",
       "    .dataframe tbody tr th {\n",
       "        vertical-align: top;\n",
       "    }\n",
       "\n",
       "    .dataframe thead th {\n",
       "        text-align: right;\n",
       "    }\n",
       "</style>\n",
       "<table border=\"1\" class=\"dataframe\">\n",
       "  <thead>\n",
       "    <tr style=\"text-align: right;\">\n",
       "      <th></th>\n",
       "      <th>timestamp</th>\n",
       "      <th>Username</th>\n",
       "      <th>caption</th>\n",
       "      <th>no. of likes</th>\n",
       "      <th>no. of comments</th>\n",
       "      <th>comments</th>\n",
       "      <th>ID</th>\n",
       "      <th>food</th>\n",
       "      <th>cuisine</th>\n",
       "    </tr>\n",
       "  </thead>\n",
       "  <tbody>\n",
       "    <tr>\n",
       "      <th>0</th>\n",
       "      <td>30/6/2020</td>\n",
       "      <td>8days_eat</td>\n",
       "      <td>katong’s famous hokkien mee and fried mee sua ...</td>\n",
       "      <td>326</td>\n",
       "      <td>7</td>\n",
       "      <td>['@lauren.khoury still can’t crack a smile 😬',...</td>\n",
       "      <td>0</td>\n",
       "      <td>hokkien mee</td>\n",
       "      <td>Chinese</td>\n",
       "    </tr>\n",
       "    <tr>\n",
       "      <th>2</th>\n",
       "      <td>29/6/2020</td>\n",
       "      <td>8days_eat</td>\n",
       "      <td>korean “fat-carons” — supersized macarons stuf...</td>\n",
       "      <td>453</td>\n",
       "      <td>3</td>\n",
       "      <td>['#8dayseat #sgfoodies #instafood #yum #sgfood...</td>\n",
       "      <td>2</td>\n",
       "      <td>acar</td>\n",
       "      <td>Malay</td>\n",
       "    </tr>\n",
       "    <tr>\n",
       "      <th>5</th>\n",
       "      <td>29/6/2020</td>\n",
       "      <td>8days_eat</td>\n",
       "      <td>@7elevensg now has $2, $3 and $4 all-day break...</td>\n",
       "      <td>148</td>\n",
       "      <td>0</td>\n",
       "      <td>[]</td>\n",
       "      <td>5</td>\n",
       "      <td>kopi</td>\n",
       "      <td>Drinks and beverages</td>\n",
       "    </tr>\n",
       "    <tr>\n",
       "      <th>15</th>\n",
       "      <td>23/6/2020</td>\n",
       "      <td>8days_eat</td>\n",
       "      <td>breaking news: nine-year-old french patisserie...</td>\n",
       "      <td>647</td>\n",
       "      <td>15</td>\n",
       "      <td>['Omg @xin_yx', 'When is the last day?', '@car...</td>\n",
       "      <td>15</td>\n",
       "      <td>yong tau foo</td>\n",
       "      <td>Chinese</td>\n",
       "    </tr>\n",
       "    <tr>\n",
       "      <th>21</th>\n",
       "      <td>21/6/2020</td>\n",
       "      <td>8days_eat</td>\n",
       "      <td>tapow feast from @fullertonhotelsg ”dine at ho...</td>\n",
       "      <td>243</td>\n",
       "      <td>1</td>\n",
       "      <td>['Looks so good!! 😍😍']</td>\n",
       "      <td>21</td>\n",
       "      <td>hainanese chicken rice</td>\n",
       "      <td>Chinese</td>\n",
       "    </tr>\n",
       "    <tr>\n",
       "      <th>...</th>\n",
       "      <td>...</td>\n",
       "      <td>...</td>\n",
       "      <td>...</td>\n",
       "      <td>...</td>\n",
       "      <td>...</td>\n",
       "      <td>...</td>\n",
       "      <td>...</td>\n",
       "      <td>...</td>\n",
       "      <td>...</td>\n",
       "    </tr>\n",
       "    <tr>\n",
       "      <th>972</th>\n",
       "      <td>11/6/2020</td>\n",
       "      <td>thesilverchef</td>\n",
       "      <td>red bean pancakes, here is the recipe again fo...</td>\n",
       "      <td>555</td>\n",
       "      <td>2</td>\n",
       "      <td>['This looks so tasty! 😍', '♥♥♥♥♥']</td>\n",
       "      <td>972</td>\n",
       "      <td>popiah</td>\n",
       "      <td>Chinese</td>\n",
       "    </tr>\n",
       "    <tr>\n",
       "      <th>976</th>\n",
       "      <td>10/6/2020</td>\n",
       "      <td>thesilverchef</td>\n",
       "      <td>shakshuka, a middle eastern breakfast favourit...</td>\n",
       "      <td>428</td>\n",
       "      <td>1</td>\n",
       "      <td>['Wow looks easy. Ok this weekend 🙌']</td>\n",
       "      <td>976</td>\n",
       "      <td>rojak</td>\n",
       "      <td>Cross-cultural</td>\n",
       "    </tr>\n",
       "    <tr>\n",
       "      <th>979</th>\n",
       "      <td>9/6/2020</td>\n",
       "      <td>thesilverchef</td>\n",
       "      <td>here’s a recap of doraemon favourite dessert, ...</td>\n",
       "      <td>461</td>\n",
       "      <td>18</td>\n",
       "      <td>['😋😋😋', 'Doriyaki 😍', 'Soooo excited to try th...</td>\n",
       "      <td>979</td>\n",
       "      <td>kopi</td>\n",
       "      <td>Drinks and beverages</td>\n",
       "    </tr>\n",
       "    <tr>\n",
       "      <th>996</th>\n",
       "      <td>3/6/2020</td>\n",
       "      <td>thesilverchef</td>\n",
       "      <td>after cooking exclusively at home and making a...</td>\n",
       "      <td>359</td>\n",
       "      <td>4</td>\n",
       "      <td>['Even outside food you make it so yummyliciou...</td>\n",
       "      <td>996</td>\n",
       "      <td>bak kut teh</td>\n",
       "      <td>Chinese</td>\n",
       "    </tr>\n",
       "    <tr>\n",
       "      <th>1026</th>\n",
       "      <td>3/6/2020</td>\n",
       "      <td>thesilverchef</td>\n",
       "      <td>after cooking exclusively at home and making a...</td>\n",
       "      <td>359</td>\n",
       "      <td>4</td>\n",
       "      <td>['Even outside food you make it so yummyliciou...</td>\n",
       "      <td>1026</td>\n",
       "      <td>bak kut teh</td>\n",
       "      <td>Chinese</td>\n",
       "    </tr>\n",
       "  </tbody>\n",
       "</table>\n",
       "<p>182 rows × 9 columns</p>\n",
       "</div>"
      ],
      "text/plain": [
       "      timestamp       Username  \\\n",
       "0     30/6/2020      8days_eat   \n",
       "2     29/6/2020      8days_eat   \n",
       "5     29/6/2020      8days_eat   \n",
       "15    23/6/2020      8days_eat   \n",
       "21    21/6/2020      8days_eat   \n",
       "...         ...            ...   \n",
       "972   11/6/2020  thesilverchef   \n",
       "976   10/6/2020  thesilverchef   \n",
       "979    9/6/2020  thesilverchef   \n",
       "996    3/6/2020  thesilverchef   \n",
       "1026   3/6/2020  thesilverchef   \n",
       "\n",
       "                                                caption  no. of likes  \\\n",
       "0     katong’s famous hokkien mee and fried mee sua ...           326   \n",
       "2     korean “fat-carons” — supersized macarons stuf...           453   \n",
       "5     @7elevensg now has $2, $3 and $4 all-day break...           148   \n",
       "15    breaking news: nine-year-old french patisserie...           647   \n",
       "21    tapow feast from @fullertonhotelsg ”dine at ho...           243   \n",
       "...                                                 ...           ...   \n",
       "972   red bean pancakes, here is the recipe again fo...           555   \n",
       "976   shakshuka, a middle eastern breakfast favourit...           428   \n",
       "979   here’s a recap of doraemon favourite dessert, ...           461   \n",
       "996   after cooking exclusively at home and making a...           359   \n",
       "1026  after cooking exclusively at home and making a...           359   \n",
       "\n",
       "      no. of comments                                           comments  \\\n",
       "0                   7  ['@lauren.khoury still can’t crack a smile 😬',...   \n",
       "2                   3  ['#8dayseat #sgfoodies #instafood #yum #sgfood...   \n",
       "5                   0                                                 []   \n",
       "15                 15  ['Omg @xin_yx', 'When is the last day?', '@car...   \n",
       "21                  1                             ['Looks so good!! 😍😍']   \n",
       "...               ...                                                ...   \n",
       "972                 2                ['This looks so tasty! 😍', '♥♥♥♥♥']   \n",
       "976                 1              ['Wow looks easy. Ok this weekend 🙌']   \n",
       "979                18  ['😋😋😋', 'Doriyaki 😍', 'Soooo excited to try th...   \n",
       "996                 4  ['Even outside food you make it so yummyliciou...   \n",
       "1026                4  ['Even outside food you make it so yummyliciou...   \n",
       "\n",
       "        ID                    food               cuisine  \n",
       "0        0             hokkien mee               Chinese  \n",
       "2        2                    acar                 Malay  \n",
       "5        5                    kopi  Drinks and beverages  \n",
       "15      15            yong tau foo               Chinese  \n",
       "21      21  hainanese chicken rice               Chinese  \n",
       "...    ...                     ...                   ...  \n",
       "972    972                  popiah               Chinese  \n",
       "976    976                   rojak        Cross-cultural  \n",
       "979    979                    kopi  Drinks and beverages  \n",
       "996    996             bak kut teh               Chinese  \n",
       "1026  1026             bak kut teh               Chinese  \n",
       "\n",
       "[182 rows x 9 columns]"
      ]
     },
     "execution_count": 21,
     "metadata": {},
     "output_type": "execute_result"
    }
   ],
   "source": [
    "df[~df[\"food\"].isna()]"
   ]
  },
  {
   "cell_type": "code",
   "execution_count": 22,
   "metadata": {},
   "outputs": [
    {
     "name": "stdout",
     "output_type": "stream",
     "text": [
      "['hokkien mee' None 'acar' 'kopi' 'yong tau foo' 'hainanese chicken rice'\n",
      " 'bak chang' 'kuih' 'pulut hitam' 'milo' 'biryani' 'char kway teow'\n",
      " 'mee pok' 'duck rice' 'roti prata' 'teochew porridge' 'chai tow kway'\n",
      " 'satay' 'chilli crab' 'assam pedas' 'appam' 'sambal' 'hum chim peng'\n",
      " 'dosa' 'char siu' 'curry puff' 'bubur cha cha' 'keropok' 'har cheong gai'\n",
      " 'cereal prawns' 'rawon' 'soto' 'oyster omelette' 'bandung' 'bak kut teh'\n",
      " 'popiah' 'frog leg porridge' 'ban mian' 'horlicks' 'crab bee hoon'\n",
      " 'fish head curry' 'mee siam' 'ketupat' 'rojak']\n",
      "43\n"
     ]
    }
   ],
   "source": [
    "print(df[\"food\"].unique())\n",
    "print(df[\"food\"].nunique())"
   ]
  },
  {
   "cell_type": "code",
   "execution_count": 23,
   "metadata": {},
   "outputs": [
    {
     "name": "stdout",
     "output_type": "stream",
     "text": [
      "['Chinese' None 'Malay' 'Drinks and beverages' 'Desserts' 'Cross-cultural'\n",
      " 'Indian' 'Seafood']\n",
      "7\n"
     ]
    }
   ],
   "source": [
    "print(df[\"cuisine\"].unique())\n",
    "print(df[\"cuisine\"].nunique())"
   ]
  },
  {
   "cell_type": "code",
   "execution_count": 24,
   "metadata": {},
   "outputs": [
    {
     "data": {
      "text/plain": [
       "array(['biryani', 'cereal prawns', 'fish head curry', 'mee siam', 'rojak'],\n",
       "      dtype=object)"
      ]
     },
     "execution_count": 24,
     "metadata": {},
     "output_type": "execute_result"
    }
   ],
   "source": [
    "df[df[\"cuisine\"] == 'Cross-cultural'][\"food\"].unique()"
   ]
  },
  {
   "cell_type": "markdown",
   "metadata": {},
   "source": [
    "## Verifying Representation of each Influencer\n",
    "\n",
    "We shall now attempt to check if every influencer is being equally represented by our chosen corpus. This is done by checking the percentage of the influencer's posts that are being labelled by the corpus."
   ]
  },
  {
   "cell_type": "code",
   "execution_count": 25,
   "metadata": {},
   "outputs": [
    {
     "data": {
      "text/html": [
       "<div>\n",
       "<style scoped>\n",
       "    .dataframe tbody tr th:only-of-type {\n",
       "        vertical-align: middle;\n",
       "    }\n",
       "\n",
       "    .dataframe tbody tr th {\n",
       "        vertical-align: top;\n",
       "    }\n",
       "\n",
       "    .dataframe thead th {\n",
       "        text-align: right;\n",
       "    }\n",
       "</style>\n",
       "<table border=\"1\" class=\"dataframe\">\n",
       "  <thead>\n",
       "    <tr style=\"text-align: right;\">\n",
       "      <th></th>\n",
       "      <th>Username</th>\n",
       "      <th>no. of posts</th>\n",
       "      <th>no. of labelled posts</th>\n",
       "      <th>representation %</th>\n",
       "    </tr>\n",
       "  </thead>\n",
       "  <tbody>\n",
       "    <tr>\n",
       "      <th>0</th>\n",
       "      <td>thesilverchef</td>\n",
       "      <td>251</td>\n",
       "      <td>35</td>\n",
       "      <td>13.944223</td>\n",
       "    </tr>\n",
       "    <tr>\n",
       "      <th>1</th>\n",
       "      <td>sgfoodonfoot</td>\n",
       "      <td>122</td>\n",
       "      <td>21</td>\n",
       "      <td>17.213115</td>\n",
       "    </tr>\n",
       "    <tr>\n",
       "      <th>2</th>\n",
       "      <td>stormscape</td>\n",
       "      <td>105</td>\n",
       "      <td>19</td>\n",
       "      <td>18.095238</td>\n",
       "    </tr>\n",
       "    <tr>\n",
       "      <th>3</th>\n",
       "      <td>fundamentally_flawed</td>\n",
       "      <td>98</td>\n",
       "      <td>19</td>\n",
       "      <td>19.387755</td>\n",
       "    </tr>\n",
       "    <tr>\n",
       "      <th>4</th>\n",
       "      <td>sethluicious</td>\n",
       "      <td>94</td>\n",
       "      <td>18</td>\n",
       "      <td>19.148936</td>\n",
       "    </tr>\n",
       "    <tr>\n",
       "      <th>5</th>\n",
       "      <td>misstamchiak</td>\n",
       "      <td>79</td>\n",
       "      <td>15</td>\n",
       "      <td>18.987342</td>\n",
       "    </tr>\n",
       "    <tr>\n",
       "      <th>6</th>\n",
       "      <td>8days_eat</td>\n",
       "      <td>68</td>\n",
       "      <td>14</td>\n",
       "      <td>20.588235</td>\n",
       "    </tr>\n",
       "    <tr>\n",
       "      <th>7</th>\n",
       "      <td>danielfooddiary</td>\n",
       "      <td>54</td>\n",
       "      <td>11</td>\n",
       "      <td>20.370370</td>\n",
       "    </tr>\n",
       "    <tr>\n",
       "      <th>8</th>\n",
       "      <td>foodkingnoc</td>\n",
       "      <td>48</td>\n",
       "      <td>11</td>\n",
       "      <td>22.916667</td>\n",
       "    </tr>\n",
       "    <tr>\n",
       "      <th>9</th>\n",
       "      <td>ieatishootipost</td>\n",
       "      <td>47</td>\n",
       "      <td>11</td>\n",
       "      <td>23.404255</td>\n",
       "    </tr>\n",
       "    <tr>\n",
       "      <th>10</th>\n",
       "      <td>eatbooksg</td>\n",
       "      <td>44</td>\n",
       "      <td>7</td>\n",
       "      <td>15.909091</td>\n",
       "    </tr>\n",
       "    <tr>\n",
       "      <th>11</th>\n",
       "      <td>sheeatsshecooks</td>\n",
       "      <td>30</td>\n",
       "      <td>1</td>\n",
       "      <td>3.333333</td>\n",
       "    </tr>\n",
       "  </tbody>\n",
       "</table>\n",
       "</div>"
      ],
      "text/plain": [
       "                Username  no. of posts  no. of labelled posts  \\\n",
       "0          thesilverchef           251                     35   \n",
       "1           sgfoodonfoot           122                     21   \n",
       "2             stormscape           105                     19   \n",
       "3   fundamentally_flawed            98                     19   \n",
       "4           sethluicious            94                     18   \n",
       "5           misstamchiak            79                     15   \n",
       "6              8days_eat            68                     14   \n",
       "7        danielfooddiary            54                     11   \n",
       "8            foodkingnoc            48                     11   \n",
       "9        ieatishootipost            47                     11   \n",
       "10             eatbooksg            44                      7   \n",
       "11       sheeatsshecooks            30                      1   \n",
       "\n",
       "    representation %  \n",
       "0          13.944223  \n",
       "1          17.213115  \n",
       "2          18.095238  \n",
       "3          19.387755  \n",
       "4          19.148936  \n",
       "5          18.987342  \n",
       "6          20.588235  \n",
       "7          20.370370  \n",
       "8          22.916667  \n",
       "9          23.404255  \n",
       "10         15.909091  \n",
       "11          3.333333  "
      ]
     },
     "execution_count": 25,
     "metadata": {},
     "output_type": "execute_result"
    }
   ],
   "source": [
    "df_influencers = df[\"Username\"].value_counts().reset_index()\n",
    "df_influencers.columns = [\"Username\", \"no. of posts\"]\n",
    "df_influencers[\"no. of labelled posts\"] = df[~df[\"food\"].isna()][\"Username\"].value_counts().values\n",
    "df_influencers[\"representation %\"] = df_influencers[\"no. of labelled posts\"] / df_influencers[\"no. of posts\"] *100\n",
    "\n",
    "df_influencers"
   ]
  },
  {
   "cell_type": "code",
   "execution_count": 26,
   "metadata": {},
   "outputs": [
    {
     "data": {
      "image/png": "[encoded data removed]",
      "text/plain": [
       "<Figure size 432x288 with 1 Axes>"
      ]
     },
     "metadata": {
      "needs_background": "light"
     },
     "output_type": "display_data"
    },
    {
     "data": {
      "image/png": "[encoded data removed]",
      "text/plain": [
       "<Figure size 432x288 with 1 Axes>"
      ]
     },
     "metadata": {
      "needs_background": "light"
     },
     "output_type": "display_data"
    }
   ],
   "source": [
    "plt.bar(df_influencers[\"Username\"], df_influencers[\"representation %\"])\n",
    "plt.axhline(len(df[~df[\"food\"].isna()])/len(df)*100, color=\"r\",\\\n",
    "            label=\"% of whole dataset represented = \"+str(len(df[~df[\"food\"].isna()])/len(df)*100)+\"%\", ls='--')\n",
    "plt.title(\"% Represented of each Influencer by the corpus\")\n",
    "plt.xticks(rotation=90)\n",
    "plt.ylabel(\"% represented by corpus\")\n",
    "plt.legend()\n",
    "plt.show()\n",
    "\n",
    "plt.bar(df_influencers[\"Username\"], df_influencers[\"no. of labelled posts\"])\n",
    "plt.title(\"Number of posts labelled of each Influencer by the corpus\")\n",
    "plt.xticks(rotation=90)\n",
    "plt.ylabel(\"Number of posts labelled\")\n",
    "plt.show()"
   ]
  },
  {
   "cell_type": "markdown",
   "metadata": {},
   "source": [
    "From the above plot, we found out that the influencer ```sheeatsshecooks``` is severely under-represented by the chosen corpus. We shall now investigate further and update the corpus with food names used by ```sheeatsshecooks```.\n",
    "\n",
    "Although ```thesilverchef``` is the second most under-represented influencer, ```thesilverchef``` already have the most labelled posts, and further attention to label ```thesilverchef```'s posts will probably not change the conclusion. Hence, we will focus our efforts on increasing the representation of ```sheeatsshecooks```."
   ]
  },
  {
   "cell_type": "markdown",
   "metadata": {},
   "source": [
    "# Pareto Analysis for Supplementary Labelling"
   ]
  },
  {
   "cell_type": "markdown",
   "metadata": {},
   "source": [
    "## EDA on ```sheeatsshecooks```"
   ]
  },
  {
   "cell_type": "code",
   "execution_count": 27,
   "metadata": {
    "scrolled": true
   },
   "outputs": [
    {
     "name": "stdout",
     "output_type": "stream",
     "text": [
      "homemade lobster mac & cheese using a diy set\n",
      "-------------------------\n",
      "aburi unagi & pork don, spicy salmon poke bowl & gyoza - to help out their tenants @guocotower is offering free delivery this covid period\n",
      "-------------------------\n",
      "organic roast chicken stuffed with lemon, onion, bacon, juniper berries & rosemary on a bed of roasted apples & carrots - you can taste the difference in these organic free range chickens raised by @bostockbrothers grazing on certified organic grass and apples. got these from the guys @meatcosg & are the perfect meat for a dinner party\n",
      "-------------------------\n",
      "closed 🥳*giveaway* beautiful shabu set from @meatcosg - one of my favourite meat suppliers in singapore and where i’ve been getting all my meat from🥳 wagyu shabu, wagyu tongue, pork cuts, lamb - such variety! .\r\n",
      "\r\n",
      "welcome to one of many *weekly giveaways* to brighten your day. these are beloved suppliers of mine & small businesses so let’s support them during this time. congratulations @chew.cereal and @viakoh for winning the last giveaway!!! . \r\n",
      "participation is easy and don’t worry i’ll see if you enter every week ;) 1) follow @meatcosg & @sheeatsshecooks (key importance!)💃🏻 2) like this post🥰 \r\n",
      "3) tag a friend or two (sharing is caring) maybe try to charm @meatcosg 😎 . \r\n",
      "1 winner will be selected & announced 3 july (in time for the next giveaway)\n",
      "-------------------------\n",
      "harissa grilled prawns with a tahini kale salad - a simple marinade of olive oil, salt, pepper, paprika & harissa paste then grilled. these tiger prawns were juicy, sweet and delivered\n",
      "-------------------------\n",
      "heading back to work with these healthy bowls with delicious vegetarian & meat options - as a bonus $1 from every bowl is donated to down syndrome association singapore\n",
      "-------------------------\n",
      "gorgeous acai bowls to start the day - these are great healthy ones not loaded with sugar which is surprisingly hard to find in singapore. loved the fresh fruits & creamy acai\n",
      "-------------------------\n",
      "housewarming cheeseboard with parma ham, roquefort, spicy salami, stout beer cheddar, mortadella, virginia ham, brie & duck pate\n",
      "-------------------------\n",
      "crayfish, lemonade & charcuterie broth | uni chawanmushi | “cheeseburger” beef tartare | caviar bite - so happy to be able to eat out again & see chefs coming back strong\n",
      "-------------------------\n",
      "cheers to phase 2 and having four guests over for dinner with this prime rib from @meatcosg served with a side salad & roasted sweet potatoes\n",
      "-------------------------\n",
      "bouillabaisse with rouille on toast served with a beautiful viognier wine. very excited that one of my favourite french spots in singapore is launching islandwide delivery tonight!\n",
      "-------------------------\n",
      "grass-fed beef tartare with crispy fries - this lovely belgian restaurant opened right before our lockdown  and will be open every day in june serving belgian classics like the delicious beef cheek carbonnade (stewed in beer) and their homemade pork pate with onion jam. perfect for the recent rainy days and wholesome food cooked with belgian love. brought me right back to the streets of brussels!\n",
      "-------------------------\n",
      "a new alcohol delivery platform @sipsy.sg in town courtesy of @pscafe with aperol & negroni kits making my phase 2 entertaining that much easier\n",
      "-------------------------\n",
      "a lovely meal delivered from argentinean steakhouse @bochinchesg using jarrah wood and bincho tan charcoal to grill this tender and richly flavoured argentinean ribeye. paired with a quinoa feta salad, empanadas & amazing dulche de leche donuts with a gooey centre - one of the best deliveries i’ve had & delicious well-cooked food all around. solid father’s day option!\n",
      "-------------------------\n",
      "lovely modern asian feast in time for father’s day from @1.vu.sg. with standouts like the hamachi sashimi with kaffir line shoyu, grilled octopus in housemade pineapple gochujang & a seafood platter with fishbone beurre blanc, @ace_tan_sg aims to please the singaporean palate\n",
      "-------------------------\n",
      "fall-off-the-bone 4-ingredient usda st.louis ribs from @meatcosg. simply generously rub the rack of ribs with salt, worcestershire sauce,  curry ketchup (you can use normal ketchup) & mesquite spice blend from @helaspicesingapore.  wrap in foil and bake for 2 hours at 160c. then unwrap, brush a layer of desired sauce (i used curry ketchup) then bake for another 1 hour uncovered. the ribs should be sticky, tender, juicy and falling off the bones. use sheeatsshecooks10 for a discount @meatcosg\n",
      "-------------------------\n",
      "seabass stuffed with ginger, spring onion, cilantro & chilli steamed in soy sauce & sesame oil\n",
      "-------------------------\n",
      "the easiest weeknight roast chicken fully rubbed down with @helaspicesingapore mesquite chicken seasoning (no msg) & stuffed with pineapples & garlic. served with peas, mushrooms & baked beans. came across this german spice distributor who coincidentally sells my favourite curry ketchup and tested out their incredible freeze dried spices- great quality and value\n",
      "-------------------------\n",
      "homemade hokkien mee & prawn noodles with a rich spiced prawn stock\n",
      "-------------------------\n",
      "maine lobster roll made using a diy kit from @angiesoysterbarsg. had such a fun time recreating this summer classic at home, stuffing it with lobster meat & pretending i was by the water in maine\n",
      "-------------------------\n",
      "this beautiful gift hamper complete with freshly baked scones, quiches , artisanal cookies, tea & flowers really brightened my day. check out the curated hampers from @knotsandgifts when you want to brighten someone’s day\n",
      "-------------------------\n",
      "singaporean feast with a whole lemongrass stuffed salt baked seabass, “te kah” wokfried beehoon with braised pork, braised cabbage, salted egg yolk spinach & milk tea\n",
      "-------------------------\n",
      "lamb roast, mashed potatoes, steamed broccoli, yorkshire pudding, baked corn & peas\n",
      "-------------------------\n",
      "starting off every day with a croissant & coffee, taking stock of things im grateful for & goals for the day. paired with a manicure using vegan & natural gel polish by the incredible @jaydeau who’s based in singapore outside of fashion weeks\n",
      "-------------------------\n",
      "poached chicken in a black garlic sauce with polenta fries & peas. spicy bell pepper soup in the background\n",
      "-------------------------\n",
      "a childhood restaurant launching a new asian menu with a tuna roll, mentai salmon roll, fried vietnamese spring rolls & mentai fried tofu. they have a great deal on fish & chips too! - order directly from restaurants with delivery 🙏🏻\n",
      "-------------------------\n",
      "creamy durian puff for tea time\n",
      "-------------------------\n",
      "gorgeous, juicy & tender beef ribs slow cooked for 16 hours by chef paolo using his grandmother’s recipe & their incredible pork mac & cheese with guanciale and parmesan - possibly the best mac & cheese in singapore?  they’re offering free delivery with any order of beef ribs and they come with lovely sides & freshly baked bread, or you can order a spicy chorizo pizza like me\n",
      "-------------------------\n",
      "chickpea salad, fava bean dip, beetroot hummus & tzatziki with toasted bread\n",
      "-------------------------\n",
      "beef bourguignon & seabass en papillote from @fleurdesel_sg , beautiful clean flavours as if cooked fresh from a french grandmother’s (or @chefalexandrelozachmeur ) kitchen. you can taste the love & authenticity in the food , definitely one of the best takeouts during circuit breaker\n",
      "-------------------------\n"
     ]
    }
   ],
   "source": [
    "for c in df[df[\"Username\"] == \"sheeatsshecooks\"][\"caption\"]:\n",
    "    print(c)\n",
    "    print('-------------------------')"
   ]
  },
  {
   "cell_type": "markdown",
   "metadata": {},
   "source": [
    "## Data Clearning"
   ]
  },
  {
   "cell_type": "code",
   "execution_count": 28,
   "metadata": {
    "scrolled": true
   },
   "outputs": [
    {
     "data": {
      "text/plain": [
       "['homemade lobster mac & cheese using a diy set',\n",
       " 'aburi unagi & pork don, spicy salmon poke bowl & gyoza - to help out their tenants @guocotower is offering free delivery this covid period',\n",
       " 'organic roast chicken stuffed with lemon, onion, bacon, juniper berries & rosemary on a bed of roasted apples & carrots - you can taste the difference in these organic free range chickens raised by @bostockbrothers grazing on certified organic grass and apples. got these from the guys @meatcosg & are the perfect meat for a dinner party',\n",
       " 'closed 🥳*giveaway* beautiful shabu set from @meatcosg - one of my favourite meat suppliers in singapore and where i’ve been getting all my meat from🥳 wagyu shabu, wagyu tongue, pork cuts, lamb - such variety! .\\r\\n\\r\\nwelcome to one of many *weekly giveaways* to brighten your day. these are beloved suppliers of mine & small businesses so let’s support them during this time. congratulations @chew.cereal and @viakoh for winning the last giveaway!!! . \\r\\nparticipation is easy and don’t worry i’ll see if you enter every week ;) 1) follow @meatcosg & @sheeatsshecooks (key importance!)💃🏻 2) like this post🥰 \\r\\n3) tag a friend or two (sharing is caring) maybe try to charm @meatcosg 😎 . \\r\\n1 winner will be selected & announced 3 july (in time for the next giveaway)',\n",
       " 'harissa grilled prawns with a tahini kale salad - a simple marinade of olive oil, salt, pepper, paprika & harissa paste then grilled. these tiger prawns were juicy, sweet and delivered',\n",
       " 'heading back to work with these healthy bowls with delicious vegetarian & meat options - as a bonus $1 from every bowl is donated to down syndrome association singapore',\n",
       " 'gorgeous acai bowls to start the day - these are great healthy ones not loaded with sugar which is surprisingly hard to find in singapore. loved the fresh fruits & creamy acai',\n",
       " 'housewarming cheeseboard with parma ham, roquefort, spicy salami, stout beer cheddar, mortadella, virginia ham, brie & duck pate',\n",
       " 'crayfish, lemonade & charcuterie broth | uni chawanmushi | “cheeseburger” beef tartare | caviar bite - so happy to be able to eat out again & see chefs coming back strong',\n",
       " 'cheers to phase 2 and having four guests over for dinner with this prime rib from @meatcosg served with a side salad & roasted sweet potatoes',\n",
       " 'bouillabaisse with rouille on toast served with a beautiful viognier wine. very excited that one of my favourite french spots in singapore is launching islandwide delivery tonight!',\n",
       " 'grass-fed beef tartare with crispy fries - this lovely belgian restaurant opened right before our lockdown  and will be open every day in june serving belgian classics like the delicious beef cheek carbonnade (stewed in beer) and their homemade pork pate with onion jam. perfect for the recent rainy days and wholesome food cooked with belgian love. brought me right back to the streets of brussels!',\n",
       " 'a new alcohol delivery platform @sipsy.sg in town courtesy of @pscafe with aperol & negroni kits making my phase 2 entertaining that much easier',\n",
       " 'a lovely meal delivered from argentinean steakhouse @bochinchesg using jarrah wood and bincho tan charcoal to grill this tender and richly flavoured argentinean ribeye. paired with a quinoa feta salad, empanadas & amazing dulche de leche donuts with a gooey centre - one of the best deliveries i’ve had & delicious well-cooked food all around. solid father’s day option!',\n",
       " 'lovely modern asian feast in time for father’s day from @1.vu.sg. with standouts like the hamachi sashimi with kaffir line shoyu, grilled octopus in housemade pineapple gochujang & a seafood platter with fishbone beurre blanc, @ace_tan_sg aims to please the singaporean palate',\n",
       " 'fall-off-the-bone 4-ingredient usda st.louis ribs from @meatcosg. simply generously rub the rack of ribs with salt, worcestershire sauce,  curry ketchup (you can use normal ketchup) & mesquite spice blend from @helaspicesingapore.  wrap in foil and bake for 2 hours at 160c. then unwrap, brush a layer of desired sauce (i used curry ketchup) then bake for another 1 hour uncovered. the ribs should be sticky, tender, juicy and falling off the bones. use sheeatsshecooks10 for a discount @meatcosg',\n",
       " 'seabass stuffed with ginger, spring onion, cilantro & chilli steamed in soy sauce & sesame oil',\n",
       " 'the easiest weeknight roast chicken fully rubbed down with @helaspicesingapore mesquite chicken seasoning (no msg) & stuffed with pineapples & garlic. served with peas, mushrooms & baked beans. came across this german spice distributor who coincidentally sells my favourite curry ketchup and tested out their incredible freeze dried spices- great quality and value',\n",
       " 'homemade hokkien mee & prawn noodles with a rich spiced prawn stock',\n",
       " 'maine lobster roll made using a diy kit from @angiesoysterbarsg. had such a fun time recreating this summer classic at home, stuffing it with lobster meat & pretending i was by the water in maine',\n",
       " 'this beautiful gift hamper complete with freshly baked scones, quiches , artisanal cookies, tea & flowers really brightened my day. check out the curated hampers from @knotsandgifts when you want to brighten someone’s day',\n",
       " 'singaporean feast with a whole lemongrass stuffed salt baked seabass, “te kah” wokfried beehoon with braised pork, braised cabbage, salted egg yolk spinach & milk tea',\n",
       " 'lamb roast, mashed potatoes, steamed broccoli, yorkshire pudding, baked corn & peas',\n",
       " 'starting off every day with a croissant & coffee, taking stock of things im grateful for & goals for the day. paired with a manicure using vegan & natural gel polish by the incredible @jaydeau who’s based in singapore outside of fashion weeks',\n",
       " 'poached chicken in a black garlic sauce with polenta fries & peas. spicy bell pepper soup in the background',\n",
       " 'a childhood restaurant launching a new asian menu with a tuna roll, mentai salmon roll, fried vietnamese spring rolls & mentai fried tofu. they have a great deal on fish & chips too! - order directly from restaurants with delivery 🙏🏻',\n",
       " 'creamy durian puff for tea time',\n",
       " 'gorgeous, juicy & tender beef ribs slow cooked for 16 hours by chef paolo using his grandmother’s recipe & their incredible pork mac & cheese with guanciale and parmesan - possibly the best mac & cheese in singapore?  they’re offering free delivery with any order of beef ribs and they come with lovely sides & freshly baked bread, or you can order a spicy chorizo pizza like me',\n",
       " 'chickpea salad, fava bean dip, beetroot hummus & tzatziki with toasted bread',\n",
       " 'beef bourguignon & seabass en papillote from @fleurdesel_sg , beautiful clean flavours as if cooked fresh from a french grandmother’s (or @chefalexandrelozachmeur ) kitchen. you can taste the love & authenticity in the food , definitely one of the best takeouts during circuit breaker']"
      ]
     },
     "execution_count": 28,
     "metadata": {},
     "output_type": "execute_result"
    }
   ],
   "source": [
    "txt = df[df[\"Username\"] == \"sheeatsshecooks\"][\"caption\"].values.tolist()\n",
    "txt"
   ]
  },
  {
   "cell_type": "markdown",
   "metadata": {},
   "source": [
    "We will do some simple data cleaning to make the results of our analysis more reliable. The data cleaning steps we will take are as follows:\n",
    "\n",
    "1. Use a regular expression to remove any punctuation\n",
    "2. Check that all text are already in lower case\n",
    "3. Remove stop words"
   ]
  },
  {
   "cell_type": "code",
   "execution_count": 29,
   "metadata": {
    "scrolled": true
   },
   "outputs": [
    {
     "data": {
      "text/plain": [
       "['homemade lobster mac & cheese using a diy set',\n",
       " 'aburi unagi & pork don spicy salmon poke bowl & gyoza - to help out their tenants guocotower is offering free delivery this covid period',\n",
       " 'organic roast chicken stuffed with lemon onion bacon juniper berries & rosemary on a bed of roasted apples & carrots - you can taste the difference in these organic free range chickens raised by bostockbrothers grazing on certified organic grass and apples got these from the guys meatcosg & are the perfect meat for a dinner party',\n",
       " 'closed 🥳*giveaway* beautiful shabu set from meatcosg - one of my favourite meat suppliers in singapore and where i’ve been getting all my meat from🥳 wagyu shabu wagyu tongue pork cuts lamb - such variety     welcome to one of many *weekly giveaways* to brighten your day these are beloved suppliers of mine & small businesses so let’s support them during this time congratulations chewcereal and viakoh for winning the last giveaway    participation is easy and don’t worry i’ll see if you enter every week ;  1  follow meatcosg & sheeatsshecooks  key importance 💃🏻 2  like this post🥰   3  tag a friend or two  sharing is caring  maybe try to charm meatcosg 😎    1 winner will be selected & announced 3 july  in time for the next giveaway ',\n",
       " 'harissa grilled prawns with a tahini kale salad - a simple marinade of olive oil salt pepper paprika & harissa paste then grilled these tiger prawns were juicy sweet and delivered',\n",
       " 'heading back to work with these healthy bowls with delicious vegetarian & meat options - as a bonus $1 from every bowl is donated to down syndrome association singapore',\n",
       " 'gorgeous acai bowls to start the day - these are great healthy ones not loaded with sugar which is surprisingly hard to find in singapore loved the fresh fruits & creamy acai',\n",
       " 'housewarming cheeseboard with parma ham roquefort spicy salami stout beer cheddar mortadella virginia ham brie & duck pate',\n",
       " 'crayfish lemonade & charcuterie broth | uni chawanmushi | “cheeseburger” beef tartare | caviar bite - so happy to be able to eat out again & see chefs coming back strong',\n",
       " 'cheers to phase 2 and having four guests over for dinner with this prime rib from meatcosg served with a side salad & roasted sweet potatoes',\n",
       " 'bouillabaisse with rouille on toast served with a beautiful viognier wine very excited that one of my favourite french spots in singapore is launching islandwide delivery tonight',\n",
       " 'grass-fed beef tartare with crispy fries - this lovely belgian restaurant opened right before our lockdown  and will be open every day in june serving belgian classics like the delicious beef cheek carbonnade  stewed in beer  and their homemade pork pate with onion jam perfect for the recent rainy days and wholesome food cooked with belgian love brought me right back to the streets of brussels',\n",
       " 'a new alcohol delivery platform sipsysg in town courtesy of pscafe with aperol & negroni kits making my phase 2 entertaining that much easier',\n",
       " 'a lovely meal delivered from argentinean steakhouse bochinchesg using jarrah wood and bincho tan charcoal to grill this tender and richly flavoured argentinean ribeye paired with a quinoa feta salad empanadas & amazing dulche de leche donuts with a gooey centre - one of the best deliveries i’ve had & delicious well-cooked food all around solid father’s day option',\n",
       " 'lovely modern asian feast in time for father’s day from 1vusg with standouts like the hamachi sashimi with kaffir line shoyu grilled octopus in housemade pineapple gochujang & a seafood platter with fishbone beurre blanc ace_tan_sg aims to please the singaporean palate',\n",
       " 'fall-off-the-bone 4-ingredient usda stlouis ribs from meatcosg simply generously rub the rack of ribs with salt worcestershire sauce  curry ketchup  you can use normal ketchup  & mesquite spice blend from helaspicesingapore  wrap in foil and bake for 2 hours at 160c then unwrap brush a layer of desired sauce  i used curry ketchup  then bake for another 1 hour uncovered the ribs should be sticky tender juicy and falling off the bones use sheeatsshecooks10 for a discount meatcosg',\n",
       " 'seabass stuffed with ginger spring onion cilantro & chilli steamed in soy sauce & sesame oil',\n",
       " 'the easiest weeknight roast chicken fully rubbed down with helaspicesingapore mesquite chicken seasoning  no msg  & stuffed with pineapples & garlic served with peas mushrooms & baked beans came across this german spice distributor who coincidentally sells my favourite curry ketchup and tested out their incredible freeze dried spices- great quality and value',\n",
       " 'homemade hokkien mee & prawn noodles with a rich spiced prawn stock',\n",
       " 'maine lobster roll made using a diy kit from angiesoysterbarsg had such a fun time recreating this summer classic at home stuffing it with lobster meat & pretending i was by the water in maine',\n",
       " 'this beautiful gift hamper complete with freshly baked scones quiches  artisanal cookies tea & flowers really brightened my day check out the curated hampers from knotsandgifts when you want to brighten someone’s day',\n",
       " 'singaporean feast with a whole lemongrass stuffed salt baked seabass “te kah” wokfried beehoon with braised pork braised cabbage salted egg yolk spinach & milk tea',\n",
       " 'lamb roast mashed potatoes steamed broccoli yorkshire pudding baked corn & peas',\n",
       " 'starting off every day with a croissant & coffee taking stock of things im grateful for & goals for the day paired with a manicure using vegan & natural gel polish by the incredible jaydeau who’s based in singapore outside of fashion weeks',\n",
       " 'poached chicken in a black garlic sauce with polenta fries & peas spicy bell pepper soup in the background',\n",
       " 'a childhood restaurant launching a new asian menu with a tuna roll mentai salmon roll fried vietnamese spring rolls & mentai fried tofu they have a great deal on fish & chips too - order directly from restaurants with delivery 🙏🏻',\n",
       " 'creamy durian puff for tea time',\n",
       " 'gorgeous juicy & tender beef ribs slow cooked for 16 hours by chef paolo using his grandmother’s recipe & their incredible pork mac & cheese with guanciale and parmesan - possibly the best mac & cheese in singapore  they’re offering free delivery with any order of beef ribs and they come with lovely sides & freshly baked bread or you can order a spicy chorizo pizza like me',\n",
       " 'chickpea salad fava bean dip beetroot hummus & tzatziki with toasted bread',\n",
       " 'beef bourguignon & seabass en papillote from fleurdesel_sg  beautiful clean flavours as if cooked fresh from a french grandmother’s  or chefalexandrelozachmeur   kitchen you can taste the love & authenticity in the food  definitely one of the best takeouts during circuit breaker']"
      ]
     },
     "execution_count": 29,
     "metadata": {},
     "output_type": "execute_result"
    }
   ],
   "source": [
    "# Load the regular expression library\n",
    "import re\n",
    "\n",
    "# Remove punctuation\n",
    "txt = list(map(lambda x: re.sub('[,\\.!?@]', '', x), txt))\n",
    "txt = list(map(lambda x: re.sub('[()\\r\\n]', ' ', x), txt))\n",
    "\n",
    "# # Convert the titles to lowercase\n",
    "# txt = txt.map(lambda x: x.lower())\n",
    "\n",
    "# View our results\n",
    "txt"
   ]
  },
  {
   "cell_type": "code",
   "execution_count": 30,
   "metadata": {},
   "outputs": [],
   "source": [
    "import nltk\n",
    "# nltk.download('stopwords')\n",
    "from nltk.corpus import stopwords\n",
    "from nltk.tokenize import word_tokenize\n",
    "\n",
    "# stop_words = set(stopwords.words('english'))\n",
    "# word_tokens = word_tokenize(txt)\n",
    "\n",
    "# filtered_sentence = [w for w in word_tokens if not w in stop_words] \n",
    "  \n",
    "# filtered_sentence = [] \n",
    "  \n",
    "# for w in word_tokens: \n",
    "#     if w not in stop_words: \n",
    "#         filtered_sentence.append(w) "
   ]
  },
  {
   "cell_type": "markdown",
   "metadata": {},
   "source": [
    "## Word Frequency"
   ]
  },
  {
   "cell_type": "code",
   "execution_count": 31,
   "metadata": {},
   "outputs": [
    {
     "data": {
      "text/html": [
       "<div>\n",
       "<style scoped>\n",
       "    .dataframe tbody tr th:only-of-type {\n",
       "        vertical-align: middle;\n",
       "    }\n",
       "\n",
       "    .dataframe tbody tr th {\n",
       "        vertical-align: top;\n",
       "    }\n",
       "\n",
       "    .dataframe thead th {\n",
       "        text-align: right;\n",
       "    }\n",
       "</style>\n",
       "<table border=\"1\" class=\"dataframe\">\n",
       "  <thead>\n",
       "    <tr style=\"text-align: right;\">\n",
       "      <th></th>\n",
       "      <th>word</th>\n",
       "      <th>freq</th>\n",
       "    </tr>\n",
       "  </thead>\n",
       "  <tbody>\n",
       "    <tr>\n",
       "      <th>110</th>\n",
       "      <td>&amp;</td>\n",
       "      <td>45</td>\n",
       "    </tr>\n",
       "    <tr>\n",
       "      <th>496</th>\n",
       "      <td>with</td>\n",
       "      <td>38</td>\n",
       "    </tr>\n",
       "    <tr>\n",
       "      <th>406</th>\n",
       "      <td>a</td>\n",
       "      <td>29</td>\n",
       "    </tr>\n",
       "    <tr>\n",
       "      <th>32</th>\n",
       "      <td>the</td>\n",
       "      <td>26</td>\n",
       "    </tr>\n",
       "    <tr>\n",
       "      <th>108</th>\n",
       "      <td>in</td>\n",
       "      <td>18</td>\n",
       "    </tr>\n",
       "    <tr>\n",
       "      <th>258</th>\n",
       "      <td>and</td>\n",
       "      <td>17</td>\n",
       "    </tr>\n",
       "    <tr>\n",
       "      <th>122</th>\n",
       "      <td>of</td>\n",
       "      <td>15</td>\n",
       "    </tr>\n",
       "    <tr>\n",
       "      <th>248</th>\n",
       "      <td>to</td>\n",
       "      <td>15</td>\n",
       "    </tr>\n",
       "    <tr>\n",
       "      <th>542</th>\n",
       "      <td>from</td>\n",
       "      <td>13</td>\n",
       "    </tr>\n",
       "    <tr>\n",
       "      <th>409</th>\n",
       "      <td>for</td>\n",
       "      <td>13</td>\n",
       "    </tr>\n",
       "    <tr>\n",
       "      <th>411</th>\n",
       "      <td>-</td>\n",
       "      <td>12</td>\n",
       "    </tr>\n",
       "    <tr>\n",
       "      <th>221</th>\n",
       "      <td>day</td>\n",
       "      <td>9</td>\n",
       "    </tr>\n",
       "    <tr>\n",
       "      <th>399</th>\n",
       "      <td>this</td>\n",
       "      <td>9</td>\n",
       "    </tr>\n",
       "    <tr>\n",
       "      <th>128</th>\n",
       "      <td>meatcosg</td>\n",
       "      <td>7</td>\n",
       "    </tr>\n",
       "    <tr>\n",
       "      <th>90</th>\n",
       "      <td>beef</td>\n",
       "      <td>6</td>\n",
       "    </tr>\n",
       "    <tr>\n",
       "      <th>328</th>\n",
       "      <td>singapore</td>\n",
       "      <td>6</td>\n",
       "    </tr>\n",
       "    <tr>\n",
       "      <th>259</th>\n",
       "      <td>is</td>\n",
       "      <td>6</td>\n",
       "    </tr>\n",
       "    <tr>\n",
       "      <th>356</th>\n",
       "      <td>you</td>\n",
       "      <td>6</td>\n",
       "    </tr>\n",
       "    <tr>\n",
       "      <th>118</th>\n",
       "      <td>these</td>\n",
       "      <td>6</td>\n",
       "    </tr>\n",
       "    <tr>\n",
       "      <th>454</th>\n",
       "      <td>my</td>\n",
       "      <td>6</td>\n",
       "    </tr>\n",
       "  </tbody>\n",
       "</table>\n",
       "</div>"
      ],
      "text/plain": [
       "          word  freq\n",
       "110          &    45\n",
       "496       with    38\n",
       "406          a    29\n",
       "32         the    26\n",
       "108         in    18\n",
       "258        and    17\n",
       "122         of    15\n",
       "248         to    15\n",
       "542       from    13\n",
       "409        for    13\n",
       "411          -    12\n",
       "221        day     9\n",
       "399       this     9\n",
       "128   meatcosg     7\n",
       "90        beef     6\n",
       "328  singapore     6\n",
       "259         is     6\n",
       "356        you     6\n",
       "118      these     6\n",
       "454         my     6"
      ]
     },
     "execution_count": 31,
     "metadata": {},
     "output_type": "execute_result"
    }
   ],
   "source": [
    "wordlist = []\n",
    "wordfreq = []\n",
    "\n",
    "for c in txt:\n",
    "    wordlist += c.split()\n",
    "\n",
    "unique_wordlist = list(set(wordlist))\n",
    "    \n",
    "for w in unique_wordlist:\n",
    "    wordfreq.append(wordlist.count(w))\n",
    "    \n",
    "df_wordsfreq = pd.DataFrame({\"word\": unique_wordlist,\n",
    "                            \"freq\": wordfreq})\n",
    "df_wordsfreq.sort_values(\"freq\", ascending = False)[:20]"
   ]
  },
  {
   "cell_type": "code",
   "execution_count": 32,
   "metadata": {},
   "outputs": [
    {
     "data": {
      "text/html": [
       "<div>\n",
       "<style scoped>\n",
       "    .dataframe tbody tr th:only-of-type {\n",
       "        vertical-align: middle;\n",
       "    }\n",
       "\n",
       "    .dataframe tbody tr th {\n",
       "        vertical-align: top;\n",
       "    }\n",
       "\n",
       "    .dataframe thead th {\n",
       "        text-align: right;\n",
       "    }\n",
       "</style>\n",
       "<table border=\"1\" class=\"dataframe\">\n",
       "  <thead>\n",
       "    <tr style=\"text-align: right;\">\n",
       "      <th></th>\n",
       "      <th>freq</th>\n",
       "    </tr>\n",
       "  </thead>\n",
       "  <tbody>\n",
       "    <tr>\n",
       "      <th>count</th>\n",
       "      <td>584.000000</td>\n",
       "    </tr>\n",
       "    <tr>\n",
       "      <th>mean</th>\n",
       "      <td>1.880137</td>\n",
       "    </tr>\n",
       "    <tr>\n",
       "      <th>std</th>\n",
       "      <td>3.317817</td>\n",
       "    </tr>\n",
       "    <tr>\n",
       "      <th>min</th>\n",
       "      <td>1.000000</td>\n",
       "    </tr>\n",
       "    <tr>\n",
       "      <th>25%</th>\n",
       "      <td>1.000000</td>\n",
       "    </tr>\n",
       "    <tr>\n",
       "      <th>50%</th>\n",
       "      <td>1.000000</td>\n",
       "    </tr>\n",
       "    <tr>\n",
       "      <th>75%</th>\n",
       "      <td>2.000000</td>\n",
       "    </tr>\n",
       "    <tr>\n",
       "      <th>max</th>\n",
       "      <td>45.000000</td>\n",
       "    </tr>\n",
       "  </tbody>\n",
       "</table>\n",
       "</div>"
      ],
      "text/plain": [
       "             freq\n",
       "count  584.000000\n",
       "mean     1.880137\n",
       "std      3.317817\n",
       "min      1.000000\n",
       "25%      1.000000\n",
       "50%      1.000000\n",
       "75%      2.000000\n",
       "max     45.000000"
      ]
     },
     "execution_count": 32,
     "metadata": {},
     "output_type": "execute_result"
    }
   ],
   "source": [
    "df_wordsfreq.describe()"
   ]
  },
  {
   "cell_type": "code",
   "execution_count": 33,
   "metadata": {},
   "outputs": [
    {
     "data": {
      "image/png": "[encoded data removed]",
      "text/plain": [
       "<PIL.Image.Image image mode=RGB size=400x200 at 0x18AB7AA8860>"
      ]
     },
     "execution_count": 33,
     "metadata": {},
     "output_type": "execute_result"
    }
   ],
   "source": [
    "# Import the wordcloud library\n",
    "from wordcloud import WordCloud\n",
    "\n",
    "# Join the different processed titles together.\n",
    "long_string = ','.join(txt)\n",
    "\n",
    "# Create a WordCloud object\n",
    "wordcloud = WordCloud(background_color=\"white\", max_words=1000, contour_width=3, contour_color='steelblue')\n",
    "\n",
    "# Generate a word cloud\n",
    "wordcloud.generate(long_string)\n",
    "\n",
    "# Visualize the word cloud\n",
    "wordcloud.to_image()"
   ]
  },
  {
   "cell_type": "markdown",
   "metadata": {},
   "source": [
    "Here, we rank in the words based on their relative frequency of occurence, and sieve out the words that are probably part of food names."
   ]
  },
  {
   "cell_type": "code",
   "execution_count": 34,
   "metadata": {},
   "outputs": [
    {
     "data": {
      "text/html": [
       "<div>\n",
       "<style scoped>\n",
       "    .dataframe tbody tr th:only-of-type {\n",
       "        vertical-align: middle;\n",
       "    }\n",
       "\n",
       "    .dataframe tbody tr th {\n",
       "        vertical-align: top;\n",
       "    }\n",
       "\n",
       "    .dataframe thead th {\n",
       "        text-align: right;\n",
       "    }\n",
       "</style>\n",
       "<table border=\"1\" class=\"dataframe\">\n",
       "  <thead>\n",
       "    <tr style=\"text-align: right;\">\n",
       "      <th></th>\n",
       "      <th>word</th>\n",
       "      <th>freq</th>\n",
       "    </tr>\n",
       "  </thead>\n",
       "  <tbody>\n",
       "    <tr>\n",
       "      <th>0</th>\n",
       "      <td>day</td>\n",
       "      <td>1.0</td>\n",
       "    </tr>\n",
       "    <tr>\n",
       "      <th>1</th>\n",
       "      <td>meatcosg</td>\n",
       "      <td>0.7</td>\n",
       "    </tr>\n",
       "    <tr>\n",
       "      <th>2</th>\n",
       "      <td>one</td>\n",
       "      <td>0.6</td>\n",
       "    </tr>\n",
       "    <tr>\n",
       "      <th>3</th>\n",
       "      <td>singapore</td>\n",
       "      <td>0.6</td>\n",
       "    </tr>\n",
       "    <tr>\n",
       "      <th>4</th>\n",
       "      <td>beef</td>\n",
       "      <td>0.6</td>\n",
       "    </tr>\n",
       "    <tr>\n",
       "      <th>5</th>\n",
       "      <td>rib</td>\n",
       "      <td>0.6</td>\n",
       "    </tr>\n",
       "    <tr>\n",
       "      <th>10</th>\n",
       "      <td>meat</td>\n",
       "      <td>0.5</td>\n",
       "    </tr>\n",
       "    <tr>\n",
       "      <th>12</th>\n",
       "      <td>baked</td>\n",
       "      <td>0.5</td>\n",
       "    </tr>\n",
       "    <tr>\n",
       "      <th>11</th>\n",
       "      <td>time</td>\n",
       "      <td>0.5</td>\n",
       "    </tr>\n",
       "    <tr>\n",
       "      <th>9</th>\n",
       "      <td>chicken</td>\n",
       "      <td>0.5</td>\n",
       "    </tr>\n",
       "    <tr>\n",
       "      <th>8</th>\n",
       "      <td>delivery</td>\n",
       "      <td>0.5</td>\n",
       "    </tr>\n",
       "    <tr>\n",
       "      <th>7</th>\n",
       "      <td>pork</td>\n",
       "      <td>0.5</td>\n",
       "    </tr>\n",
       "    <tr>\n",
       "      <th>6</th>\n",
       "      <td>using</td>\n",
       "      <td>0.5</td>\n",
       "    </tr>\n",
       "    <tr>\n",
       "      <th>20</th>\n",
       "      <td>lovely</td>\n",
       "      <td>0.4</td>\n",
       "    </tr>\n",
       "    <tr>\n",
       "      <th>24</th>\n",
       "      <td>roll</td>\n",
       "      <td>0.4</td>\n",
       "    </tr>\n",
       "    <tr>\n",
       "      <th>23</th>\n",
       "      <td>prawn</td>\n",
       "      <td>0.4</td>\n",
       "    </tr>\n",
       "    <tr>\n",
       "      <th>22</th>\n",
       "      <td>sauce</td>\n",
       "      <td>0.4</td>\n",
       "    </tr>\n",
       "    <tr>\n",
       "      <th>21</th>\n",
       "      <td>cooked</td>\n",
       "      <td>0.4</td>\n",
       "    </tr>\n",
       "    <tr>\n",
       "      <th>19</th>\n",
       "      <td>salad</td>\n",
       "      <td>0.4</td>\n",
       "    </tr>\n",
       "    <tr>\n",
       "      <th>17</th>\n",
       "      <td>beautiful</td>\n",
       "      <td>0.4</td>\n",
       "    </tr>\n",
       "  </tbody>\n",
       "</table>\n",
       "</div>"
      ],
      "text/plain": [
       "         word  freq\n",
       "0         day   1.0\n",
       "1    meatcosg   0.7\n",
       "2         one   0.6\n",
       "3   singapore   0.6\n",
       "4        beef   0.6\n",
       "5         rib   0.6\n",
       "10       meat   0.5\n",
       "12      baked   0.5\n",
       "11       time   0.5\n",
       "9     chicken   0.5\n",
       "8    delivery   0.5\n",
       "7        pork   0.5\n",
       "6       using   0.5\n",
       "20     lovely   0.4\n",
       "24       roll   0.4\n",
       "23      prawn   0.4\n",
       "22      sauce   0.4\n",
       "21     cooked   0.4\n",
       "19      salad   0.4\n",
       "17  beautiful   0.4"
      ]
     },
     "execution_count": 34,
     "metadata": {},
     "output_type": "execute_result"
    }
   ],
   "source": [
    "df_wordsfreq = pd.DataFrame({\"word\": list(wordcloud.words_.keys()),\n",
    "                            \"freq\": list(wordcloud.words_.values())})\n",
    "df_wordsfreq.sort_values(\"freq\", ascending = False)[:20]"
   ]
  },
  {
   "cell_type": "code",
   "execution_count": 35,
   "metadata": {},
   "outputs": [],
   "source": [
    "new_foods = [\"beef\", \"rib\", \"meat\", \"baked\", \"chicken\", \"pork\", \"roll\", \"prawn\", \"cooked\", \"salad\"]"
   ]
  },
  {
   "cell_type": "markdown",
   "metadata": {},
   "source": [
    "Now that we have created a list of potential new food names to add to our corpus, we shall check if they already belong in the corpus (perhaps under a different name?). Otherwise, we will identify their full food names from the captions to add to the corpus."
   ]
  },
  {
   "cell_type": "code",
   "execution_count": 36,
   "metadata": {},
   "outputs": [
    {
     "name": "stdout",
     "output_type": "stream",
     "text": [
      "'beef kway teow',\n",
      "'drunken prawns',\n",
      "'hainanese chicken rice',\n",
      "'shredded chicken noodles',\n",
      "'tandoori chicken',\n",
      "'cereal prawns',\n",
      "'chicken rice',\n",
      "'chicken noodles',\n"
     ]
    }
   ],
   "source": [
    "for x in df_corpus[\"alternative names\"]:\n",
    "    for food in new_foods:\n",
    "        if food in x or x in food:\n",
    "            print(\"'\" + x + \"',\")"
   ]
  },
  {
   "cell_type": "code",
   "execution_count": 37,
   "metadata": {},
   "outputs": [
    {
     "data": {
      "text/html": [
       "<div>\n",
       "<style scoped>\n",
       "    .dataframe tbody tr th:only-of-type {\n",
       "        vertical-align: middle;\n",
       "    }\n",
       "\n",
       "    .dataframe tbody tr th {\n",
       "        vertical-align: top;\n",
       "    }\n",
       "\n",
       "    .dataframe thead th {\n",
       "        text-align: right;\n",
       "    }\n",
       "</style>\n",
       "<table border=\"1\" class=\"dataframe\">\n",
       "  <thead>\n",
       "    <tr style=\"text-align: right;\">\n",
       "      <th></th>\n",
       "      <th>Food</th>\n",
       "      <th>Cuisine</th>\n",
       "      <th>alternative names</th>\n",
       "    </tr>\n",
       "  </thead>\n",
       "  <tbody>\n",
       "    <tr>\n",
       "      <th>1</th>\n",
       "      <td>beef kway teow</td>\n",
       "      <td>Chinese</td>\n",
       "      <td>beef kway teow</td>\n",
       "    </tr>\n",
       "    <tr>\n",
       "      <th>9</th>\n",
       "      <td>drunken prawns</td>\n",
       "      <td>Chinese</td>\n",
       "      <td>drunken prawns</td>\n",
       "    </tr>\n",
       "    <tr>\n",
       "      <th>15</th>\n",
       "      <td>hainanese chicken rice</td>\n",
       "      <td>Chinese</td>\n",
       "      <td>hainanese chicken rice</td>\n",
       "    </tr>\n",
       "    <tr>\n",
       "      <th>25</th>\n",
       "      <td>shredded chicken noodles</td>\n",
       "      <td>Chinese</td>\n",
       "      <td>shredded chicken noodles</td>\n",
       "    </tr>\n",
       "    <tr>\n",
       "      <th>68</th>\n",
       "      <td>tandoori chicken</td>\n",
       "      <td>Indian</td>\n",
       "      <td>tandoori chicken</td>\n",
       "    </tr>\n",
       "    <tr>\n",
       "      <th>72</th>\n",
       "      <td>cereal prawns</td>\n",
       "      <td>Cross-cultural</td>\n",
       "      <td>cereal prawns</td>\n",
       "    </tr>\n",
       "    <tr>\n",
       "      <th>113</th>\n",
       "      <td>hainanese chicken rice</td>\n",
       "      <td>Chinese</td>\n",
       "      <td>chicken rice</td>\n",
       "    </tr>\n",
       "    <tr>\n",
       "      <th>114</th>\n",
       "      <td>shredded chicken noodles</td>\n",
       "      <td>Chinese</td>\n",
       "      <td>chicken noodles</td>\n",
       "    </tr>\n",
       "  </tbody>\n",
       "</table>\n",
       "</div>"
      ],
      "text/plain": [
       "                         Food         Cuisine         alternative names\n",
       "1              beef kway teow         Chinese            beef kway teow\n",
       "9              drunken prawns         Chinese            drunken prawns\n",
       "15     hainanese chicken rice         Chinese    hainanese chicken rice\n",
       "25   shredded chicken noodles         Chinese  shredded chicken noodles\n",
       "68           tandoori chicken          Indian          tandoori chicken\n",
       "72              cereal prawns  Cross-cultural             cereal prawns\n",
       "113    hainanese chicken rice         Chinese              chicken rice\n",
       "114  shredded chicken noodles         Chinese           chicken noodles"
      ]
     },
     "execution_count": 37,
     "metadata": {},
     "output_type": "execute_result"
    }
   ],
   "source": [
    "df_corpus[df_corpus[\"alternative names\"].isin(['beef kway teow',\n",
    "                                    'drunken prawns',\n",
    "                                    'hainanese chicken rice',\n",
    "                                    'shredded chicken noodles',\n",
    "                                    'tandoori chicken',\n",
    "                                    'cereal prawns',\n",
    "                                    'chicken rice',\n",
    "                                    'chicken noodles',])]"
   ]
  },
  {
   "cell_type": "markdown",
   "metadata": {},
   "source": [
    "No naming conflicts identified"
   ]
  },
  {
   "cell_type": "markdown",
   "metadata": {},
   "source": [
    "In order to identify the full food names, let us see which captions do these new food words appear in."
   ]
  },
  {
   "cell_type": "code",
   "execution_count": 38,
   "metadata": {},
   "outputs": [
    {
     "name": "stdout",
     "output_type": "stream",
     "text": [
      "beef\n",
      "crayfish lemonade & charcuterie broth | uni chawanmushi | “cheeseburger” beef tartare | caviar bite - so happy to be able to eat out again & see chefs coming back strong\n",
      "\n",
      "grass-fed beef tartare with crispy fries - this lovely belgian restaurant opened right before our lockdown  and will be open every day in june serving belgian classics like the delicious beef cheek carbonnade  stewed in beer  and their homemade pork pate with onion jam perfect for the recent rainy days and wholesome food cooked with belgian love brought me right back to the streets of brussels\n",
      "\n",
      "gorgeous juicy & tender beef ribs slow cooked for 16 hours by chef paolo using his grandmother’s recipe & their incredible pork mac & cheese with guanciale and parmesan - possibly the best mac & cheese in singapore  they’re offering free delivery with any order of beef ribs and they come with lovely sides & freshly baked bread or you can order a spicy chorizo pizza like me\n",
      "\n",
      "beef bourguignon & seabass en papillote from fleurdesel_sg  beautiful clean flavours as if cooked fresh from a french grandmother’s  or chefalexandrelozachmeur   kitchen you can taste the love & authenticity in the food  definitely one of the best takeouts during circuit breaker\n",
      "\n",
      "-------------\n",
      "rib\n",
      "cheers to phase 2 and having four guests over for dinner with this prime rib from meatcosg served with a side salad & roasted sweet potatoes\n",
      "\n",
      "a lovely meal delivered from argentinean steakhouse bochinchesg using jarrah wood and bincho tan charcoal to grill this tender and richly flavoured argentinean ribeye paired with a quinoa feta salad empanadas & amazing dulche de leche donuts with a gooey centre - one of the best deliveries i’ve had & delicious well-cooked food all around solid father’s day option\n",
      "\n",
      "fall-off-the-bone 4-ingredient usda stlouis ribs from meatcosg simply generously rub the rack of ribs with salt worcestershire sauce  curry ketchup  you can use normal ketchup  & mesquite spice blend from helaspicesingapore  wrap in foil and bake for 2 hours at 160c then unwrap brush a layer of desired sauce  i used curry ketchup  then bake for another 1 hour uncovered the ribs should be sticky tender juicy and falling off the bones use sheeatsshecooks10 for a discount meatcosg\n",
      "\n",
      "the easiest weeknight roast chicken fully rubbed down with helaspicesingapore mesquite chicken seasoning  no msg  & stuffed with pineapples & garlic served with peas mushrooms & baked beans came across this german spice distributor who coincidentally sells my favourite curry ketchup and tested out their incredible freeze dried spices- great quality and value\n",
      "\n",
      "gorgeous juicy & tender beef ribs slow cooked for 16 hours by chef paolo using his grandmother’s recipe & their incredible pork mac & cheese with guanciale and parmesan - possibly the best mac & cheese in singapore  they’re offering free delivery with any order of beef ribs and they come with lovely sides & freshly baked bread or you can order a spicy chorizo pizza like me\n",
      "\n",
      "-------------\n",
      "meat\n",
      "organic roast chicken stuffed with lemon onion bacon juniper berries & rosemary on a bed of roasted apples & carrots - you can taste the difference in these organic free range chickens raised by bostockbrothers grazing on certified organic grass and apples got these from the guys meatcosg & are the perfect meat for a dinner party\n",
      "\n",
      "closed 🥳*giveaway* beautiful shabu set from meatcosg - one of my favourite meat suppliers in singapore and where i’ve been getting all my meat from🥳 wagyu shabu wagyu tongue pork cuts lamb - such variety     welcome to one of many *weekly giveaways* to brighten your day these are beloved suppliers of mine & small businesses so let’s support them during this time congratulations chewcereal and viakoh for winning the last giveaway    participation is easy and don’t worry i’ll see if you enter every week ;  1  follow meatcosg & sheeatsshecooks  key importance 💃🏻 2  like this post🥰   3  tag a friend or two  sharing is caring  maybe try to charm meatcosg 😎    1 winner will be selected & announced 3 july  in time for the next giveaway \n",
      "\n",
      "heading back to work with these healthy bowls with delicious vegetarian & meat options - as a bonus $1 from every bowl is donated to down syndrome association singapore\n",
      "\n",
      "cheers to phase 2 and having four guests over for dinner with this prime rib from meatcosg served with a side salad & roasted sweet potatoes\n",
      "\n",
      "fall-off-the-bone 4-ingredient usda stlouis ribs from meatcosg simply generously rub the rack of ribs with salt worcestershire sauce  curry ketchup  you can use normal ketchup  & mesquite spice blend from helaspicesingapore  wrap in foil and bake for 2 hours at 160c then unwrap brush a layer of desired sauce  i used curry ketchup  then bake for another 1 hour uncovered the ribs should be sticky tender juicy and falling off the bones use sheeatsshecooks10 for a discount meatcosg\n",
      "\n",
      "maine lobster roll made using a diy kit from angiesoysterbarsg had such a fun time recreating this summer classic at home stuffing it with lobster meat & pretending i was by the water in maine\n",
      "\n",
      "-------------\n",
      "baked\n",
      "the easiest weeknight roast chicken fully rubbed down with helaspicesingapore mesquite chicken seasoning  no msg  & stuffed with pineapples & garlic served with peas mushrooms & baked beans came across this german spice distributor who coincidentally sells my favourite curry ketchup and tested out their incredible freeze dried spices- great quality and value\n",
      "\n",
      "this beautiful gift hamper complete with freshly baked scones quiches  artisanal cookies tea & flowers really brightened my day check out the curated hampers from knotsandgifts when you want to brighten someone’s day\n",
      "\n",
      "singaporean feast with a whole lemongrass stuffed salt baked seabass “te kah” wokfried beehoon with braised pork braised cabbage salted egg yolk spinach & milk tea\n",
      "\n",
      "lamb roast mashed potatoes steamed broccoli yorkshire pudding baked corn & peas\n",
      "\n",
      "gorgeous juicy & tender beef ribs slow cooked for 16 hours by chef paolo using his grandmother’s recipe & their incredible pork mac & cheese with guanciale and parmesan - possibly the best mac & cheese in singapore  they’re offering free delivery with any order of beef ribs and they come with lovely sides & freshly baked bread or you can order a spicy chorizo pizza like me\n",
      "\n",
      "-------------\n",
      "chicken\n",
      "organic roast chicken stuffed with lemon onion bacon juniper berries & rosemary on a bed of roasted apples & carrots - you can taste the difference in these organic free range chickens raised by bostockbrothers grazing on certified organic grass and apples got these from the guys meatcosg & are the perfect meat for a dinner party\n",
      "\n",
      "the easiest weeknight roast chicken fully rubbed down with helaspicesingapore mesquite chicken seasoning  no msg  & stuffed with pineapples & garlic served with peas mushrooms & baked beans came across this german spice distributor who coincidentally sells my favourite curry ketchup and tested out their incredible freeze dried spices- great quality and value\n",
      "\n",
      "poached chicken in a black garlic sauce with polenta fries & peas spicy bell pepper soup in the background\n",
      "\n",
      "-------------\n",
      "pork\n",
      "aburi unagi & pork don spicy salmon poke bowl & gyoza - to help out their tenants guocotower is offering free delivery this covid period\n",
      "\n",
      "closed 🥳*giveaway* beautiful shabu set from meatcosg - one of my favourite meat suppliers in singapore and where i’ve been getting all my meat from🥳 wagyu shabu wagyu tongue pork cuts lamb - such variety     welcome to one of many *weekly giveaways* to brighten your day these are beloved suppliers of mine & small businesses so let’s support them during this time congratulations chewcereal and viakoh for winning the last giveaway    participation is easy and don’t worry i’ll see if you enter every week ;  1  follow meatcosg & sheeatsshecooks  key importance 💃🏻 2  like this post🥰   3  tag a friend or two  sharing is caring  maybe try to charm meatcosg 😎    1 winner will be selected & announced 3 july  in time for the next giveaway \n",
      "\n",
      "grass-fed beef tartare with crispy fries - this lovely belgian restaurant opened right before our lockdown  and will be open every day in june serving belgian classics like the delicious beef cheek carbonnade  stewed in beer  and their homemade pork pate with onion jam perfect for the recent rainy days and wholesome food cooked with belgian love brought me right back to the streets of brussels\n",
      "\n",
      "singaporean feast with a whole lemongrass stuffed salt baked seabass “te kah” wokfried beehoon with braised pork braised cabbage salted egg yolk spinach & milk tea\n",
      "\n",
      "gorgeous juicy & tender beef ribs slow cooked for 16 hours by chef paolo using his grandmother’s recipe & their incredible pork mac & cheese with guanciale and parmesan - possibly the best mac & cheese in singapore  they’re offering free delivery with any order of beef ribs and they come with lovely sides & freshly baked bread or you can order a spicy chorizo pizza like me\n",
      "\n",
      "-------------\n",
      "roll\n",
      "maine lobster roll made using a diy kit from angiesoysterbarsg had such a fun time recreating this summer classic at home stuffing it with lobster meat & pretending i was by the water in maine\n",
      "\n",
      "a childhood restaurant launching a new asian menu with a tuna roll mentai salmon roll fried vietnamese spring rolls & mentai fried tofu they have a great deal on fish & chips too - order directly from restaurants with delivery 🙏🏻\n",
      "\n",
      "-------------\n",
      "prawn\n",
      "harissa grilled prawns with a tahini kale salad - a simple marinade of olive oil salt pepper paprika & harissa paste then grilled these tiger prawns were juicy sweet and delivered\n",
      "\n",
      "homemade hokkien mee & prawn noodles with a rich spiced prawn stock\n",
      "\n",
      "-------------\n",
      "cooked\n",
      "grass-fed beef tartare with crispy fries - this lovely belgian restaurant opened right before our lockdown  and will be open every day in june serving belgian classics like the delicious beef cheek carbonnade  stewed in beer  and their homemade pork pate with onion jam perfect for the recent rainy days and wholesome food cooked with belgian love brought me right back to the streets of brussels\n",
      "\n",
      "a lovely meal delivered from argentinean steakhouse bochinchesg using jarrah wood and bincho tan charcoal to grill this tender and richly flavoured argentinean ribeye paired with a quinoa feta salad empanadas & amazing dulche de leche donuts with a gooey centre - one of the best deliveries i’ve had & delicious well-cooked food all around solid father’s day option\n",
      "\n",
      "gorgeous juicy & tender beef ribs slow cooked for 16 hours by chef paolo using his grandmother’s recipe & their incredible pork mac & cheese with guanciale and parmesan - possibly the best mac & cheese in singapore  they’re offering free delivery with any order of beef ribs and they come with lovely sides & freshly baked bread or you can order a spicy chorizo pizza like me\n",
      "\n",
      "beef bourguignon & seabass en papillote from fleurdesel_sg  beautiful clean flavours as if cooked fresh from a french grandmother’s  or chefalexandrelozachmeur   kitchen you can taste the love & authenticity in the food  definitely one of the best takeouts during circuit breaker\n",
      "\n",
      "-------------\n",
      "salad\n",
      "harissa grilled prawns with a tahini kale salad - a simple marinade of olive oil salt pepper paprika & harissa paste then grilled these tiger prawns were juicy sweet and delivered\n",
      "\n",
      "cheers to phase 2 and having four guests over for dinner with this prime rib from meatcosg served with a side salad & roasted sweet potatoes\n",
      "\n",
      "a lovely meal delivered from argentinean steakhouse bochinchesg using jarrah wood and bincho tan charcoal to grill this tender and richly flavoured argentinean ribeye paired with a quinoa feta salad empanadas & amazing dulche de leche donuts with a gooey centre - one of the best deliveries i’ve had & delicious well-cooked food all around solid father’s day option\n",
      "\n",
      "chickpea salad fava bean dip beetroot hummus & tzatziki with toasted bread\n",
      "\n",
      "-------------\n"
     ]
    }
   ],
   "source": [
    "for food in new_foods:\n",
    "    print(food)\n",
    "    for x in txt:\n",
    "        if food in x or x in food:\n",
    "            print(x)\n",
    "            print()\n",
    "    print('-------------')"
   ]
  },
  {
   "cell_type": "code",
   "execution_count": 39,
   "metadata": {},
   "outputs": [],
   "source": [
    "# Modify new_foods\n",
    "new_foods = [[\"beef tartare\", \"Western\"],\n",
    "            [\"rib\", \"Western\"],\n",
    "            [\"roast chicken\", \"Western\"],\n",
    "            [\"wagyu\", \"Japanese\"],\n",
    "            [\"scones\", \"Snacks\"],\n",
    "            [\"cookies\", \"Snacks\"],\n",
    "            [\"salted egg\", \"Snacks\"],\n",
    "            [\"unagi\", \"Japanese\"],\n",
    "            [\"poke bowl\", \"Japanese\"],\n",
    "            [\"gyoza\", \"Japanese\"]]"
   ]
  },
  {
   "cell_type": "markdown",
   "metadata": {},
   "source": [
    "Now we shall check if these new food names already appear in the corpus."
   ]
  },
  {
   "cell_type": "code",
   "execution_count": 40,
   "metadata": {},
   "outputs": [],
   "source": [
    "for x in df_corpus[\"alternative names\"]:\n",
    "    for food in new_foods:\n",
    "        if food[0] in x or x in food:\n",
    "            print(\"'\" + x + \"',\")"
   ]
  },
  {
   "cell_type": "code",
   "execution_count": 41,
   "metadata": {},
   "outputs": [
    {
     "data": {
      "text/html": [
       "<div>\n",
       "<style scoped>\n",
       "    .dataframe tbody tr th:only-of-type {\n",
       "        vertical-align: middle;\n",
       "    }\n",
       "\n",
       "    .dataframe tbody tr th {\n",
       "        vertical-align: top;\n",
       "    }\n",
       "\n",
       "    .dataframe thead th {\n",
       "        text-align: right;\n",
       "    }\n",
       "</style>\n",
       "<table border=\"1\" class=\"dataframe\">\n",
       "  <thead>\n",
       "    <tr style=\"text-align: right;\">\n",
       "      <th></th>\n",
       "      <th>Food</th>\n",
       "      <th>Cuisine</th>\n",
       "      <th>alternative names</th>\n",
       "    </tr>\n",
       "  </thead>\n",
       "  <tbody>\n",
       "    <tr>\n",
       "      <th>0</th>\n",
       "      <td>beef tartare</td>\n",
       "      <td>Western</td>\n",
       "      <td>beef tartare</td>\n",
       "    </tr>\n",
       "    <tr>\n",
       "      <th>1</th>\n",
       "      <td>rib</td>\n",
       "      <td>Western</td>\n",
       "      <td>rib</td>\n",
       "    </tr>\n",
       "    <tr>\n",
       "      <th>2</th>\n",
       "      <td>roast chicken</td>\n",
       "      <td>Western</td>\n",
       "      <td>roast chicken</td>\n",
       "    </tr>\n",
       "    <tr>\n",
       "      <th>3</th>\n",
       "      <td>wagyu</td>\n",
       "      <td>Japanese</td>\n",
       "      <td>wagyu</td>\n",
       "    </tr>\n",
       "    <tr>\n",
       "      <th>4</th>\n",
       "      <td>scones</td>\n",
       "      <td>Snacks</td>\n",
       "      <td>scones</td>\n",
       "    </tr>\n",
       "    <tr>\n",
       "      <th>5</th>\n",
       "      <td>cookies</td>\n",
       "      <td>Snacks</td>\n",
       "      <td>cookies</td>\n",
       "    </tr>\n",
       "    <tr>\n",
       "      <th>6</th>\n",
       "      <td>salted egg</td>\n",
       "      <td>Snacks</td>\n",
       "      <td>salted egg</td>\n",
       "    </tr>\n",
       "    <tr>\n",
       "      <th>7</th>\n",
       "      <td>unagi</td>\n",
       "      <td>Japanese</td>\n",
       "      <td>unagi</td>\n",
       "    </tr>\n",
       "    <tr>\n",
       "      <th>8</th>\n",
       "      <td>poke bowl</td>\n",
       "      <td>Japanese</td>\n",
       "      <td>poke bowl</td>\n",
       "    </tr>\n",
       "    <tr>\n",
       "      <th>9</th>\n",
       "      <td>gyoza</td>\n",
       "      <td>Japanese</td>\n",
       "      <td>gyoza</td>\n",
       "    </tr>\n",
       "  </tbody>\n",
       "</table>\n",
       "</div>"
      ],
      "text/plain": [
       "            Food   Cuisine alternative names\n",
       "0   beef tartare   Western      beef tartare\n",
       "1            rib   Western               rib\n",
       "2  roast chicken   Western     roast chicken\n",
       "3          wagyu  Japanese             wagyu\n",
       "4         scones    Snacks            scones\n",
       "5        cookies    Snacks           cookies\n",
       "6     salted egg    Snacks        salted egg\n",
       "7          unagi  Japanese             unagi\n",
       "8      poke bowl  Japanese         poke bowl\n",
       "9          gyoza  Japanese             gyoza"
      ]
     },
     "execution_count": 41,
     "metadata": {},
     "output_type": "execute_result"
    }
   ],
   "source": [
    "df_new_food = pd.DataFrame(new_foods, columns=[\"Food\", \"Cuisine\"])\n",
    "df_new_food[\"alternative names\"] = df_new_food[\"Food\"]\n",
    "df_new_food"
   ]
  },
  {
   "cell_type": "code",
   "execution_count": 42,
   "metadata": {},
   "outputs": [
    {
     "data": {
      "text/html": [
       "<div>\n",
       "<style scoped>\n",
       "    .dataframe tbody tr th:only-of-type {\n",
       "        vertical-align: middle;\n",
       "    }\n",
       "\n",
       "    .dataframe tbody tr th {\n",
       "        vertical-align: top;\n",
       "    }\n",
       "\n",
       "    .dataframe thead th {\n",
       "        text-align: right;\n",
       "    }\n",
       "</style>\n",
       "<table border=\"1\" class=\"dataframe\">\n",
       "  <thead>\n",
       "    <tr style=\"text-align: right;\">\n",
       "      <th></th>\n",
       "      <th>Food</th>\n",
       "      <th>Cuisine</th>\n",
       "      <th>alternative names</th>\n",
       "    </tr>\n",
       "  </thead>\n",
       "  <tbody>\n",
       "    <tr>\n",
       "      <th>0</th>\n",
       "      <td>beef tartare</td>\n",
       "      <td>Western</td>\n",
       "      <td>beef tartare</td>\n",
       "    </tr>\n",
       "    <tr>\n",
       "      <th>1</th>\n",
       "      <td>rib</td>\n",
       "      <td>Western</td>\n",
       "      <td>rib</td>\n",
       "    </tr>\n",
       "    <tr>\n",
       "      <th>2</th>\n",
       "      <td>roast chicken</td>\n",
       "      <td>Western</td>\n",
       "      <td>roast chicken</td>\n",
       "    </tr>\n",
       "    <tr>\n",
       "      <th>3</th>\n",
       "      <td>wagyu</td>\n",
       "      <td>Japanese</td>\n",
       "      <td>wagyu</td>\n",
       "    </tr>\n",
       "    <tr>\n",
       "      <th>4</th>\n",
       "      <td>scones</td>\n",
       "      <td>Snacks</td>\n",
       "      <td>scones</td>\n",
       "    </tr>\n",
       "    <tr>\n",
       "      <th>5</th>\n",
       "      <td>cookies</td>\n",
       "      <td>Snacks</td>\n",
       "      <td>cookies</td>\n",
       "    </tr>\n",
       "    <tr>\n",
       "      <th>6</th>\n",
       "      <td>salted egg</td>\n",
       "      <td>Snacks</td>\n",
       "      <td>salted egg</td>\n",
       "    </tr>\n",
       "    <tr>\n",
       "      <th>7</th>\n",
       "      <td>unagi</td>\n",
       "      <td>Japanese</td>\n",
       "      <td>unagi</td>\n",
       "    </tr>\n",
       "    <tr>\n",
       "      <th>8</th>\n",
       "      <td>poke bowl</td>\n",
       "      <td>Japanese</td>\n",
       "      <td>poke bowl</td>\n",
       "    </tr>\n",
       "    <tr>\n",
       "      <th>9</th>\n",
       "      <td>gyoza</td>\n",
       "      <td>Japanese</td>\n",
       "      <td>gyoza</td>\n",
       "    </tr>\n",
       "  </tbody>\n",
       "</table>\n",
       "</div>"
      ],
      "text/plain": [
       "            Food   Cuisine alternative names\n",
       "0   beef tartare   Western      beef tartare\n",
       "1            rib   Western               rib\n",
       "2  roast chicken   Western     roast chicken\n",
       "3          wagyu  Japanese             wagyu\n",
       "4         scones    Snacks            scones\n",
       "5        cookies    Snacks           cookies\n",
       "6     salted egg    Snacks        salted egg\n",
       "7          unagi  Japanese             unagi\n",
       "8      poke bowl  Japanese         poke bowl\n",
       "9          gyoza  Japanese             gyoza"
      ]
     },
     "execution_count": 42,
     "metadata": {},
     "output_type": "execute_result"
    }
   ],
   "source": [
    "df_new_food.append(pd.DataFrame([[\"rib\", \"Western\", \"ribeye\"],\n",
    "                                 [\"rib\", \"Western\", \"ribs\"],\n",
    "                                 [\"roast chicken\", \"Western\", \"fried chicken\"]],\n",
    "                                columns=[\"Food\", \"Cuisine\", \"alternative names\"], dtype=\"str\"))\n",
    "df_new_food"
   ]
  },
  {
   "cell_type": "code",
   "execution_count": 43,
   "metadata": {},
   "outputs": [
    {
     "data": {
      "text/plain": [
       "(139, 3)"
      ]
     },
     "execution_count": 43,
     "metadata": {},
     "output_type": "execute_result"
    }
   ],
   "source": [
    "df_corpus = df_corpus.append(df_new_food, ignore_index=True)\n",
    "df_corpus.shape"
   ]
  },
  {
   "cell_type": "markdown",
   "metadata": {},
   "source": [
    "## Pareto Corpus Food and Cuisine Labelling"
   ]
  },
  {
   "cell_type": "code",
   "execution_count": 44,
   "metadata": {},
   "outputs": [],
   "source": [
    "corpusname = \"3pareto\""
   ]
  },
  {
   "cell_type": "code",
   "execution_count": 45,
   "metadata": {},
   "outputs": [],
   "source": [
    "df[\"food\"] = df[\"caption\"].apply(label_from_df_column(df_corpus, \"alternative names\", \"Food\"))\n",
    "df[\"cuisine\"] = df[\"food\"].apply(label_from_df_column(df_corpus, \"Cuisine\", \"Food\"))"
   ]
  },
  {
   "cell_type": "markdown",
   "metadata": {},
   "source": [
    "# Evaluation"
   ]
  },
  {
   "cell_type": "markdown",
   "metadata": {},
   "source": [
    "## Verifying Representation of each Influencer\n",
    "\n",
    "With this modification to the corpus, we shall now check if every influencer is being equally represented by our chosen corpus. This is done by checking the percentage of the influencer's posts that are being labelled by the corpus."
   ]
  },
  {
   "cell_type": "code",
   "execution_count": 46,
   "metadata": {},
   "outputs": [
    {
     "data": {
      "text/html": [
       "<div>\n",
       "<style scoped>\n",
       "    .dataframe tbody tr th:only-of-type {\n",
       "        vertical-align: middle;\n",
       "    }\n",
       "\n",
       "    .dataframe tbody tr th {\n",
       "        vertical-align: top;\n",
       "    }\n",
       "\n",
       "    .dataframe thead th {\n",
       "        text-align: right;\n",
       "    }\n",
       "</style>\n",
       "<table border=\"1\" class=\"dataframe\">\n",
       "  <thead>\n",
       "    <tr style=\"text-align: right;\">\n",
       "      <th></th>\n",
       "      <th>Username</th>\n",
       "      <th>no. of posts</th>\n",
       "      <th>no. of labelled posts</th>\n",
       "      <th>representation %</th>\n",
       "    </tr>\n",
       "  </thead>\n",
       "  <tbody>\n",
       "    <tr>\n",
       "      <th>0</th>\n",
       "      <td>thesilverchef</td>\n",
       "      <td>251</td>\n",
       "      <td>64</td>\n",
       "      <td>25.498008</td>\n",
       "    </tr>\n",
       "    <tr>\n",
       "      <th>1</th>\n",
       "      <td>sgfoodonfoot</td>\n",
       "      <td>122</td>\n",
       "      <td>34</td>\n",
       "      <td>27.868852</td>\n",
       "    </tr>\n",
       "    <tr>\n",
       "      <th>2</th>\n",
       "      <td>stormscape</td>\n",
       "      <td>105</td>\n",
       "      <td>34</td>\n",
       "      <td>32.380952</td>\n",
       "    </tr>\n",
       "    <tr>\n",
       "      <th>3</th>\n",
       "      <td>fundamentally_flawed</td>\n",
       "      <td>98</td>\n",
       "      <td>28</td>\n",
       "      <td>28.571429</td>\n",
       "    </tr>\n",
       "    <tr>\n",
       "      <th>4</th>\n",
       "      <td>sethluicious</td>\n",
       "      <td>94</td>\n",
       "      <td>26</td>\n",
       "      <td>27.659574</td>\n",
       "    </tr>\n",
       "    <tr>\n",
       "      <th>5</th>\n",
       "      <td>misstamchiak</td>\n",
       "      <td>79</td>\n",
       "      <td>24</td>\n",
       "      <td>30.379747</td>\n",
       "    </tr>\n",
       "    <tr>\n",
       "      <th>6</th>\n",
       "      <td>8days_eat</td>\n",
       "      <td>68</td>\n",
       "      <td>19</td>\n",
       "      <td>27.941176</td>\n",
       "    </tr>\n",
       "    <tr>\n",
       "      <th>7</th>\n",
       "      <td>danielfooddiary</td>\n",
       "      <td>54</td>\n",
       "      <td>19</td>\n",
       "      <td>35.185185</td>\n",
       "    </tr>\n",
       "    <tr>\n",
       "      <th>8</th>\n",
       "      <td>foodkingnoc</td>\n",
       "      <td>48</td>\n",
       "      <td>17</td>\n",
       "      <td>35.416667</td>\n",
       "    </tr>\n",
       "    <tr>\n",
       "      <th>9</th>\n",
       "      <td>ieatishootipost</td>\n",
       "      <td>47</td>\n",
       "      <td>16</td>\n",
       "      <td>34.042553</td>\n",
       "    </tr>\n",
       "    <tr>\n",
       "      <th>10</th>\n",
       "      <td>eatbooksg</td>\n",
       "      <td>44</td>\n",
       "      <td>13</td>\n",
       "      <td>29.545455</td>\n",
       "    </tr>\n",
       "    <tr>\n",
       "      <th>11</th>\n",
       "      <td>sheeatsshecooks</td>\n",
       "      <td>30</td>\n",
       "      <td>8</td>\n",
       "      <td>26.666667</td>\n",
       "    </tr>\n",
       "  </tbody>\n",
       "</table>\n",
       "</div>"
      ],
      "text/plain": [
       "                Username  no. of posts  no. of labelled posts  \\\n",
       "0          thesilverchef           251                     64   \n",
       "1           sgfoodonfoot           122                     34   \n",
       "2             stormscape           105                     34   \n",
       "3   fundamentally_flawed            98                     28   \n",
       "4           sethluicious            94                     26   \n",
       "5           misstamchiak            79                     24   \n",
       "6              8days_eat            68                     19   \n",
       "7        danielfooddiary            54                     19   \n",
       "8            foodkingnoc            48                     17   \n",
       "9        ieatishootipost            47                     16   \n",
       "10             eatbooksg            44                     13   \n",
       "11       sheeatsshecooks            30                      8   \n",
       "\n",
       "    representation %  \n",
       "0          25.498008  \n",
       "1          27.868852  \n",
       "2          32.380952  \n",
       "3          28.571429  \n",
       "4          27.659574  \n",
       "5          30.379747  \n",
       "6          27.941176  \n",
       "7          35.185185  \n",
       "8          35.416667  \n",
       "9          34.042553  \n",
       "10         29.545455  \n",
       "11         26.666667  "
      ]
     },
     "execution_count": 46,
     "metadata": {},
     "output_type": "execute_result"
    }
   ],
   "source": [
    "df_influencers = df[\"Username\"].value_counts().reset_index()\n",
    "df_influencers.columns = [\"Username\", \"no. of posts\"]\n",
    "df_influencers[\"no. of labelled posts\"] = df[~df[\"food\"].isna()][\"Username\"].value_counts().values\n",
    "df_influencers[\"representation %\"] = df_influencers[\"no. of labelled posts\"] / df_influencers[\"no. of posts\"] *100\n",
    "\n",
    "df_influencers"
   ]
  },
  {
   "cell_type": "code",
   "execution_count": 47,
   "metadata": {},
   "outputs": [
    {
     "data": {
      "image/png": "[encoded data removed]",
      "text/plain": [
       "<Figure size 432x288 with 1 Axes>"
      ]
     },
     "metadata": {
      "needs_background": "light"
     },
     "output_type": "display_data"
    },
    {
     "data": {
      "image/png": "[encoded data removed]",
      "text/plain": [
       "<Figure size 432x288 with 1 Axes>"
      ]
     },
     "metadata": {
      "needs_background": "light"
     },
     "output_type": "display_data"
    }
   ],
   "source": [
    "plt.bar(df_influencers[\"Username\"], df_influencers[\"representation %\"])\n",
    "plt.axhline(len(df[~df[\"food\"].isna()])/len(df)*100, color=\"r\",\\\n",
    "            label=\"% of whole dataset represented = \"+str(len(df[~df[\"food\"].isna()])/len(df)*100)+\"%\", ls='--')\n",
    "plt.title(\"% Represented of each Influencer by the corpus\")\n",
    "plt.xticks(rotation=90)\n",
    "plt.ylabel(\"% represented by corpus\")\n",
    "plt.legend()\n",
    "plt.show()\n",
    "\n",
    "plt.bar(df_influencers[\"Username\"], df_influencers[\"no. of labelled posts\"])\n",
    "plt.title(\"Number of posts labelled of each Influencer by the corpus\")\n",
    "plt.xticks(rotation=90)\n",
    "plt.ylabel(\"Number of posts labelled\")\n",
    "plt.show()"
   ]
  },
  {
   "cell_type": "markdown",
   "metadata": {},
   "source": [
    "With this addition to the corpus we have not only improved ```sheeatsshecooks```'s representation to somewhere much closer to the overall dataset's representation, we have also increased the percentage of labelled posts from 17.5% to 29%."
   ]
  },
  {
   "cell_type": "markdown",
   "metadata": {},
   "source": [
    "# Exporting Dataset"
   ]
  },
  {
   "cell_type": "code",
   "execution_count": 48,
   "metadata": {},
   "outputs": [],
   "source": [
    "df_corpus.to_csv(\"../Instagram/\" + \"corpus_wikipedia_pareto.csv\", index=False)"
   ]
  },
  {
   "cell_type": "code",
   "execution_count": 49,
   "metadata": {},
   "outputs": [],
   "source": [
    "df.to_csv(filepath + filename[:-4] + \"_\" + corpusname + \".csv\")"
   ]
  }
 ],
 "metadata": {
  "kernelspec": {
   "display_name": "Python 3",
   "language": "python",
   "name": "python3"
  },
  "language_info": {
   "codemirror_mode": {
    "name": "ipython",
    "version": 3
   },
   "file_extension": ".py",
   "mimetype": "text/x-python",
   "name": "python",
   "nbconvert_exporter": "python",
   "pygments_lexer": "ipython3",
   "version": "3.7.3"
  },
  "toc": {
   "base_numbering": 1,
   "nav_menu": {},
   "number_sections": true,
   "sideBar": true,
   "skip_h1_title": false,
   "title_cell": "Table of Contents",
   "title_sidebar": "Contents",
   "toc_cell": true,
   "toc_position": {},
   "toc_section_display": true,
   "toc_window_display": true
  }
 },
 "nbformat": 4,
 "nbformat_minor": 4
}
