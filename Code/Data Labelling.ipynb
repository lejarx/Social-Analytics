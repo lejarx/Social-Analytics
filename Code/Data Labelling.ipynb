{
 "cells": [
  {
   "cell_type": "markdown",
   "metadata": {
    "toc": true
   },
   "source": [
    "<h1>Table of Contents<span class=\"tocSkip\"></span></h1>\n",
    "<div class=\"toc\"><ul class=\"toc-item\"><li><span><a href=\"#Setting-up-Environment\" data-toc-modified-id=\"Setting-up-Environment-1\"><span class=\"toc-item-num\">1&nbsp;&nbsp;</span>Setting up Environment</a></span></li><li><span><a href=\"#Importing-Dataset\" data-toc-modified-id=\"Importing-Dataset-2\"><span class=\"toc-item-num\">2&nbsp;&nbsp;</span>Importing Dataset</a></span><ul class=\"toc-item\"><li><span><a href=\"#Data-Pre-processing\" data-toc-modified-id=\"Data-Pre-processing-2.1\"><span class=\"toc-item-num\">2.1&nbsp;&nbsp;</span>Data Pre-processing</a></span></li></ul></li><li><span><a href=\"#Function-Declarations\" data-toc-modified-id=\"Function-Declarations-3\"><span class=\"toc-item-num\">3&nbsp;&nbsp;</span>Function Declarations</a></span></li><li><span><a href=\"#Wikipedia-corpus\" data-toc-modified-id=\"Wikipedia-corpus-4\"><span class=\"toc-item-num\">4&nbsp;&nbsp;</span>Wikipedia corpus</a></span><ul class=\"toc-item\"><li><span><a href=\"#Wikipedia-corpus-food\" data-toc-modified-id=\"Wikipedia-corpus-food-4.1\"><span class=\"toc-item-num\">4.1&nbsp;&nbsp;</span>Wikipedia corpus food</a></span></li><li><span><a href=\"#Wikipedia-corpus-cuisine\" data-toc-modified-id=\"Wikipedia-corpus-cuisine-4.2\"><span class=\"toc-item-num\">4.2&nbsp;&nbsp;</span>Wikipedia corpus cuisine</a></span></li></ul></li><li><span><a href=\"#Dummy-Food\" data-toc-modified-id=\"Dummy-Food-5\"><span class=\"toc-item-num\">5&nbsp;&nbsp;</span>Dummy Food</a></span><ul class=\"toc-item\"><li><span><a href=\"#Dummy-Food-names\" data-toc-modified-id=\"Dummy-Food-names-5.1\"><span class=\"toc-item-num\">5.1&nbsp;&nbsp;</span>Dummy Food names</a></span></li><li><span><a href=\"#Dummy-Food-Cuisine\" data-toc-modified-id=\"Dummy-Food-Cuisine-5.2\"><span class=\"toc-item-num\">5.2&nbsp;&nbsp;</span>Dummy Food Cuisine</a></span></li><li><span><a href=\"#Viewing-Labelled-Dataset\" data-toc-modified-id=\"Viewing-Labelled-Dataset-5.3\"><span class=\"toc-item-num\">5.3&nbsp;&nbsp;</span>Viewing Labelled Dataset</a></span></li></ul></li><li><span><a href=\"#Exporting-Dataset\" data-toc-modified-id=\"Exporting-Dataset-6\"><span class=\"toc-item-num\">6&nbsp;&nbsp;</span>Exporting Dataset</a></span></li></ul></div>"
   ]
  },
  {
   "cell_type": "markdown",
   "metadata": {},
   "source": [
    "# Setting up Environment"
   ]
  },
  {
   "cell_type": "code",
   "execution_count": 2,
   "metadata": {},
   "outputs": [],
   "source": [
    "import pandas as pd\n",
    "import numpy as np\n",
    "import random"
   ]
  },
  {
   "cell_type": "markdown",
   "metadata": {},
   "source": [
    "# Importing Dataset"
   ]
  },
  {
   "cell_type": "code",
   "execution_count": 3,
   "metadata": {},
   "outputs": [],
   "source": [
    "filepath = \"../Instagram/Cleaned data/\"\n",
    "filename = \"All_posts.csv\""
   ]
  },
  {
   "cell_type": "code",
   "execution_count": 4,
   "metadata": {
    "scrolled": true
   },
   "outputs": [
    {
     "data": {
      "text/html": [
       "<div>\n",
       "<style scoped>\n",
       "    .dataframe tbody tr th:only-of-type {\n",
       "        vertical-align: middle;\n",
       "    }\n",
       "\n",
       "    .dataframe tbody tr th {\n",
       "        vertical-align: top;\n",
       "    }\n",
       "\n",
       "    .dataframe thead th {\n",
       "        text-align: right;\n",
       "    }\n",
       "</style>\n",
       "<table border=\"1\" class=\"dataframe\">\n",
       "  <thead>\n",
       "    <tr style=\"text-align: right;\">\n",
       "      <th></th>\n",
       "      <th>timestamp</th>\n",
       "      <th>Username</th>\n",
       "      <th>caption</th>\n",
       "      <th>no. of likes</th>\n",
       "      <th>no. of comments</th>\n",
       "      <th>comments</th>\n",
       "    </tr>\n",
       "  </thead>\n",
       "  <tbody>\n",
       "    <tr>\n",
       "      <th>0</th>\n",
       "      <td>30/6/2020</td>\n",
       "      <td>8days_eat</td>\n",
       "      <td>Katong’s famous Hokkien mee and fried mee sua ...</td>\n",
       "      <td>326</td>\n",
       "      <td>7</td>\n",
       "      <td>['@lauren.khoury still can’t crack a smile 😬',...</td>\n",
       "    </tr>\n",
       "    <tr>\n",
       "      <th>1</th>\n",
       "      <td>30/6/2020</td>\n",
       "      <td>8days_eat</td>\n",
       "      <td>For the first time in Singapore, Heytea will b...</td>\n",
       "      <td>258</td>\n",
       "      <td>3</td>\n",
       "      <td>['Awesomeeeee neeed this now', '@becauseitsdon...</td>\n",
       "    </tr>\n",
       "    <tr>\n",
       "      <th>2</th>\n",
       "      <td>29/6/2020</td>\n",
       "      <td>8days_eat</td>\n",
       "      <td>Korean “fat-carons” — supersized macarons stuf...</td>\n",
       "      <td>453</td>\n",
       "      <td>3</td>\n",
       "      <td>['#8dayseat #sgfoodies #instafood #yum #sgfood...</td>\n",
       "    </tr>\n",
       "    <tr>\n",
       "      <th>3</th>\n",
       "      <td>29/6/2020</td>\n",
       "      <td>8days_eat</td>\n",
       "      <td>Online ordering system Oddle has launched a ne...</td>\n",
       "      <td>287</td>\n",
       "      <td>3</td>\n",
       "      <td>['THANK YOU 👀📸🔥', 'Absolutely love this tinkat...</td>\n",
       "    </tr>\n",
       "    <tr>\n",
       "      <th>4</th>\n",
       "      <td>29/6/2020</td>\n",
       "      <td>8days_eat</td>\n",
       "      <td>A canelé is a bite-sized French pastry from Bo...</td>\n",
       "      <td>431</td>\n",
       "      <td>3</td>\n",
       "      <td>['@jet8food , I see it! 😁', '@brave_nic', '🙏🏼💗💗']</td>\n",
       "    </tr>\n",
       "  </tbody>\n",
       "</table>\n",
       "</div>"
      ],
      "text/plain": [
       "   timestamp   Username                                            caption  \\\n",
       "0  30/6/2020  8days_eat  Katong’s famous Hokkien mee and fried mee sua ...   \n",
       "1  30/6/2020  8days_eat  For the first time in Singapore, Heytea will b...   \n",
       "2  29/6/2020  8days_eat  Korean “fat-carons” — supersized macarons stuf...   \n",
       "3  29/6/2020  8days_eat  Online ordering system Oddle has launched a ne...   \n",
       "4  29/6/2020  8days_eat  A canelé is a bite-sized French pastry from Bo...   \n",
       "\n",
       "   no. of likes  no. of comments  \\\n",
       "0           326                7   \n",
       "1           258                3   \n",
       "2           453                3   \n",
       "3           287                3   \n",
       "4           431                3   \n",
       "\n",
       "                                            comments  \n",
       "0  ['@lauren.khoury still can’t crack a smile 😬',...  \n",
       "1  ['Awesomeeeee neeed this now', '@becauseitsdon...  \n",
       "2  ['#8dayseat #sgfoodies #instafood #yum #sgfood...  \n",
       "3  ['THANK YOU 👀📸🔥', 'Absolutely love this tinkat...  \n",
       "4  ['@jet8food , I see it! 😁', '@brave_nic', '🙏🏼💗💗']  "
      ]
     },
     "execution_count": 4,
     "metadata": {},
     "output_type": "execute_result"
    }
   ],
   "source": [
    "df = pd.read_csv(filepath + filename)  \n",
    "df.head()"
   ]
  },
  {
   "cell_type": "code",
   "execution_count": 5,
   "metadata": {},
   "outputs": [],
   "source": [
    "numposts = df.shape[0]"
   ]
  },
  {
   "cell_type": "markdown",
   "metadata": {},
   "source": [
    "## Data Pre-processing\n",
    "\n",
    "In the case, the only pre-processing we need to do is the convert all captions to lower case such that food names can be detected as all the names in our corpus are lower case names."
   ]
  },
  {
   "cell_type": "code",
   "execution_count": 6,
   "metadata": {},
   "outputs": [
    {
     "data": {
      "text/html": [
       "<div>\n",
       "<style scoped>\n",
       "    .dataframe tbody tr th:only-of-type {\n",
       "        vertical-align: middle;\n",
       "    }\n",
       "\n",
       "    .dataframe tbody tr th {\n",
       "        vertical-align: top;\n",
       "    }\n",
       "\n",
       "    .dataframe thead th {\n",
       "        text-align: right;\n",
       "    }\n",
       "</style>\n",
       "<table border=\"1\" class=\"dataframe\">\n",
       "  <thead>\n",
       "    <tr style=\"text-align: right;\">\n",
       "      <th></th>\n",
       "      <th>timestamp</th>\n",
       "      <th>Username</th>\n",
       "      <th>caption</th>\n",
       "      <th>no. of likes</th>\n",
       "      <th>no. of comments</th>\n",
       "      <th>comments</th>\n",
       "    </tr>\n",
       "  </thead>\n",
       "  <tbody>\n",
       "    <tr>\n",
       "      <th>0</th>\n",
       "      <td>30/6/2020</td>\n",
       "      <td>8days_eat</td>\n",
       "      <td>katong’s famous hokkien mee and fried mee sua ...</td>\n",
       "      <td>326</td>\n",
       "      <td>7</td>\n",
       "      <td>['@lauren.khoury still can’t crack a smile 😬',...</td>\n",
       "    </tr>\n",
       "    <tr>\n",
       "      <th>1</th>\n",
       "      <td>30/6/2020</td>\n",
       "      <td>8days_eat</td>\n",
       "      <td>for the first time in singapore, heytea will b...</td>\n",
       "      <td>258</td>\n",
       "      <td>3</td>\n",
       "      <td>['Awesomeeeee neeed this now', '@becauseitsdon...</td>\n",
       "    </tr>\n",
       "    <tr>\n",
       "      <th>2</th>\n",
       "      <td>29/6/2020</td>\n",
       "      <td>8days_eat</td>\n",
       "      <td>korean “fat-carons” — supersized macarons stuf...</td>\n",
       "      <td>453</td>\n",
       "      <td>3</td>\n",
       "      <td>['#8dayseat #sgfoodies #instafood #yum #sgfood...</td>\n",
       "    </tr>\n",
       "    <tr>\n",
       "      <th>3</th>\n",
       "      <td>29/6/2020</td>\n",
       "      <td>8days_eat</td>\n",
       "      <td>online ordering system oddle has launched a ne...</td>\n",
       "      <td>287</td>\n",
       "      <td>3</td>\n",
       "      <td>['THANK YOU 👀📸🔥', 'Absolutely love this tinkat...</td>\n",
       "    </tr>\n",
       "    <tr>\n",
       "      <th>4</th>\n",
       "      <td>29/6/2020</td>\n",
       "      <td>8days_eat</td>\n",
       "      <td>a canelé is a bite-sized french pastry from bo...</td>\n",
       "      <td>431</td>\n",
       "      <td>3</td>\n",
       "      <td>['@jet8food , I see it! 😁', '@brave_nic', '🙏🏼💗💗']</td>\n",
       "    </tr>\n",
       "  </tbody>\n",
       "</table>\n",
       "</div>"
      ],
      "text/plain": [
       "   timestamp   Username                                            caption  \\\n",
       "0  30/6/2020  8days_eat  katong’s famous hokkien mee and fried mee sua ...   \n",
       "1  30/6/2020  8days_eat  for the first time in singapore, heytea will b...   \n",
       "2  29/6/2020  8days_eat  korean “fat-carons” — supersized macarons stuf...   \n",
       "3  29/6/2020  8days_eat  online ordering system oddle has launched a ne...   \n",
       "4  29/6/2020  8days_eat  a canelé is a bite-sized french pastry from bo...   \n",
       "\n",
       "   no. of likes  no. of comments  \\\n",
       "0           326                7   \n",
       "1           258                3   \n",
       "2           453                3   \n",
       "3           287                3   \n",
       "4           431                3   \n",
       "\n",
       "                                            comments  \n",
       "0  ['@lauren.khoury still can’t crack a smile 😬',...  \n",
       "1  ['Awesomeeeee neeed this now', '@becauseitsdon...  \n",
       "2  ['#8dayseat #sgfoodies #instafood #yum #sgfood...  \n",
       "3  ['THANK YOU 👀📸🔥', 'Absolutely love this tinkat...  \n",
       "4  ['@jet8food , I see it! 😁', '@brave_nic', '🙏🏼💗💗']  "
      ]
     },
     "execution_count": 6,
     "metadata": {},
     "output_type": "execute_result"
    }
   ],
   "source": [
    "df[\"caption\"] = df[\"caption\"].apply(lambda x: x.lower())\n",
    "df.head()"
   ]
  },
  {
   "cell_type": "markdown",
   "metadata": {},
   "source": [
    "# Function Declarations"
   ]
  },
  {
   "cell_type": "code",
   "execution_count": 7,
   "metadata": {},
   "outputs": [],
   "source": [
    "def label_from_df_column(df_corpus, name_col, search_col):\n",
    "    def helper(caption):\n",
    "        if not caption: # checks if caption is blank\n",
    "            return\n",
    "        for i in range(len(df_corpus[search_col])):\n",
    "            food = df_corpus[search_col][i]\n",
    "            if food in caption:\n",
    "                return df_corpus[name_col][i]\n",
    "\n",
    "        # food not found\n",
    "        return\n",
    "    return helper"
   ]
  },
  {
   "cell_type": "markdown",
   "metadata": {},
   "source": [
    "# Wikipedia corpus"
   ]
  },
  {
   "cell_type": "code",
   "execution_count": 8,
   "metadata": {},
   "outputs": [],
   "source": [
    "corpusname = \"wikipedia\""
   ]
  },
  {
   "cell_type": "code",
   "execution_count": 9,
   "metadata": {},
   "outputs": [
    {
     "data": {
      "text/html": [
       "<div>\n",
       "<style scoped>\n",
       "    .dataframe tbody tr th:only-of-type {\n",
       "        vertical-align: middle;\n",
       "    }\n",
       "\n",
       "    .dataframe tbody tr th {\n",
       "        vertical-align: top;\n",
       "    }\n",
       "\n",
       "    .dataframe thead th {\n",
       "        text-align: right;\n",
       "    }\n",
       "</style>\n",
       "<table border=\"1\" class=\"dataframe\">\n",
       "  <thead>\n",
       "    <tr style=\"text-align: right;\">\n",
       "      <th></th>\n",
       "      <th>Food</th>\n",
       "      <th>Cuisine</th>\n",
       "      <th>alternative names</th>\n",
       "    </tr>\n",
       "  </thead>\n",
       "  <tbody>\n",
       "    <tr>\n",
       "      <th>0</th>\n",
       "      <td>bak kut teh</td>\n",
       "      <td>Chinese</td>\n",
       "      <td>bak kut teh</td>\n",
       "    </tr>\n",
       "    <tr>\n",
       "      <th>1</th>\n",
       "      <td>beef kway teow</td>\n",
       "      <td>Chinese</td>\n",
       "      <td>beef kway teow</td>\n",
       "    </tr>\n",
       "    <tr>\n",
       "      <th>2</th>\n",
       "      <td>bak chang</td>\n",
       "      <td>Chinese</td>\n",
       "      <td>bak chang</td>\n",
       "    </tr>\n",
       "    <tr>\n",
       "      <th>3</th>\n",
       "      <td>bak chor mee</td>\n",
       "      <td>Chinese</td>\n",
       "      <td>bak chor mee</td>\n",
       "    </tr>\n",
       "    <tr>\n",
       "      <th>4</th>\n",
       "      <td>ban mian</td>\n",
       "      <td>Chinese</td>\n",
       "      <td>ban mian</td>\n",
       "    </tr>\n",
       "  </tbody>\n",
       "</table>\n",
       "</div>"
      ],
      "text/plain": [
       "             Food  Cuisine alternative names\n",
       "0     bak kut teh  Chinese       bak kut teh\n",
       "1  beef kway teow  Chinese    beef kway teow\n",
       "2       bak chang  Chinese         bak chang\n",
       "3    bak chor mee  Chinese      bak chor mee\n",
       "4        ban mian  Chinese          ban mian"
      ]
     },
     "execution_count": 9,
     "metadata": {},
     "output_type": "execute_result"
    }
   ],
   "source": [
    "df_corpus = pd.read_csv(filepath + \"../\"+ \"corpus_wikipedia.csv\")  \n",
    "df_corpus.head()"
   ]
  },
  {
   "cell_type": "code",
   "execution_count": 10,
   "metadata": {},
   "outputs": [
    {
     "data": {
      "text/plain": [
       "(129, 3)"
      ]
     },
     "execution_count": 10,
     "metadata": {},
     "output_type": "execute_result"
    }
   ],
   "source": [
    "df_corpus.shape"
   ]
  },
  {
   "cell_type": "markdown",
   "metadata": {},
   "source": [
    "## Wikipedia corpus food"
   ]
  },
  {
   "cell_type": "code",
   "execution_count": 11,
   "metadata": {},
   "outputs": [],
   "source": [
    "df[\"food\"] = df[\"caption\"].apply(label_from_df_column(df_corpus, \"alternative names\", \"Food\"))"
   ]
  },
  {
   "cell_type": "markdown",
   "metadata": {},
   "source": [
    "## Wikipedia corpus cuisine"
   ]
  },
  {
   "cell_type": "code",
   "execution_count": 12,
   "metadata": {},
   "outputs": [],
   "source": [
    "df[\"cuisine\"] = df[\"food\"].apply(label_from_df_column(df_corpus, \"Cuisine\", \"Food\"))"
   ]
  },
  {
   "cell_type": "markdown",
   "metadata": {},
   "source": [
    "# Dummy Food"
   ]
  },
  {
   "cell_type": "markdown",
   "metadata": {},
   "source": [
    "## Dummy Food names"
   ]
  },
  {
   "cell_type": "code",
   "execution_count": null,
   "metadata": {},
   "outputs": [],
   "source": [
    "corpusname = \"dummyfood\""
   ]
  },
  {
   "cell_type": "markdown",
   "metadata": {},
   "source": [
    "todo: replace with real food names"
   ]
  },
  {
   "cell_type": "code",
   "execution_count": 6,
   "metadata": {},
   "outputs": [],
   "source": [
    "# # Set seed for reproducibility\n",
    "# np.random.seed(0)"
   ]
  },
  {
   "cell_type": "code",
   "execution_count": 7,
   "metadata": {},
   "outputs": [],
   "source": [
    "# df[\"food\"] = np.char.add(np.array([\"food \"]*numposts), np.random.randint(10, size=numposts).astype('str'))\n",
    "# df.head()"
   ]
  },
  {
   "cell_type": "markdown",
   "metadata": {},
   "source": [
    "## Dummy Food Cuisine"
   ]
  },
  {
   "cell_type": "code",
   "execution_count": 7,
   "metadata": {},
   "outputs": [
    {
     "data": {
      "text/plain": [
       "array(['food 5', 'food 0', 'food 3', 'food 7', 'food 9', 'food 2',\n",
       "       'food 4', 'food 6', 'food 8', 'food 1'], dtype=object)"
      ]
     },
     "execution_count": 7,
     "metadata": {},
     "output_type": "execute_result"
    }
   ],
   "source": [
    "food_corpus = df[\"food\"].unique()\n",
    "food_corpus"
   ]
  },
  {
   "cell_type": "code",
   "execution_count": 8,
   "metadata": {},
   "outputs": [],
   "source": [
    "cuisines_corpus = {\"cuisine1\": ['food 1', 'food 2', 'food 3'],\n",
    "                   \"cuisine2\": ['food 4', 'food 5'],\n",
    "                   \"cuisine3\": ['food 6'],\n",
    "                   \"cuisine4\": ['food 7', 'food 8', 'food 9']\n",
    "                  }"
   ]
  },
  {
   "cell_type": "code",
   "execution_count": 9,
   "metadata": {},
   "outputs": [],
   "source": [
    "def get_cuisine(food):\n",
    "    for cuisine, foods in cuisines_corpus.items():\n",
    "        if food in foods:\n",
    "            return cuisine\n",
    "    return \"No cuisine found\""
   ]
  },
  {
   "cell_type": "code",
   "execution_count": 10,
   "metadata": {},
   "outputs": [
    {
     "data": {
      "text/html": [
       "<div>\n",
       "<style scoped>\n",
       "    .dataframe tbody tr th:only-of-type {\n",
       "        vertical-align: middle;\n",
       "    }\n",
       "\n",
       "    .dataframe tbody tr th {\n",
       "        vertical-align: top;\n",
       "    }\n",
       "\n",
       "    .dataframe thead th {\n",
       "        text-align: right;\n",
       "    }\n",
       "</style>\n",
       "<table border=\"1\" class=\"dataframe\">\n",
       "  <thead>\n",
       "    <tr style=\"text-align: right;\">\n",
       "      <th></th>\n",
       "      <th>timestamp</th>\n",
       "      <th>Username</th>\n",
       "      <th>caption</th>\n",
       "      <th>no. of likes</th>\n",
       "      <th>no. of comments</th>\n",
       "      <th>comments</th>\n",
       "      <th>food</th>\n",
       "      <th>cuisine</th>\n",
       "    </tr>\n",
       "  </thead>\n",
       "  <tbody>\n",
       "    <tr>\n",
       "      <th>0</th>\n",
       "      <td>30/6/2020</td>\n",
       "      <td>8days_eat</td>\n",
       "      <td>Katong’s famous Hokkien mee and fried mee sua ...</td>\n",
       "      <td>326</td>\n",
       "      <td>7</td>\n",
       "      <td>['@lauren.khoury still can’t crack a smile 😬',...</td>\n",
       "      <td>food 5</td>\n",
       "      <td>cuisine2</td>\n",
       "    </tr>\n",
       "    <tr>\n",
       "      <th>1</th>\n",
       "      <td>30/6/2020</td>\n",
       "      <td>8days_eat</td>\n",
       "      <td>For the first time in Singapore, Heytea will b...</td>\n",
       "      <td>258</td>\n",
       "      <td>3</td>\n",
       "      <td>['Awesomeeeee neeed this now', '@becauseitsdon...</td>\n",
       "      <td>food 0</td>\n",
       "      <td>No cuisine found</td>\n",
       "    </tr>\n",
       "    <tr>\n",
       "      <th>2</th>\n",
       "      <td>29/6/2020</td>\n",
       "      <td>8days_eat</td>\n",
       "      <td>Korean “fat-carons” — supersized macarons stuf...</td>\n",
       "      <td>453</td>\n",
       "      <td>3</td>\n",
       "      <td>['#8dayseat #sgfoodies #instafood #yum #sgfood...</td>\n",
       "      <td>food 3</td>\n",
       "      <td>cuisine1</td>\n",
       "    </tr>\n",
       "    <tr>\n",
       "      <th>3</th>\n",
       "      <td>29/6/2020</td>\n",
       "      <td>8days_eat</td>\n",
       "      <td>Online ordering system Oddle has launched a ne...</td>\n",
       "      <td>287</td>\n",
       "      <td>3</td>\n",
       "      <td>['THANK YOU 👀📸🔥', 'Absolutely love this tinkat...</td>\n",
       "      <td>food 3</td>\n",
       "      <td>cuisine1</td>\n",
       "    </tr>\n",
       "    <tr>\n",
       "      <th>4</th>\n",
       "      <td>29/6/2020</td>\n",
       "      <td>8days_eat</td>\n",
       "      <td>A canelé is a bite-sized French pastry from Bo...</td>\n",
       "      <td>431</td>\n",
       "      <td>3</td>\n",
       "      <td>['@jet8food , I see it! 😁', '@brave_nic', '🙏🏼💗💗']</td>\n",
       "      <td>food 7</td>\n",
       "      <td>cuisine4</td>\n",
       "    </tr>\n",
       "  </tbody>\n",
       "</table>\n",
       "</div>"
      ],
      "text/plain": [
       "   timestamp   Username                                            caption  \\\n",
       "0  30/6/2020  8days_eat  Katong’s famous Hokkien mee and fried mee sua ...   \n",
       "1  30/6/2020  8days_eat  For the first time in Singapore, Heytea will b...   \n",
       "2  29/6/2020  8days_eat  Korean “fat-carons” — supersized macarons stuf...   \n",
       "3  29/6/2020  8days_eat  Online ordering system Oddle has launched a ne...   \n",
       "4  29/6/2020  8days_eat  A canelé is a bite-sized French pastry from Bo...   \n",
       "\n",
       "   no. of likes  no. of comments  \\\n",
       "0           326                7   \n",
       "1           258                3   \n",
       "2           453                3   \n",
       "3           287                3   \n",
       "4           431                3   \n",
       "\n",
       "                                            comments    food           cuisine  \n",
       "0  ['@lauren.khoury still can’t crack a smile 😬',...  food 5          cuisine2  \n",
       "1  ['Awesomeeeee neeed this now', '@becauseitsdon...  food 0  No cuisine found  \n",
       "2  ['#8dayseat #sgfoodies #instafood #yum #sgfood...  food 3          cuisine1  \n",
       "3  ['THANK YOU 👀📸🔥', 'Absolutely love this tinkat...  food 3          cuisine1  \n",
       "4  ['@jet8food , I see it! 😁', '@brave_nic', '🙏🏼💗💗']  food 7          cuisine4  "
      ]
     },
     "execution_count": 10,
     "metadata": {},
     "output_type": "execute_result"
    }
   ],
   "source": [
    "df['cuisine'] = df[\"food\"].apply(get_cuisine)\n",
    "df.head()"
   ]
  },
  {
   "cell_type": "markdown",
   "metadata": {},
   "source": [
    "## Viewing Labelled Dataset"
   ]
  },
  {
   "cell_type": "code",
   "execution_count": 13,
   "metadata": {
    "scrolled": true
   },
   "outputs": [
    {
     "data": {
      "text/html": [
       "<div>\n",
       "<style scoped>\n",
       "    .dataframe tbody tr th:only-of-type {\n",
       "        vertical-align: middle;\n",
       "    }\n",
       "\n",
       "    .dataframe tbody tr th {\n",
       "        vertical-align: top;\n",
       "    }\n",
       "\n",
       "    .dataframe thead th {\n",
       "        text-align: right;\n",
       "    }\n",
       "</style>\n",
       "<table border=\"1\" class=\"dataframe\">\n",
       "  <thead>\n",
       "    <tr style=\"text-align: right;\">\n",
       "      <th></th>\n",
       "      <th>caption</th>\n",
       "      <th>food</th>\n",
       "      <th>cuisine</th>\n",
       "    </tr>\n",
       "  </thead>\n",
       "  <tbody>\n",
       "    <tr>\n",
       "      <th>0</th>\n",
       "      <td>katong’s famous hokkien mee and fried mee sua ...</td>\n",
       "      <td>hokkien mee</td>\n",
       "      <td>Chinese</td>\n",
       "    </tr>\n",
       "    <tr>\n",
       "      <th>1</th>\n",
       "      <td>for the first time in singapore, heytea will b...</td>\n",
       "      <td>None</td>\n",
       "      <td>None</td>\n",
       "    </tr>\n",
       "    <tr>\n",
       "      <th>2</th>\n",
       "      <td>korean “fat-carons” — supersized macarons stuf...</td>\n",
       "      <td>acar</td>\n",
       "      <td>Malay</td>\n",
       "    </tr>\n",
       "    <tr>\n",
       "      <th>3</th>\n",
       "      <td>online ordering system oddle has launched a ne...</td>\n",
       "      <td>None</td>\n",
       "      <td>None</td>\n",
       "    </tr>\n",
       "    <tr>\n",
       "      <th>4</th>\n",
       "      <td>a canelé is a bite-sized french pastry from bo...</td>\n",
       "      <td>None</td>\n",
       "      <td>None</td>\n",
       "    </tr>\n",
       "    <tr>\n",
       "      <th>...</th>\n",
       "      <td>...</td>\n",
       "      <td>...</td>\n",
       "      <td>...</td>\n",
       "    </tr>\n",
       "    <tr>\n",
       "      <th>1035</th>\n",
       "      <td>butadon with egg.\\r\\n\\r\\nwhen you see shabu sh...</td>\n",
       "      <td>None</td>\n",
       "      <td>None</td>\n",
       "    </tr>\n",
       "    <tr>\n",
       "      <th>1036</th>\n",
       "      <td>here’s a recap of that famous grilled cheese s...</td>\n",
       "      <td>None</td>\n",
       "      <td>None</td>\n",
       "    </tr>\n",
       "    <tr>\n",
       "      <th>1037</th>\n",
       "      <td>a healthy sunday start with chobani greek yogh...</td>\n",
       "      <td>None</td>\n",
       "      <td>None</td>\n",
       "    </tr>\n",
       "    <tr>\n",
       "      <th>1038</th>\n",
       "      <td>crispy salmon in vegetable broth.\\r\\n\\r\\nthank...</td>\n",
       "      <td>None</td>\n",
       "      <td>None</td>\n",
       "    </tr>\n",
       "    <tr>\n",
       "      <th>1039</th>\n",
       "      <td>stuffed squid with glutinous rice.\\r\\n\\r\\nsoak...</td>\n",
       "      <td>None</td>\n",
       "      <td>None</td>\n",
       "    </tr>\n",
       "  </tbody>\n",
       "</table>\n",
       "<p>1040 rows × 3 columns</p>\n",
       "</div>"
      ],
      "text/plain": [
       "                                                caption         food  cuisine\n",
       "0     katong’s famous hokkien mee and fried mee sua ...  hokkien mee  Chinese\n",
       "1     for the first time in singapore, heytea will b...         None     None\n",
       "2     korean “fat-carons” — supersized macarons stuf...         acar    Malay\n",
       "3     online ordering system oddle has launched a ne...         None     None\n",
       "4     a canelé is a bite-sized french pastry from bo...         None     None\n",
       "...                                                 ...          ...      ...\n",
       "1035  butadon with egg.\\r\\n\\r\\nwhen you see shabu sh...         None     None\n",
       "1036  here’s a recap of that famous grilled cheese s...         None     None\n",
       "1037  a healthy sunday start with chobani greek yogh...         None     None\n",
       "1038  crispy salmon in vegetable broth.\\r\\n\\r\\nthank...         None     None\n",
       "1039  stuffed squid with glutinous rice.\\r\\n\\r\\nsoak...         None     None\n",
       "\n",
       "[1040 rows x 3 columns]"
      ]
     },
     "execution_count": 13,
     "metadata": {},
     "output_type": "execute_result"
    }
   ],
   "source": [
    "df[[\"caption\", \"food\", \"cuisine\"]]"
   ]
  },
  {
   "cell_type": "code",
   "execution_count": 14,
   "metadata": {
    "scrolled": true
   },
   "outputs": [
    {
     "data": {
      "text/html": [
       "<div>\n",
       "<style scoped>\n",
       "    .dataframe tbody tr th:only-of-type {\n",
       "        vertical-align: middle;\n",
       "    }\n",
       "\n",
       "    .dataframe tbody tr th {\n",
       "        vertical-align: top;\n",
       "    }\n",
       "\n",
       "    .dataframe thead th {\n",
       "        text-align: right;\n",
       "    }\n",
       "</style>\n",
       "<table border=\"1\" class=\"dataframe\">\n",
       "  <thead>\n",
       "    <tr style=\"text-align: right;\">\n",
       "      <th></th>\n",
       "      <th>timestamp</th>\n",
       "      <th>Username</th>\n",
       "      <th>caption</th>\n",
       "      <th>no. of likes</th>\n",
       "      <th>no. of comments</th>\n",
       "      <th>comments</th>\n",
       "      <th>food</th>\n",
       "      <th>cuisine</th>\n",
       "    </tr>\n",
       "  </thead>\n",
       "  <tbody>\n",
       "    <tr>\n",
       "      <th>0</th>\n",
       "      <td>30/6/2020</td>\n",
       "      <td>8days_eat</td>\n",
       "      <td>katong’s famous hokkien mee and fried mee sua ...</td>\n",
       "      <td>326</td>\n",
       "      <td>7</td>\n",
       "      <td>['@lauren.khoury still can’t crack a smile 😬',...</td>\n",
       "      <td>hokkien mee</td>\n",
       "      <td>Chinese</td>\n",
       "    </tr>\n",
       "    <tr>\n",
       "      <th>2</th>\n",
       "      <td>29/6/2020</td>\n",
       "      <td>8days_eat</td>\n",
       "      <td>korean “fat-carons” — supersized macarons stuf...</td>\n",
       "      <td>453</td>\n",
       "      <td>3</td>\n",
       "      <td>['#8dayseat #sgfoodies #instafood #yum #sgfood...</td>\n",
       "      <td>acar</td>\n",
       "      <td>Malay</td>\n",
       "    </tr>\n",
       "    <tr>\n",
       "      <th>5</th>\n",
       "      <td>29/6/2020</td>\n",
       "      <td>8days_eat</td>\n",
       "      <td>@7elevensg now has $2, $3 and $4 all-day break...</td>\n",
       "      <td>148</td>\n",
       "      <td>0</td>\n",
       "      <td>[]</td>\n",
       "      <td>kopi</td>\n",
       "      <td>Drinks and beverages</td>\n",
       "    </tr>\n",
       "    <tr>\n",
       "      <th>15</th>\n",
       "      <td>23/6/2020</td>\n",
       "      <td>8days_eat</td>\n",
       "      <td>breaking news: nine-year-old french patisserie...</td>\n",
       "      <td>647</td>\n",
       "      <td>15</td>\n",
       "      <td>['Omg @xin_yx', 'When is the last day?', '@car...</td>\n",
       "      <td>yong tau foo</td>\n",
       "      <td>Chinese</td>\n",
       "    </tr>\n",
       "    <tr>\n",
       "      <th>21</th>\n",
       "      <td>21/6/2020</td>\n",
       "      <td>8days_eat</td>\n",
       "      <td>tapow feast from @fullertonhotelsg ”dine at ho...</td>\n",
       "      <td>243</td>\n",
       "      <td>1</td>\n",
       "      <td>['Looks so good!! 😍😍']</td>\n",
       "      <td>hainanese chicken rice</td>\n",
       "      <td>Chinese</td>\n",
       "    </tr>\n",
       "    <tr>\n",
       "      <th>...</th>\n",
       "      <td>...</td>\n",
       "      <td>...</td>\n",
       "      <td>...</td>\n",
       "      <td>...</td>\n",
       "      <td>...</td>\n",
       "      <td>...</td>\n",
       "      <td>...</td>\n",
       "      <td>...</td>\n",
       "    </tr>\n",
       "    <tr>\n",
       "      <th>972</th>\n",
       "      <td>11/6/2020</td>\n",
       "      <td>thesilverchef</td>\n",
       "      <td>red bean pancakes, here is the recipe again fo...</td>\n",
       "      <td>555</td>\n",
       "      <td>2</td>\n",
       "      <td>['This looks so tasty! 😍', '♥♥♥♥♥']</td>\n",
       "      <td>popiah</td>\n",
       "      <td>Chinese</td>\n",
       "    </tr>\n",
       "    <tr>\n",
       "      <th>976</th>\n",
       "      <td>10/6/2020</td>\n",
       "      <td>thesilverchef</td>\n",
       "      <td>shakshuka, a middle eastern breakfast favourit...</td>\n",
       "      <td>428</td>\n",
       "      <td>1</td>\n",
       "      <td>['Wow looks easy. Ok this weekend 🙌']</td>\n",
       "      <td>rojak</td>\n",
       "      <td>Cross-cultural</td>\n",
       "    </tr>\n",
       "    <tr>\n",
       "      <th>979</th>\n",
       "      <td>9/6/2020</td>\n",
       "      <td>thesilverchef</td>\n",
       "      <td>here’s a recap of doraemon favourite dessert, ...</td>\n",
       "      <td>461</td>\n",
       "      <td>18</td>\n",
       "      <td>['😋😋😋', 'Doriyaki 😍', 'Soooo excited to try th...</td>\n",
       "      <td>kopi</td>\n",
       "      <td>Drinks and beverages</td>\n",
       "    </tr>\n",
       "    <tr>\n",
       "      <th>996</th>\n",
       "      <td>3/6/2020</td>\n",
       "      <td>thesilverchef</td>\n",
       "      <td>after cooking exclusively at home and making a...</td>\n",
       "      <td>359</td>\n",
       "      <td>4</td>\n",
       "      <td>['Even outside food you make it so yummyliciou...</td>\n",
       "      <td>bak kut teh</td>\n",
       "      <td>Chinese</td>\n",
       "    </tr>\n",
       "    <tr>\n",
       "      <th>1026</th>\n",
       "      <td>3/6/2020</td>\n",
       "      <td>thesilverchef</td>\n",
       "      <td>after cooking exclusively at home and making a...</td>\n",
       "      <td>359</td>\n",
       "      <td>4</td>\n",
       "      <td>['Even outside food you make it so yummyliciou...</td>\n",
       "      <td>bak kut teh</td>\n",
       "      <td>Chinese</td>\n",
       "    </tr>\n",
       "  </tbody>\n",
       "</table>\n",
       "<p>182 rows × 8 columns</p>\n",
       "</div>"
      ],
      "text/plain": [
       "      timestamp       Username  \\\n",
       "0     30/6/2020      8days_eat   \n",
       "2     29/6/2020      8days_eat   \n",
       "5     29/6/2020      8days_eat   \n",
       "15    23/6/2020      8days_eat   \n",
       "21    21/6/2020      8days_eat   \n",
       "...         ...            ...   \n",
       "972   11/6/2020  thesilverchef   \n",
       "976   10/6/2020  thesilverchef   \n",
       "979    9/6/2020  thesilverchef   \n",
       "996    3/6/2020  thesilverchef   \n",
       "1026   3/6/2020  thesilverchef   \n",
       "\n",
       "                                                caption  no. of likes  \\\n",
       "0     katong’s famous hokkien mee and fried mee sua ...           326   \n",
       "2     korean “fat-carons” — supersized macarons stuf...           453   \n",
       "5     @7elevensg now has $2, $3 and $4 all-day break...           148   \n",
       "15    breaking news: nine-year-old french patisserie...           647   \n",
       "21    tapow feast from @fullertonhotelsg ”dine at ho...           243   \n",
       "...                                                 ...           ...   \n",
       "972   red bean pancakes, here is the recipe again fo...           555   \n",
       "976   shakshuka, a middle eastern breakfast favourit...           428   \n",
       "979   here’s a recap of doraemon favourite dessert, ...           461   \n",
       "996   after cooking exclusively at home and making a...           359   \n",
       "1026  after cooking exclusively at home and making a...           359   \n",
       "\n",
       "      no. of comments                                           comments  \\\n",
       "0                   7  ['@lauren.khoury still can’t crack a smile 😬',...   \n",
       "2                   3  ['#8dayseat #sgfoodies #instafood #yum #sgfood...   \n",
       "5                   0                                                 []   \n",
       "15                 15  ['Omg @xin_yx', 'When is the last day?', '@car...   \n",
       "21                  1                             ['Looks so good!! 😍😍']   \n",
       "...               ...                                                ...   \n",
       "972                 2                ['This looks so tasty! 😍', '♥♥♥♥♥']   \n",
       "976                 1              ['Wow looks easy. Ok this weekend 🙌']   \n",
       "979                18  ['😋😋😋', 'Doriyaki 😍', 'Soooo excited to try th...   \n",
       "996                 4  ['Even outside food you make it so yummyliciou...   \n",
       "1026                4  ['Even outside food you make it so yummyliciou...   \n",
       "\n",
       "                        food               cuisine  \n",
       "0                hokkien mee               Chinese  \n",
       "2                       acar                 Malay  \n",
       "5                       kopi  Drinks and beverages  \n",
       "15              yong tau foo               Chinese  \n",
       "21    hainanese chicken rice               Chinese  \n",
       "...                      ...                   ...  \n",
       "972                   popiah               Chinese  \n",
       "976                    rojak        Cross-cultural  \n",
       "979                     kopi  Drinks and beverages  \n",
       "996              bak kut teh               Chinese  \n",
       "1026             bak kut teh               Chinese  \n",
       "\n",
       "[182 rows x 8 columns]"
      ]
     },
     "execution_count": 14,
     "metadata": {},
     "output_type": "execute_result"
    }
   ],
   "source": [
    "df[~df[\"food\"].isna()]"
   ]
  },
  {
   "cell_type": "code",
   "execution_count": 18,
   "metadata": {},
   "outputs": [
    {
     "name": "stdout",
     "output_type": "stream",
     "text": [
      "['hokkien mee' None 'acar' 'kopi' 'yong tau foo' 'hainanese chicken rice'\n",
      " 'bak chang' 'kuih' 'pulut hitam' 'milo' 'biryani' 'char kway teow'\n",
      " 'mee pok' 'duck rice' 'roti prata' 'teochew porridge' 'chai tow kway'\n",
      " 'satay' 'chilli crab' 'assam pedas' 'appam' 'sambal' 'hum chim peng'\n",
      " 'dosa' 'char siu' 'curry puff' 'bubur cha cha' 'keropok' 'har cheong gai'\n",
      " 'cereal prawns' 'rawon' 'soto' 'oyster omelette' 'bandung' 'bak kut teh'\n",
      " 'popiah' 'frog leg porridge' 'ban mian' 'horlicks' 'crab bee hoon'\n",
      " 'fish head curry' 'mee siam' 'ketupat' 'rojak']\n",
      "43\n"
     ]
    }
   ],
   "source": [
    "print(df[\"food\"].unique())\n",
    "print(df[\"food\"].nunique())"
   ]
  },
  {
   "cell_type": "code",
   "execution_count": 19,
   "metadata": {},
   "outputs": [
    {
     "name": "stdout",
     "output_type": "stream",
     "text": [
      "['Chinese' None 'Malay' 'Drinks and beverages' 'Desserts' 'Cross-cultural'\n",
      " 'Indian' 'Seafood']\n",
      "7\n"
     ]
    }
   ],
   "source": [
    "print(df[\"cuisine\"].unique())\n",
    "print(df[\"cuisine\"].nunique())"
   ]
  },
  {
   "cell_type": "code",
   "execution_count": 20,
   "metadata": {},
   "outputs": [
    {
     "data": {
      "text/plain": [
       "array(['biryani', 'cereal prawns', 'fish head curry', 'mee siam', 'rojak'],\n",
       "      dtype=object)"
      ]
     },
     "execution_count": 20,
     "metadata": {},
     "output_type": "execute_result"
    }
   ],
   "source": [
    "df[df[\"cuisine\"] == 'Cross-cultural'][\"food\"].unique()"
   ]
  },
  {
   "cell_type": "markdown",
   "metadata": {},
   "source": [
    "# Exporting Dataset"
   ]
  },
  {
   "cell_type": "code",
   "execution_count": 52,
   "metadata": {},
   "outputs": [],
   "source": [
    "df.to_csv(filepath + filename[:-4] + \"_\" + corpusname + \".csv\")"
   ]
  }
 ],
 "metadata": {
  "kernelspec": {
   "display_name": "Python 3",
   "language": "python",
   "name": "python3"
  },
  "language_info": {
   "codemirror_mode": {
    "name": "ipython",
    "version": 3
   },
   "file_extension": ".py",
   "mimetype": "text/x-python",
   "name": "python",
   "nbconvert_exporter": "python",
   "pygments_lexer": "ipython3",
   "version": "3.7.3"
  },
  "toc": {
   "base_numbering": 1,
   "nav_menu": {},
   "number_sections": true,
   "sideBar": true,
   "skip_h1_title": false,
   "title_cell": "Table of Contents",
   "title_sidebar": "Contents",
   "toc_cell": true,
   "toc_position": {},
   "toc_section_display": true,
   "toc_window_display": true
  }
 },
 "nbformat": 4,
 "nbformat_minor": 4
}
