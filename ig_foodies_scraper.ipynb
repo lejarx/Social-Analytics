{
 "cells": [
  {
   "cell_type": "markdown",
   "metadata": {},
   "source": [
    "This workbook scrapes a foodies' ig page. "
   ]
  },
  {
   "cell_type": "code",
   "execution_count": 21,
   "metadata": {},
   "outputs": [],
   "source": [
    "from selenium import webdriver\n",
    "from selenium.webdriver.chrome.options import Options\n",
    "from bs4 import BeautifulSoup as bs\n",
    "import time\n",
    "import re\n",
    "from urllib.request import urlopen\n",
    "import json\n",
    "from pandas.io.json import json_normalize\n",
    "import pandas as pd, numpy as np\n",
    "import datetime as dt\n",
    "import requests"
   ]
  },
  {
   "cell_type": "code",
   "execution_count": 39,
   "metadata": {},
   "outputs": [],
   "source": [
    "# Specify IG username to scrape\n",
    "username = 'danielfooddiary'\n",
    "\n",
    "# Specify location of chromedriver.exe\n",
    "browser = webdriver.Chrome(executable_path=r'C:\\Users\\LENOVO\\Downloads\\chromedriver_win32\\chromedriver.exe')\n",
    "\n",
    "browser.get('https://www.instagram.com/'+username+'/?hl=en')\n",
    "\n",
    "Pagelength = browser.execute_script(\"window.scrollTo(0, document.body.scrollHeight);\")"
   ]
  },
  {
   "cell_type": "code",
   "execution_count": 40,
   "metadata": {},
   "outputs": [],
   "source": [
    "# Put the user's IG pictures's links into a list called \"links\"\n",
    "links = []\n",
    "source = browser.page_source\n",
    "data = bs(source, 'html.parser')\n",
    "body = data.find('body')\n",
    "for link in body.findAll('a'):\n",
    "     if re.match(\"/p\", link.get('href')):\n",
    "        links.append('https://www.instagram.com' + link.get('href'))\n",
    "    \n",
    "# print(\"Number of Instagram images: \", len(links))\n",
    "# print(links)"
   ]
  },
  {
   "cell_type": "code",
   "execution_count": 47,
   "metadata": {},
   "outputs": [
    {
     "name": "stdout",
     "output_type": "stream",
     "text": [
      "Number of Instagram images:  48\n",
      "['https://www.instagram.com/p/CCBS_tinKY7/', 'https://www.instagram.com/p/CB-wXfcH80_/', 'https://www.instagram.com/p/CB91xgsn3Uu/', 'https://www.instagram.com/p/CB7xBY1nRVL/', 'https://www.instagram.com/p/CB5mIPpH7mr/', 'https://www.instagram.com/p/CB3C1yUHazj/', 'https://www.instagram.com/p/CB2rLDMng_a/', 'https://www.instagram.com/p/CBxB0P-HFA1/', 'https://www.instagram.com/p/CBu3Uoon9GT/', 'https://www.instagram.com/p/CBuZvwfnfMQ/', 'https://www.instagram.com/p/CBsLvUsnGOG/', 'https://www.instagram.com/p/CBqK3-Tndkn/', 'https://www.instagram.com/p/CBmoNhznAxk/', 'https://www.instagram.com/p/CBlJEArn5Sk/', 'https://www.instagram.com/p/CBk6K0pHAdv/', 'https://www.instagram.com/p/CBiRXf0HyA_/', 'https://www.instagram.com/p/CBhtX11nKnh/', 'https://www.instagram.com/p/CBf5pDul7x0/', 'https://www.instagram.com/p/CBfVHZdDahq/', 'https://www.instagram.com/p/CBdPlnrH2IL/', 'https://www.instagram.com/p/CBZy5h0HdiS/', 'https://www.instagram.com/p/CBX5B4wnEFs/', 'https://www.instagram.com/p/CBXmJG_nNZK/', 'https://www.instagram.com/p/CBVZlUyHOjr/', 'https://www.instagram.com/p/CCBS_tinKY7/', 'https://www.instagram.com/p/CB-wXfcH80_/', 'https://www.instagram.com/p/CB91xgsn3Uu/', 'https://www.instagram.com/p/CB7xBY1nRVL/', 'https://www.instagram.com/p/CB5mIPpH7mr/', 'https://www.instagram.com/p/CB3C1yUHazj/', 'https://www.instagram.com/p/CB2rLDMng_a/', 'https://www.instagram.com/p/CBxB0P-HFA1/', 'https://www.instagram.com/p/CBu3Uoon9GT/', 'https://www.instagram.com/p/CBuZvwfnfMQ/', 'https://www.instagram.com/p/CBsLvUsnGOG/', 'https://www.instagram.com/p/CBqK3-Tndkn/', 'https://www.instagram.com/p/CBmoNhznAxk/', 'https://www.instagram.com/p/CBlJEArn5Sk/', 'https://www.instagram.com/p/CBk6K0pHAdv/', 'https://www.instagram.com/p/CBiRXf0HyA_/', 'https://www.instagram.com/p/CBhtX11nKnh/', 'https://www.instagram.com/p/CBf5pDul7x0/', 'https://www.instagram.com/p/CBfVHZdDahq/', 'https://www.instagram.com/p/CBdPlnrH2IL/', 'https://www.instagram.com/p/CBZy5h0HdiS/', 'https://www.instagram.com/p/CBX5B4wnEFs/', 'https://www.instagram.com/p/CBXmJG_nNZK/', 'https://www.instagram.com/p/CBVZlUyHOjr/']\n"
     ]
    }
   ],
   "source": [
    "# Put more pictures' links into \"links\" \n",
    "\n",
    "Pagelength = browser.execute_script(\"window.scrollTo(0, document.body.scrollHeight/1.5);\")\n",
    "links = []\n",
    "source = browser.page_source\n",
    "data = bs(source, 'html.parser')\n",
    "body = data.find('body')\n",
    "for link in body.findAll('a'):\n",
    "     if re.match(\"/p\", link.get('href')):\n",
    "        links.append('https://www.instagram.com' + link.get('href'))\n",
    "\n",
    "# Sleep time is required. If you don't use this IG may interrupt the script and doesn't scroll through pages\n",
    "\n",
    "time.sleep(5) \n",
    "\n",
    "Pagelength = browser.execute_script(\"window.scrollTo(document.body.scrollHeight/1.5, document.body.scrollHeight/3.0);\")\n",
    "source = browser.page_source\n",
    "data = bs(source, 'html.parser')\n",
    "body = data.find('body')\n",
    "for link in body.findAll('a'):\n",
    "     if re.match(\"/p\", link.get('href')):\n",
    "        links.append('https://www.instagram.com' + link.get('href'))\n",
    "        \n",
    "print(\"Number of Instagram images: \", len(links))\n",
    "print(links)"
   ]
  },
  {
   "cell_type": "code",
   "execution_count": 48,
   "metadata": {},
   "outputs": [],
   "source": [
    "# Open the pictures in \"links\"\n",
    "# Get details eg. timestamp, caption, comments, likes, etc. \n",
    "# Put details in dataframe\n",
    "\n",
    "def get_date(created):\n",
    "    return dt.datetime.fromtimestamp(int(created))\n",
    "\n",
    "df = pd.DataFrame()\n",
    "timestamp_list = []\n",
    "caption_list = []\n",
    "likes_list = [] \n",
    "comments_list = []\n",
    "    \n",
    "for link in links:\n",
    "    req = requests.get(link).text\n",
    "    soup = bs(req, \"html.parser\")\n",
    "    scripts = soup.find_all(\"script\")\n",
    "    for script in scripts:\n",
    "        if script.text[:18] == \"window._sharedData\":\n",
    "            break\n",
    "\n",
    "    data = json.loads(script.contents[0][21:-1])\n",
    "    \n",
    "    unix_time = data[\"entry_data\"][\"PostPage\"][0][\"graphql\"][\"shortcode_media\"][\"taken_at_timestamp\"]\n",
    "    human_time = get_date(unix_time)\n",
    "    caption = str(data[\"entry_data\"][\"PostPage\"][0][\"graphql\"][\"shortcode_media\"][\"edge_media_to_caption\"][\"edges\"][0][\"node\"][\"text\"])\n",
    "    likes = str(data[\"entry_data\"][\"PostPage\"][0][\"graphql\"][\"shortcode_media\"][\"edge_media_preview_like\"][\"count\"])\n",
    "    \n",
    "    timestamp_list.append(human_time)\n",
    "    caption_list.append(caption)\n",
    "    likes_list.append(likes)\n",
    "\n",
    "    if \"edge_media_preview_comment\" in data[\"entry_data\"][\"PostPage\"][0][\"graphql\"][\"shortcode_media\"]:\n",
    "        comments = str(data[\"entry_data\"][\"PostPage\"][0][\"graphql\"][\"shortcode_media\"][\"edge_media_preview_comment\"][\"count\"])\n",
    "    \n",
    "    comments_list.append(comments)\n",
    "    \n",
    "df[\"timestamp\"] = timestamp_list\n",
    "df[\"caption\"] = caption_list\n",
    "df[\"likes\"] = likes_list\n",
    "df[\"comments\"] = comments_list"
   ]
  },
  {
   "cell_type": "code",
   "execution_count": 49,
   "metadata": {},
   "outputs": [
    {
     "data": {
      "text/plain": [
       "(48, 4)"
      ]
     },
     "execution_count": 49,
     "metadata": {},
     "output_type": "execute_result"
    }
   ],
   "source": [
    "df.shape"
   ]
  },
  {
   "cell_type": "code",
   "execution_count": null,
   "metadata": {},
   "outputs": [],
   "source": [
    "df.to_excel(\"ig_foodies_posts.xlsx\")  "
   ]
  },
  {
   "cell_type": "markdown",
   "metadata": {},
   "source": [
    "Filter rows based on timestamp (before CB and after CB)   *tableau/jupyter"
   ]
  },
  {
   "cell_type": "markdown",
   "metadata": {},
   "source": [
    "Using the caption column, do a wordcloud`  *tableau/jupyter"
   ]
  },
  {
   "cell_type": "code",
   "execution_count": null,
   "metadata": {},
   "outputs": [],
   "source": [
    "tableau viz the other stuff "
   ]
  },
  {
   "cell_type": "code",
   "execution_count": null,
   "metadata": {},
   "outputs": [],
   "source": [
    "social network graph: nodes (12 fooedies & their commenters) & ties (comments)"
   ]
  }
 ],
 "metadata": {
  "kernelspec": {
   "display_name": "Python 3",
   "language": "python",
   "name": "python3"
  },
  "language_info": {
   "codemirror_mode": {
    "name": "ipython",
    "version": 3
   },
   "file_extension": ".py",
   "mimetype": "text/x-python",
   "name": "python",
   "nbconvert_exporter": "python",
   "pygments_lexer": "ipython3",
   "version": "3.7.1"
  }
 },
 "nbformat": 4,
 "nbformat_minor": 2
}
