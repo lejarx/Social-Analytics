{
 "cells": [
  {
   "cell_type": "markdown",
   "metadata": {},
   "source": [
    "# Test"
   ]
  },
  {
   "cell_type": "code",
   "execution_count": 2,
   "metadata": {},
   "outputs": [
    {
     "name": "stdout",
     "output_type": "stream",
     "text": [
<<<<<<< HEAD
      "aaaa\n"
=======
      "hi\n"
>>>>>>> 6043ca2894d4f262f36b3635953155fee869dedb
     ]
    }
   ],
   "source": [
<<<<<<< HEAD
    "print(\"aaaa\")"
=======
    "print(\"hi\")"
>>>>>>> 6043ca2894d4f262f36b3635953155fee869dedb
   ]
  },
  {
   "cell_type": "code",
   "execution_count": null,
   "metadata": {},
   "outputs": [],
   "source": []
  }
 ],
 "metadata": {
  "kernelspec": {
   "display_name": "Python 3",
   "language": "python",
   "name": "python3"
  },
  "language_info": {
   "codemirror_mode": {
    "name": "ipython",
    "version": 3
   },
   "file_extension": ".py",
   "mimetype": "text/x-python",
   "name": "python",
   "nbconvert_exporter": "python",
   "pygments_lexer": "ipython3",
<<<<<<< HEAD
   "version": "3.7.3"
=======
   "version": "3.7.1"
>>>>>>> 6043ca2894d4f262f36b3635953155fee869dedb
  }
 },
 "nbformat": 4,
 "nbformat_minor": 4
}
