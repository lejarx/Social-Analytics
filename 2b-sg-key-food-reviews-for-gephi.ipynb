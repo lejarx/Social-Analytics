{
 "cells": [
  {
   "cell_type": "markdown",
   "metadata": {},
   "source": [
    "This script takes as input JSON formatted Twitter tweets,\n",
    "extracts a social network of Twitter users where the link/edge\n",
    "between two nodes represents:\n",
    "\n",
    "    from_user ---(retweets)---> to_user\n",
    "\n",
    "The output file is a GML file, which can be opened in Gephi.\n",
    "It is a \"directed\" and \"weighted\" social network.\n",
    "\n",
    "The node with a high in-degree centrality is frequently re-tweeted\n",
    "and is considered a social influencer since his/her tweet gets \"cited\" often."
   ]
  },
  {
   "cell_type": "code",
   "execution_count": 1,
   "metadata": {},
   "outputs": [],
   "source": [
    "import json\n",
    "from collections import defaultdict\n",
    "\n",
    "input_file_name = 'Twitter_SG_food_reviews.txt'\n",
    "output_file_name = 'Twitter_SG_food_reviews_SocialNetwork_Users.gml'"
   ]
  },
  {
   "cell_type": "code",
   "execution_count": 2,
   "metadata": {},
   "outputs": [],
   "source": [
    "# From the input file (JSON objects),\n",
    "# retrieve only \"text\" and user \"screen name\"\n",
    "\n",
    "tweets_texts = []\n",
    "tweets_users = []\n",
    "tweets_file = open(input_file_name, \"r\")\n",
    "for line in tweets_file:\n",
    "    try:\n",
    "        tweet = json.loads(line)\n",
    "        tweets_texts.append(tweet['text'].encode('utf-8'))\n",
    "        tweets_users.append(tweet['user']['screen_name'])\n",
    "    except:\n",
    "        continue"
   ]
  },
  {
   "cell_type": "code",
   "execution_count": 3,
   "metadata": {},
   "outputs": [
    {
     "name": "stdout",
     "output_type": "stream",
     "text": [
      "108\n"
     ]
    }
   ],
   "source": [
    "# Check if tweets_texts list has some text\n",
    "print( len(tweets_texts) )"
   ]
  },
  {
   "cell_type": "code",
   "execution_count": 4,
   "metadata": {},
   "outputs": [
    {
     "data": {
      "text/plain": [
       "2"
      ]
     },
     "execution_count": 4,
     "metadata": {},
     "output_type": "execute_result"
    }
   ],
   "source": [
    "# Start writing a GML output file\n",
    "output_file = open(output_file_name, \"w\")\n",
    "output_file.write(\"graph\\n\")\n",
    "output_file.write(\"[\\n\")"
   ]
  },
  {
   "cell_type": "code",
   "execution_count": 5,
   "metadata": {},
   "outputs": [],
   "source": [
    "# Loop through each line and extract from_user and to_user\n",
    "# e.g. from_user \"retweets\" from to_user\n",
    "counter = 0\n",
    "max_length = len(tweets_texts)\n",
    "pairwise_counter_dictionary = defaultdict(int)\n",
    "user_id = 0\n",
    "users = {}\n",
    "while counter < max_length:\n",
    "    text = tweets_texts[counter]\n",
    "    text = text.strip()\n",
    "    text_tokens = text.split()\n",
    "\n",
    "    from_user = tweets_users[counter]\n",
    "    prev_token = \"\"\n",
    "    for token in text_tokens:\n",
    "        token = token.decode('utf-8')\n",
    "        \n",
    "        if prev_token == 'RT' and token.startswith('@'):\n",
    "            #print (token)\n",
    "            token = token.replace(\":\", \"\")\n",
    "            to_user = token.replace(\"@\", \"\")\n",
    "            #print (from_user + ',' + to_user)\n",
    "\n",
    "            from_user_id = \"\"\n",
    "            to_user_id = \"\"\n",
    "            if (from_user in users) == False:\n",
    "                users[from_user] = user_id\n",
    "                user_id = user_id + 1\n",
    "            from_user_id = users[from_user]\n",
    "            if (to_user in users) == False:\n",
    "                users[to_user] = user_id\n",
    "                user_id = user_id + 1\n",
    "            to_user_id = users[to_user]\n",
    "\n",
    "            # increment counter\n",
    "            pairwise_counter_dictionary[from_user_id, to_user_id] += 1\n",
    "\n",
    "        prev_token = token\n",
    "\n",
    "    # while loop counter\n",
    "    counter = counter + 1\n",
    "\n",
    "# print all nodes\n",
    "for key in users.keys():\n",
    "    output_file.write(\"  node\\n\")\n",
    "    output_file.write(\"  [\\n\")\n",
    "    output_file.write(\"    id \" + str(users[key]) + \"\\n\")\n",
    "    output_file.write(\"    label \\\"\" + key + \"\\\"\" + \"\\n\")\n",
    "    output_file.write(\"  ]\\n\")\n",
    "\n",
    "# print all edges\n",
    "for keys in pairwise_counter_dictionary.keys():\n",
    "    output_file.write(\"  edge\\n\")\n",
    "    output_file.write(\"  [\\n\")\n",
    "    output_file.write(\"    source \" + str(keys[0]) + \"\\n\")\n",
    "    output_file.write(\"    target \" + str(keys[1]) + \"\\n\")\n",
    "    output_file.write(\"    value \" + str(pairwise_counter_dictionary[keys[0], keys[1]]) + \"\\n\")\n",
    "    output_file.write(\"  ]\\n\")\n",
    "\n",
    "output_file.write(\"]\\n\")\n",
    "output_file.close()"
   ]
  },
  {
   "cell_type": "code",
   "execution_count": null,
   "metadata": {},
   "outputs": [],
   "source": []
  }
 ],
 "metadata": {
  "kernelspec": {
   "display_name": "Python 3",
   "language": "python",
   "name": "python3"
  },
  "language_info": {
   "codemirror_mode": {
    "name": "ipython",
    "version": 3
   },
   "file_extension": ".py",
   "mimetype": "text/x-python",
   "name": "python",
   "nbconvert_exporter": "python",
   "pygments_lexer": "ipython3",
   "version": "3.7.1"
  }
 },
 "nbformat": 4,
 "nbformat_minor": 2
}
