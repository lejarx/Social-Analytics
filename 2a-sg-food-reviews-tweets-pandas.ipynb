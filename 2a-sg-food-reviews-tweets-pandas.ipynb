{
 "cells": [
  {
   "cell_type": "markdown",
   "metadata": {},
   "source": [
    "Process tweets from the .txt file into table form. "
   ]
  },
  {
   "cell_type": "code",
   "execution_count": 15,
   "metadata": {},
   "outputs": [],
   "source": [
    "import pandas as pd\n",
    "import json"
   ]
  },
  {
   "cell_type": "code",
   "execution_count": 20,
   "metadata": {},
   "outputs": [
    {
     "data": {
      "text/html": [
       "<div>\n",
       "<style scoped>\n",
       "    .dataframe tbody tr th:only-of-type {\n",
       "        vertical-align: middle;\n",
       "    }\n",
       "\n",
       "    .dataframe tbody tr th {\n",
       "        vertical-align: top;\n",
       "    }\n",
       "\n",
       "    .dataframe thead th {\n",
       "        text-align: right;\n",
       "    }\n",
       "</style>\n",
       "<table border=\"1\" class=\"dataframe\">\n",
       "  <thead>\n",
       "    <tr style=\"text-align: right;\">\n",
       "      <th></th>\n",
       "      <th>handle</th>\n",
       "      <th>followers_count</th>\n",
       "      <th>statuses_count</th>\n",
       "      <th>retweet_count</th>\n",
       "      <th>date</th>\n",
       "      <th>text</th>\n",
       "    </tr>\n",
       "  </thead>\n",
       "  <tbody>\n",
       "    <tr>\n",
       "      <th>0</th>\n",
       "      <td>ColourMeGreen5</td>\n",
       "      <td>932</td>\n",
       "      <td>43895</td>\n",
       "      <td>0</td>\n",
       "      <td>Wed Jun 24 17:43:56 +0000 2020</td>\n",
       "      <td>b\"RT @stuindy: @BBCScotlandNews Not another 'c...</td>\n",
       "    </tr>\n",
       "    <tr>\n",
       "      <th>80</th>\n",
       "      <td>bharat3785</td>\n",
       "      <td>103</td>\n",
       "      <td>21136</td>\n",
       "      <td>0</td>\n",
       "      <td>Wed Jun 24 17:46:46 +0000 2020</td>\n",
       "      <td>b\"RT @pksinhamech: RajdipSardesai @sardesairaj...</td>\n",
       "    </tr>\n",
       "    <tr>\n",
       "      <th>78</th>\n",
       "      <td>darkwing_28</td>\n",
       "      <td>1</td>\n",
       "      <td>1</td>\n",
       "      <td>0</td>\n",
       "      <td>Wed Jun 24 17:46:39 +0000 2020</td>\n",
       "      <td>b'RT @GamehagOfficial: \\xf0\\x9f\\x92\\x8e Grab 5...</td>\n",
       "    </tr>\n",
       "    <tr>\n",
       "      <th>77</th>\n",
       "      <td>muhmmdrizall</td>\n",
       "      <td>137</td>\n",
       "      <td>778</td>\n",
       "      <td>0</td>\n",
       "      <td>Wed Jun 24 17:46:38 +0000 2020</td>\n",
       "      <td>b'@FirmanrevanoB Rodok trauma aku ngeterni awk...</td>\n",
       "    </tr>\n",
       "    <tr>\n",
       "      <th>76</th>\n",
       "      <td>abcdefghbimbo</td>\n",
       "      <td>1579</td>\n",
       "      <td>88321</td>\n",
       "      <td>0</td>\n",
       "      <td>Wed Jun 24 17:46:35 +0000 2020</td>\n",
       "      <td>b'RT @fiellamariaax: Ni baru raise awareness s...</td>\n",
       "    </tr>\n",
       "  </tbody>\n",
       "</table>\n",
       "</div>"
      ],
      "text/plain": [
       "            handle  followers_count  statuses_count  retweet_count  \\\n",
       "0   ColourMeGreen5              932           43895              0   \n",
       "80      bharat3785              103           21136              0   \n",
       "78     darkwing_28                1               1              0   \n",
       "77    muhmmdrizall              137             778              0   \n",
       "76   abcdefghbimbo             1579           88321              0   \n",
       "\n",
       "                              date  \\\n",
       "0   Wed Jun 24 17:43:56 +0000 2020   \n",
       "80  Wed Jun 24 17:46:46 +0000 2020   \n",
       "78  Wed Jun 24 17:46:39 +0000 2020   \n",
       "77  Wed Jun 24 17:46:38 +0000 2020   \n",
       "76  Wed Jun 24 17:46:35 +0000 2020   \n",
       "\n",
       "                                                 text  \n",
       "0   b\"RT @stuindy: @BBCScotlandNews Not another 'c...  \n",
       "80  b\"RT @pksinhamech: RajdipSardesai @sardesairaj...  \n",
       "78  b'RT @GamehagOfficial: \\xf0\\x9f\\x92\\x8e Grab 5...  \n",
       "77  b'@FirmanrevanoB Rodok trauma aku ngeterni awk...  \n",
       "76  b'RT @fiellamariaax: Ni baru raise awareness s...  "
      ]
     },
     "execution_count": 20,
     "metadata": {},
     "output_type": "execute_result"
    }
   ],
   "source": [
    "input_file_name = 'Twitter_SG_food_reviews.txt'\n",
    "\n",
    "tweets_file = open(input_file_name, \"r\")\n",
    "\n",
    "dict_ = {\n",
    "        'handle': [],\n",
    "        'followers_count': [],\n",
    "        'statuses_count': [],\n",
    "        'retweet_count': [],\n",
    "        'date': [],\n",
    "        'text': []\n",
    "        }\n",
    "\n",
    "for line in tweets_file:\n",
    "    try:\n",
    "        tweet = json.loads(line)\n",
    "        dict_['handle'].append(tweet['user']['screen_name'])\n",
    "        dict_['followers_count'].append(tweet['user']['followers_count'])\n",
    "        dict_['statuses_count'].append(tweet['user']['statuses_count'])\n",
    "        dict_['retweet_count'].append(tweet['retweet_count'])\n",
    "        dict_['date'].append(tweet['created_at'])\n",
    "        dict_['text'].append(tweet['text'].encode('utf-8'))\n",
    "    except:\n",
    "        continue\n",
    "    \n",
    "df = pd.DataFrame(dict_)\n",
    "df.sort_values(by='retweet_count', inplace=True, ascending=False)\n",
    "df.head(5)"
   ]
  },
  {
   "cell_type": "code",
   "execution_count": 21,
   "metadata": {},
   "outputs": [],
   "source": [
    "df.to_excel(\"sg-food-reviews-tweets.xlsx\")  "
   ]
  }
 ],
 "metadata": {
  "kernelspec": {
   "display_name": "Python 3",
   "language": "python",
   "name": "python3"
  },
  "language_info": {
   "codemirror_mode": {
    "name": "ipython",
    "version": 3
   },
   "file_extension": ".py",
   "mimetype": "text/x-python",
   "name": "python",
   "nbconvert_exporter": "python",
   "pygments_lexer": "ipython3",
   "version": "3.7.1"
  }
 },
 "nbformat": 4,
 "nbformat_minor": 2
}
