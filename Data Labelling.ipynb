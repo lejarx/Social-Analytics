{
 "cells": [
  {
   "cell_type": "markdown",
   "metadata": {
    "toc": true
   },
   "source": [
    "<h1>Table of Contents<span class=\"tocSkip\"></span></h1>\n",
    "<div class=\"toc\"><ul class=\"toc-item\"><li><span><a href=\"#Setting-up-Environment\" data-toc-modified-id=\"Setting-up-Environment-1\"><span class=\"toc-item-num\">1&nbsp;&nbsp;</span>Setting up Environment</a></span></li><li><span><a href=\"#Importing-Dataset\" data-toc-modified-id=\"Importing-Dataset-2\"><span class=\"toc-item-num\">2&nbsp;&nbsp;</span>Importing Dataset</a></span></li><li><span><a href=\"#Dummy-Food-names\" data-toc-modified-id=\"Dummy-Food-names-3\"><span class=\"toc-item-num\">3&nbsp;&nbsp;</span>Dummy Food names</a></span></li><li><span><a href=\"#Cuisine-Names\" data-toc-modified-id=\"Cuisine-Names-4\"><span class=\"toc-item-num\">4&nbsp;&nbsp;</span>Cuisine Names</a></span></li><li><span><a href=\"#Exporting-Dataset\" data-toc-modified-id=\"Exporting-Dataset-5\"><span class=\"toc-item-num\">5&nbsp;&nbsp;</span>Exporting Dataset</a></span></li></ul></div>"
   ]
  },
  {
   "cell_type": "markdown",
   "metadata": {},
   "source": [
    "# Setting up Environment"
   ]
  },
  {
   "cell_type": "code",
   "execution_count": 1,
   "metadata": {},
   "outputs": [],
   "source": [
    "import pandas as pd\n",
    "import numpy as np\n",
    "import random"
   ]
  },
  {
   "cell_type": "markdown",
   "metadata": {},
   "source": [
    "# Importing Dataset"
   ]
  },
  {
   "cell_type": "code",
   "execution_count": 2,
   "metadata": {},
   "outputs": [],
   "source": [
    "filepath = \"Instagram/Cleaned data/\"\n",
    "filename = \"All_posts.csv\""
   ]
  },
  {
   "cell_type": "code",
   "execution_count": 3,
   "metadata": {},
   "outputs": [
    {
     "data": {
      "text/html": [
       "<div>\n",
       "<style scoped>\n",
       "    .dataframe tbody tr th:only-of-type {\n",
       "        vertical-align: middle;\n",
       "    }\n",
       "\n",
       "    .dataframe tbody tr th {\n",
       "        vertical-align: top;\n",
       "    }\n",
       "\n",
       "    .dataframe thead th {\n",
       "        text-align: right;\n",
       "    }\n",
       "</style>\n",
       "<table border=\"1\" class=\"dataframe\">\n",
       "  <thead>\n",
       "    <tr style=\"text-align: right;\">\n",
       "      <th></th>\n",
       "      <th>timestamp</th>\n",
       "      <th>Username</th>\n",
       "      <th>caption</th>\n",
       "      <th>no. of likes</th>\n",
       "      <th>no. of comments</th>\n",
       "      <th>comments</th>\n",
       "    </tr>\n",
       "  </thead>\n",
       "  <tbody>\n",
       "    <tr>\n",
       "      <th>0</th>\n",
       "      <td>30/6/2020</td>\n",
       "      <td>8days_eat</td>\n",
       "      <td>Katong’s famous Hokkien mee and fried mee sua ...</td>\n",
       "      <td>326</td>\n",
       "      <td>7</td>\n",
       "      <td>['@lauren.khoury still can’t crack a smile 😬',...</td>\n",
       "    </tr>\n",
       "    <tr>\n",
       "      <th>1</th>\n",
       "      <td>30/6/2020</td>\n",
       "      <td>8days_eat</td>\n",
       "      <td>For the first time in Singapore, Heytea will b...</td>\n",
       "      <td>258</td>\n",
       "      <td>3</td>\n",
       "      <td>['Awesomeeeee neeed this now', '@becauseitsdon...</td>\n",
       "    </tr>\n",
       "    <tr>\n",
       "      <th>2</th>\n",
       "      <td>29/6/2020</td>\n",
       "      <td>8days_eat</td>\n",
       "      <td>Korean “fat-carons” — supersized macarons stuf...</td>\n",
       "      <td>453</td>\n",
       "      <td>3</td>\n",
       "      <td>['#8dayseat #sgfoodies #instafood #yum #sgfood...</td>\n",
       "    </tr>\n",
       "    <tr>\n",
       "      <th>3</th>\n",
       "      <td>29/6/2020</td>\n",
       "      <td>8days_eat</td>\n",
       "      <td>Online ordering system Oddle has launched a ne...</td>\n",
       "      <td>287</td>\n",
       "      <td>3</td>\n",
       "      <td>['THANK YOU 👀📸🔥', 'Absolutely love this tinkat...</td>\n",
       "    </tr>\n",
       "    <tr>\n",
       "      <th>4</th>\n",
       "      <td>29/6/2020</td>\n",
       "      <td>8days_eat</td>\n",
       "      <td>A canelé is a bite-sized French pastry from Bo...</td>\n",
       "      <td>431</td>\n",
       "      <td>3</td>\n",
       "      <td>['@jet8food , I see it! 😁', '@brave_nic', '🙏🏼💗💗']</td>\n",
       "    </tr>\n",
       "  </tbody>\n",
       "</table>\n",
       "</div>"
      ],
      "text/plain": [
       "   timestamp   Username                                            caption  \\\n",
       "0  30/6/2020  8days_eat  Katong’s famous Hokkien mee and fried mee sua ...   \n",
       "1  30/6/2020  8days_eat  For the first time in Singapore, Heytea will b...   \n",
       "2  29/6/2020  8days_eat  Korean “fat-carons” — supersized macarons stuf...   \n",
       "3  29/6/2020  8days_eat  Online ordering system Oddle has launched a ne...   \n",
       "4  29/6/2020  8days_eat  A canelé is a bite-sized French pastry from Bo...   \n",
       "\n",
       "   no. of likes  no. of comments  \\\n",
       "0           326                7   \n",
       "1           258                3   \n",
       "2           453                3   \n",
       "3           287                3   \n",
       "4           431                3   \n",
       "\n",
       "                                            comments  \n",
       "0  ['@lauren.khoury still can’t crack a smile 😬',...  \n",
       "1  ['Awesomeeeee neeed this now', '@becauseitsdon...  \n",
       "2  ['#8dayseat #sgfoodies #instafood #yum #sgfood...  \n",
       "3  ['THANK YOU 👀📸🔥', 'Absolutely love this tinkat...  \n",
       "4  ['@jet8food , I see it! 😁', '@brave_nic', '🙏🏼💗💗']  "
      ]
     },
     "execution_count": 3,
     "metadata": {},
     "output_type": "execute_result"
    }
   ],
   "source": [
    "df = pd.read_csv(filepath + filename)  \n",
    "df.head()"
   ]
  },
  {
   "cell_type": "code",
   "execution_count": 4,
   "metadata": {},
   "outputs": [],
   "source": [
    "numposts = df.shape[0]"
   ]
  },
  {
   "cell_type": "markdown",
   "metadata": {},
   "source": [
    "# Dummy Food names"
   ]
  },
  {
   "cell_type": "markdown",
   "metadata": {},
   "source": [
    "todo: replace with real food names"
   ]
  },
  {
   "cell_type": "code",
   "execution_count": 5,
   "metadata": {},
   "outputs": [],
   "source": [
    "# Set seed for reproducibility\n",
    "np.random.seed(0)"
   ]
  },
  {
   "cell_type": "code",
   "execution_count": 6,
   "metadata": {},
   "outputs": [
    {
     "data": {
      "text/html": [
       "<div>\n",
       "<style scoped>\n",
       "    .dataframe tbody tr th:only-of-type {\n",
       "        vertical-align: middle;\n",
       "    }\n",
       "\n",
       "    .dataframe tbody tr th {\n",
       "        vertical-align: top;\n",
       "    }\n",
       "\n",
       "    .dataframe thead th {\n",
       "        text-align: right;\n",
       "    }\n",
       "</style>\n",
       "<table border=\"1\" class=\"dataframe\">\n",
       "  <thead>\n",
       "    <tr style=\"text-align: right;\">\n",
       "      <th></th>\n",
       "      <th>timestamp</th>\n",
       "      <th>Username</th>\n",
       "      <th>caption</th>\n",
       "      <th>no. of likes</th>\n",
       "      <th>no. of comments</th>\n",
       "      <th>comments</th>\n",
       "      <th>food</th>\n",
       "    </tr>\n",
       "  </thead>\n",
       "  <tbody>\n",
       "    <tr>\n",
       "      <th>0</th>\n",
       "      <td>30/6/2020</td>\n",
       "      <td>8days_eat</td>\n",
       "      <td>Katong’s famous Hokkien mee and fried mee sua ...</td>\n",
       "      <td>326</td>\n",
       "      <td>7</td>\n",
       "      <td>['@lauren.khoury still can’t crack a smile 😬',...</td>\n",
       "      <td>food 5</td>\n",
       "    </tr>\n",
       "    <tr>\n",
       "      <th>1</th>\n",
       "      <td>30/6/2020</td>\n",
       "      <td>8days_eat</td>\n",
       "      <td>For the first time in Singapore, Heytea will b...</td>\n",
       "      <td>258</td>\n",
       "      <td>3</td>\n",
       "      <td>['Awesomeeeee neeed this now', '@becauseitsdon...</td>\n",
       "      <td>food 0</td>\n",
       "    </tr>\n",
       "    <tr>\n",
       "      <th>2</th>\n",
       "      <td>29/6/2020</td>\n",
       "      <td>8days_eat</td>\n",
       "      <td>Korean “fat-carons” — supersized macarons stuf...</td>\n",
       "      <td>453</td>\n",
       "      <td>3</td>\n",
       "      <td>['#8dayseat #sgfoodies #instafood #yum #sgfood...</td>\n",
       "      <td>food 3</td>\n",
       "    </tr>\n",
       "    <tr>\n",
       "      <th>3</th>\n",
       "      <td>29/6/2020</td>\n",
       "      <td>8days_eat</td>\n",
       "      <td>Online ordering system Oddle has launched a ne...</td>\n",
       "      <td>287</td>\n",
       "      <td>3</td>\n",
       "      <td>['THANK YOU 👀📸🔥', 'Absolutely love this tinkat...</td>\n",
       "      <td>food 3</td>\n",
       "    </tr>\n",
       "    <tr>\n",
       "      <th>4</th>\n",
       "      <td>29/6/2020</td>\n",
       "      <td>8days_eat</td>\n",
       "      <td>A canelé is a bite-sized French pastry from Bo...</td>\n",
       "      <td>431</td>\n",
       "      <td>3</td>\n",
       "      <td>['@jet8food , I see it! 😁', '@brave_nic', '🙏🏼💗💗']</td>\n",
       "      <td>food 7</td>\n",
       "    </tr>\n",
       "  </tbody>\n",
       "</table>\n",
       "</div>"
      ],
      "text/plain": [
       "   timestamp   Username                                            caption  \\\n",
       "0  30/6/2020  8days_eat  Katong’s famous Hokkien mee and fried mee sua ...   \n",
       "1  30/6/2020  8days_eat  For the first time in Singapore, Heytea will b...   \n",
       "2  29/6/2020  8days_eat  Korean “fat-carons” — supersized macarons stuf...   \n",
       "3  29/6/2020  8days_eat  Online ordering system Oddle has launched a ne...   \n",
       "4  29/6/2020  8days_eat  A canelé is a bite-sized French pastry from Bo...   \n",
       "\n",
       "   no. of likes  no. of comments  \\\n",
       "0           326                7   \n",
       "1           258                3   \n",
       "2           453                3   \n",
       "3           287                3   \n",
       "4           431                3   \n",
       "\n",
       "                                            comments    food  \n",
       "0  ['@lauren.khoury still can’t crack a smile 😬',...  food 5  \n",
       "1  ['Awesomeeeee neeed this now', '@becauseitsdon...  food 0  \n",
       "2  ['#8dayseat #sgfoodies #instafood #yum #sgfood...  food 3  \n",
       "3  ['THANK YOU 👀📸🔥', 'Absolutely love this tinkat...  food 3  \n",
       "4  ['@jet8food , I see it! 😁', '@brave_nic', '🙏🏼💗💗']  food 7  "
      ]
     },
     "execution_count": 6,
     "metadata": {},
     "output_type": "execute_result"
    }
   ],
   "source": [
    "df[\"food\"] = np.char.add(np.array([\"food \"]*numposts), np.random.randint(10, size=numposts).astype('str'))\n",
    "df.head()"
   ]
  },
  {
   "cell_type": "markdown",
   "metadata": {},
   "source": [
    "# Cuisine Names"
   ]
  },
  {
   "cell_type": "code",
   "execution_count": 7,
   "metadata": {},
   "outputs": [
    {
     "data": {
      "text/plain": [
       "array(['food 5', 'food 0', 'food 3', 'food 7', 'food 9', 'food 2',\n",
       "       'food 4', 'food 6', 'food 8', 'food 1'], dtype=object)"
      ]
     },
     "execution_count": 7,
     "metadata": {},
     "output_type": "execute_result"
    }
   ],
   "source": [
    "food_corpus = df[\"food\"].unique()\n",
    "food_corpus"
   ]
  },
  {
   "cell_type": "code",
   "execution_count": 8,
   "metadata": {},
   "outputs": [],
   "source": [
    "cuisines_corpus = {\"cuisine1\": ['food 1', 'food 2', 'food 3'],\n",
    "                   \"cuisine2\": ['food 4', 'food 5'],\n",
    "                   \"cuisine3\": ['food 6'],\n",
    "                   \"cuisine4\": ['food 7', 'food 8', 'food 9']\n",
    "                  }"
   ]
  },
  {
   "cell_type": "code",
   "execution_count": 9,
   "metadata": {},
   "outputs": [],
   "source": [
    "def get_cuisine(food):\n",
    "    for cuisine, foods in cuisines_corpus.items():\n",
    "        if food in foods:\n",
    "            return cuisine\n",
    "    return \"No cuisine found\""
   ]
  },
  {
   "cell_type": "code",
   "execution_count": 10,
   "metadata": {},
   "outputs": [
    {
     "data": {
      "text/html": [
       "<div>\n",
       "<style scoped>\n",
       "    .dataframe tbody tr th:only-of-type {\n",
       "        vertical-align: middle;\n",
       "    }\n",
       "\n",
       "    .dataframe tbody tr th {\n",
       "        vertical-align: top;\n",
       "    }\n",
       "\n",
       "    .dataframe thead th {\n",
       "        text-align: right;\n",
       "    }\n",
       "</style>\n",
       "<table border=\"1\" class=\"dataframe\">\n",
       "  <thead>\n",
       "    <tr style=\"text-align: right;\">\n",
       "      <th></th>\n",
       "      <th>timestamp</th>\n",
       "      <th>Username</th>\n",
       "      <th>caption</th>\n",
       "      <th>no. of likes</th>\n",
       "      <th>no. of comments</th>\n",
       "      <th>comments</th>\n",
       "      <th>food</th>\n",
       "      <th>cuisine</th>\n",
       "    </tr>\n",
       "  </thead>\n",
       "  <tbody>\n",
       "    <tr>\n",
       "      <th>0</th>\n",
       "      <td>30/6/2020</td>\n",
       "      <td>8days_eat</td>\n",
       "      <td>Katong’s famous Hokkien mee and fried mee sua ...</td>\n",
       "      <td>326</td>\n",
       "      <td>7</td>\n",
       "      <td>['@lauren.khoury still can’t crack a smile 😬',...</td>\n",
       "      <td>food 5</td>\n",
       "      <td>cuisine2</td>\n",
       "    </tr>\n",
       "    <tr>\n",
       "      <th>1</th>\n",
       "      <td>30/6/2020</td>\n",
       "      <td>8days_eat</td>\n",
       "      <td>For the first time in Singapore, Heytea will b...</td>\n",
       "      <td>258</td>\n",
       "      <td>3</td>\n",
       "      <td>['Awesomeeeee neeed this now', '@becauseitsdon...</td>\n",
       "      <td>food 0</td>\n",
       "      <td>No cuisine found</td>\n",
       "    </tr>\n",
       "    <tr>\n",
       "      <th>2</th>\n",
       "      <td>29/6/2020</td>\n",
       "      <td>8days_eat</td>\n",
       "      <td>Korean “fat-carons” — supersized macarons stuf...</td>\n",
       "      <td>453</td>\n",
       "      <td>3</td>\n",
       "      <td>['#8dayseat #sgfoodies #instafood #yum #sgfood...</td>\n",
       "      <td>food 3</td>\n",
       "      <td>cuisine1</td>\n",
       "    </tr>\n",
       "    <tr>\n",
       "      <th>3</th>\n",
       "      <td>29/6/2020</td>\n",
       "      <td>8days_eat</td>\n",
       "      <td>Online ordering system Oddle has launched a ne...</td>\n",
       "      <td>287</td>\n",
       "      <td>3</td>\n",
       "      <td>['THANK YOU 👀📸🔥', 'Absolutely love this tinkat...</td>\n",
       "      <td>food 3</td>\n",
       "      <td>cuisine1</td>\n",
       "    </tr>\n",
       "    <tr>\n",
       "      <th>4</th>\n",
       "      <td>29/6/2020</td>\n",
       "      <td>8days_eat</td>\n",
       "      <td>A canelé is a bite-sized French pastry from Bo...</td>\n",
       "      <td>431</td>\n",
       "      <td>3</td>\n",
       "      <td>['@jet8food , I see it! 😁', '@brave_nic', '🙏🏼💗💗']</td>\n",
       "      <td>food 7</td>\n",
       "      <td>cuisine4</td>\n",
       "    </tr>\n",
       "  </tbody>\n",
       "</table>\n",
       "</div>"
      ],
      "text/plain": [
       "   timestamp   Username                                            caption  \\\n",
       "0  30/6/2020  8days_eat  Katong’s famous Hokkien mee and fried mee sua ...   \n",
       "1  30/6/2020  8days_eat  For the first time in Singapore, Heytea will b...   \n",
       "2  29/6/2020  8days_eat  Korean “fat-carons” — supersized macarons stuf...   \n",
       "3  29/6/2020  8days_eat  Online ordering system Oddle has launched a ne...   \n",
       "4  29/6/2020  8days_eat  A canelé is a bite-sized French pastry from Bo...   \n",
       "\n",
       "   no. of likes  no. of comments  \\\n",
       "0           326                7   \n",
       "1           258                3   \n",
       "2           453                3   \n",
       "3           287                3   \n",
       "4           431                3   \n",
       "\n",
       "                                            comments    food           cuisine  \n",
       "0  ['@lauren.khoury still can’t crack a smile 😬',...  food 5          cuisine2  \n",
       "1  ['Awesomeeeee neeed this now', '@becauseitsdon...  food 0  No cuisine found  \n",
       "2  ['#8dayseat #sgfoodies #instafood #yum #sgfood...  food 3          cuisine1  \n",
       "3  ['THANK YOU 👀📸🔥', 'Absolutely love this tinkat...  food 3          cuisine1  \n",
       "4  ['@jet8food , I see it! 😁', '@brave_nic', '🙏🏼💗💗']  food 7          cuisine4  "
      ]
     },
     "execution_count": 10,
     "metadata": {},
     "output_type": "execute_result"
    }
   ],
   "source": [
    "df['cuisine'] = df[\"food\"].apply(get_cuisine)\n",
    "df.head()"
   ]
  },
  {
   "cell_type": "markdown",
   "metadata": {},
   "source": [
    "# Exporting Dataset"
   ]
  },
  {
   "cell_type": "code",
   "execution_count": 11,
   "metadata": {},
   "outputs": [],
   "source": [
    "df.to_csv(filepath + filename[:-4] + \"_dummyfood.csv\")"
   ]
  }
 ],
 "metadata": {
  "kernelspec": {
   "display_name": "Python 3",
   "language": "python",
   "name": "python3"
  },
  "language_info": {
   "codemirror_mode": {
    "name": "ipython",
    "version": 3
   },
   "file_extension": ".py",
   "mimetype": "text/x-python",
   "name": "python",
   "nbconvert_exporter": "python",
   "pygments_lexer": "ipython3",
   "version": "3.7.3"
  },
  "toc": {
   "base_numbering": 1,
   "nav_menu": {},
   "number_sections": true,
   "sideBar": true,
   "skip_h1_title": false,
   "title_cell": "Table of Contents",
   "title_sidebar": "Contents",
   "toc_cell": true,
   "toc_position": {},
   "toc_section_display": true,
   "toc_window_display": true
  }
 },
 "nbformat": 4,
 "nbformat_minor": 4
}
