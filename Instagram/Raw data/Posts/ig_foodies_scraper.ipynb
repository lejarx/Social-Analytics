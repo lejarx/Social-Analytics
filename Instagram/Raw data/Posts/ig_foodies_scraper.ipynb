{
 "cells": [
  {
   "cell_type": "markdown",
   "metadata": {
    "toc": true
   },
   "source": [
    "<h1>Table of Contents<span class=\"tocSkip\"></span></h1>\n",
    "<div class=\"toc\"><ul class=\"toc-item\"></ul></div>"
   ]
  },
  {
   "cell_type": "markdown",
   "metadata": {},
   "source": [
    "This workbook scrapes a foodies' ig page. "
   ]
  },
  {
   "cell_type": "code",
   "execution_count": null,
   "metadata": {},
   "outputs": [],
   "source": [
    "from selenium import webdriver\n",
    "from selenium.webdriver.chrome.options import Options\n",
    "from bs4 import BeautifulSoup as bs\n",
    "import time\n",
    "import re\n",
    "from urllib.request import urlopen\n",
    "import json\n",
    "from pandas.io.json import json_normalize\n",
    "import pandas as pd, numpy as np\n",
    "import datetime as dt\n",
    "import requests"
   ]
  },
  {
   "cell_type": "code",
   "execution_count": null,
   "metadata": {},
   "outputs": [],
   "source": [
    "# Specify IG username to scrape\n",
    "username = 'sheeatsshecooks'\n",
    "\n",
    "# Specify location of chromedriver.exe\n",
    "browser = webdriver.Chrome(executable_path=r'C:\\Users\\LENOVO\\Downloads\\chromedriver_win32\\chromedriver.exe')\n",
    "\n",
    "browser.get('https://www.instagram.com/'+username+'/?hl=en')\n",
    "\n",
    "Pagelength = browser.execute_script(\"window.scrollTo(0, document.body.scrollHeight);\")"
   ]
  },
  {
   "cell_type": "code",
   "execution_count": null,
   "metadata": {},
   "outputs": [],
   "source": [
    "# Put the user's IG pictures's links into a list called \"links\"\n",
    "links = []\n",
    "source = browser.page_source\n",
    "data = bs(source, 'html.parser')\n",
    "body = data.find('body')\n",
    "for link in body.findAll('a'):\n",
    "     if re.match(\"/p\", link.get('href')):\n",
    "        links.append('https://www.instagram.com' + link.get('href'))\n",
    "    \n",
    "# print(\"Number of Instagram images: \", len(links))\n",
    "# print(links)"
   ]
  },
  {
   "cell_type": "code",
   "execution_count": null,
   "metadata": {
    "scrolled": true
   },
   "outputs": [],
   "source": [
    "# Put the user's IG pictures's links into a list called \"links\"\n",
    "# Put more pictures' links into \"links\" \n",
    "\n",
    "Pagelength = browser.execute_script(\"window.scrollTo(0, document.body.scrollHeight/1.5);\")\n",
    "links = []\n",
    "source = browser.page_source\n",
    "data = bs(source, 'html.parser')\n",
    "body = data.find('body')\n",
    "for link in body.findAll('a'):\n",
    "     if re.match(\"/p\", link.get('href')):\n",
    "        links.append('https://www.instagram.com' + link.get('href'))\n",
    "\n",
    "# Sleep time is required. If you don't use this IG may interrupt the script and doesn't scroll through pages\n",
    "\n",
    "time.sleep(5) \n",
    "\n",
    "Pagelength = browser.execute_script(\"window.scrollTo(document.body.scrollHeight/1.5, document.body.scrollHeight/3.0);\")\n",
    "source = browser.page_source\n",
    "data = bs(source, 'html.parser')\n",
    "body = data.find('body')\n",
    "for link in body.findAll('a'):\n",
    "     if re.match(\"/p\", link.get('href')):\n",
    "        links.append('https://www.instagram.com' + link.get('href'))\n",
    "        \n",
    "print(\"Number of Instagram images: \", len(links))\n",
    "print(links)"
   ]
  },
  {
   "cell_type": "code",
   "execution_count": null,
   "metadata": {},
   "outputs": [],
   "source": [
    "# Open the pictures in \"links\"\n",
    "# Get details eg. timestamp, caption, comments, likes, etc. \n",
    "# Put details in dataframe\n",
    "\n",
    "def get_date(created):\n",
    "    return dt.datetime.fromtimestamp(int(created))\n",
    "\n",
    "df = pd.DataFrame()\n",
    "timestamp_list = []\n",
    "caption_list = []\n",
    "num_likes_list = [] \n",
    "num_comments_list = []\n",
    "comments_list = []\n",
    "    \n",
    "for link in links:\n",
    "    req = requests.get(link).text\n",
    "    soup = bs(req, \"html.parser\")\n",
    "    scripts = soup.find_all(\"script\")\n",
    "    for script in scripts:\n",
    "        if script.text[:18] == \"window._sharedData\":\n",
    "            break\n",
    "\n",
    "    data = json.loads(script.contents[0][21:-1])\n",
    "    \n",
    "    unix_time = data[\"entry_data\"][\"PostPage\"][0][\"graphql\"][\"shortcode_media\"][\"taken_at_timestamp\"]\n",
    "    human_time = get_date(unix_time)\n",
    "    caption = str(data[\"entry_data\"][\"PostPage\"][0][\"graphql\"][\"shortcode_media\"][\"edge_media_to_caption\"][\"edges\"][0][\"node\"][\"text\"])\n",
    "    num_likes = str(data[\"entry_data\"][\"PostPage\"][0][\"graphql\"][\"shortcode_media\"][\"edge_media_preview_like\"][\"count\"])\n",
    "    num_comments = str(data[\"entry_data\"][\"PostPage\"][0][\"graphql\"][\"shortcode_media\"][\"edge_media_to_parent_comment\"][\"count\"])\n",
    "\n",
    "    timestamp_list.append(human_time)\n",
    "    caption_list.append(caption)\n",
    "    num_likes_list.append(num_likes)\n",
    "    num_comments_list.append(num_comments)\n",
    "     \n",
    "    comments = []    \n",
    "    for i in range(len(data[\"entry_data\"][\"PostPage\"][0][\"graphql\"][\"shortcode_media\"][\"edge_media_to_parent_comment\"][\"edges\"])):\n",
    "        comments.append(data[\"entry_data\"][\"PostPage\"][0][\"graphql\"][\"shortcode_media\"][\"edge_media_to_parent_comment\"][\"edges\"][i][\"node\"][\"text\"])\n",
    "    comments_list.append(comments)\n",
    "        \n",
    "df[\"timestamp\"] = timestamp_list\n",
    "df[\"caption\"] = caption_list\n",
    "df[\"no. of likes\"] = num_likes_list\n",
    "df[\"no. of comments\"] = num_comments_list\n",
    "df[\"comments\"] = comments_list"
   ]
  },
  {
   "cell_type": "code",
   "execution_count": null,
   "metadata": {
    "scrolled": true
   },
   "outputs": [],
   "source": [
    "df.tail()"
   ]
  },
  {
   "cell_type": "code",
   "execution_count": null,
   "metadata": {},
   "outputs": [],
   "source": [
    "df.to_excel(\"sheeatsshecooks.xlsx\")  "
   ]
  }
 ],
 "metadata": {
  "kernelspec": {
   "display_name": "Python 3",
   "language": "python",
   "name": "python3"
  },
  "language_info": {
   "codemirror_mode": {
    "name": "ipython",
    "version": 3
   },
   "file_extension": ".py",
   "mimetype": "text/x-python",
   "name": "python",
   "nbconvert_exporter": "python",
   "pygments_lexer": "ipython3",
   "version": "3.7.3"
  },
  "toc": {
   "base_numbering": 1,
   "nav_menu": {},
   "number_sections": true,
   "sideBar": true,
   "skip_h1_title": false,
   "title_cell": "Table of Contents",
   "title_sidebar": "Contents",
   "toc_cell": true,
   "toc_position": {},
   "toc_section_display": true,
   "toc_window_display": true
  }
 },
 "nbformat": 4,
 "nbformat_minor": 2
}
